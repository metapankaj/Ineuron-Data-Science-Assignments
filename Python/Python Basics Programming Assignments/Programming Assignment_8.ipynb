{
 "cells": [
  {
   "cell_type": "markdown",
   "id": "1da875e9",
   "metadata": {},
   "source": [
    "**1. Write a Python Program to Add Two Matrices?**"
   ]
  },
  {
   "cell_type": "code",
   "execution_count": 1,
   "id": "df44ee50",
   "metadata": {},
   "outputs": [
    {
     "name": "stdout",
     "output_type": "stream",
     "text": [
      "Matrix Sum:\n",
      "[19, 61, 146]\n",
      "[30, 76, 20]\n",
      "[10, 82, 101]\n"
     ]
    }
   ],
   "source": [
    "def add_matrices(matrix1, matrix2):\n",
    "    # Check if the matrices have the same dimensions\n",
    "    if len(matrix1) != len(matrix2) or len(matrix1[0]) != len(matrix2[0]):\n",
    "        print(\"Error: Matrices must have the same dimensions\")\n",
    "        return None\n",
    "\n",
    "    # Create a new matrix to store the result\n",
    "    result = []\n",
    "    for i in range(len(matrix1)):\n",
    "        row = []\n",
    "        for j in range(len(matrix1[0])):\n",
    "            row.append(matrix1[i][j] + matrix2[i][j])\n",
    "        result.append(row)\n",
    "\n",
    "    return result\n",
    "\n",
    "# Example matrices\n",
    "matrix1 = [[10, 23, 73],\n",
    "           [14, 25, 16],\n",
    "           [7, 58, 90]]\n",
    "\n",
    "matrix2 = [[9, 38, 73],\n",
    "           [16, 51, 4],\n",
    "           [3, 24, 11]]\n",
    "\n",
    "# Add the matrices\n",
    "result = add_matrices(matrix1, matrix2)\n",
    "\n",
    "# Print the result\n",
    "if result is not None:\n",
    "    print(\"Matrix Sum:\")\n",
    "    for row in result:\n",
    "        print(row)"
   ]
  },
  {
   "cell_type": "markdown",
   "id": "b5e62824",
   "metadata": {},
   "source": [
    "**2. Write a Python Program to Multiply Two Matrices?**"
   ]
  },
  {
   "cell_type": "code",
   "execution_count": 2,
   "id": "8050ace9",
   "metadata": {},
   "outputs": [
    {
     "name": "stdout",
     "output_type": "stream",
     "text": [
      "Matrix Product:\n",
      "[41, 22]\n",
      "[77, 39]\n"
     ]
    }
   ],
   "source": [
    "def multiply_matrices(matrix1, matrix2):\n",
    "    # Check if the matrices can be multiplied\n",
    "    if len(matrix1[0]) != len(matrix2):\n",
    "        print(\"Error: Matrices cannot be multiplied\")\n",
    "        return None\n",
    "\n",
    "    # Create a new matrix to store the result\n",
    "    result = []\n",
    "    for i in range(len(matrix1)):\n",
    "        row = []\n",
    "        for j in range(len(matrix2[0])):\n",
    "            element = 0\n",
    "            for k in range(len(matrix2)):\n",
    "                element += matrix1[i][k] * matrix2[k][j]\n",
    "            row.append(element)\n",
    "        result.append(row)\n",
    "\n",
    "    return result\n",
    "\n",
    "# Example matrices\n",
    "matrix1 = [[5, 2],\n",
    "           [8, 7]]\n",
    "\n",
    "matrix2 = [[7, 4],\n",
    "           [3, 1]]\n",
    "\n",
    "# Multiply the matrices\n",
    "result = multiply_matrices(matrix1, matrix2)\n",
    "\n",
    "# Print the result\n",
    "if result is not None:\n",
    "    print(\"Matrix Product:\")\n",
    "    for row in result:\n",
    "        print(row)"
   ]
  },
  {
   "cell_type": "markdown",
   "id": "b7eb6895",
   "metadata": {},
   "source": [
    "**3. Write a Python Program to Transpose a Matrix?**"
   ]
  },
  {
   "cell_type": "code",
   "execution_count": 3,
   "id": "ce04725a",
   "metadata": {},
   "outputs": [
    {
     "name": "stdout",
     "output_type": "stream",
     "text": [
      "Original Matrix:\n",
      "[3, 5, 11]\n",
      "[7, 54, 68]\n",
      "[2, 28, 9]\n",
      "Transposed Matrix:\n",
      "[3, 7, 2]\n",
      "[5, 54, 28]\n",
      "[11, 68, 9]\n"
     ]
    }
   ],
   "source": [
    "def transpose_matrix(matrix):\n",
    "    # Get the dimensions of the matrix\n",
    "    rows = len(matrix)\n",
    "    cols = len(matrix[0])\n",
    "\n",
    "    # Create a new matrix to store the transposed elements\n",
    "    transposed = []\n",
    "    for j in range(cols):\n",
    "        row = []\n",
    "        for i in range(rows):\n",
    "            row.append(matrix[i][j])\n",
    "        transposed.append(row)\n",
    "\n",
    "    return transposed\n",
    "\n",
    "# Example matrix\n",
    "matrix = [[3, 5, 11],\n",
    "          [7, 54, 68],\n",
    "          [2, 28, 9]]\n",
    "\n",
    "# Transpose the matrix\n",
    "transposed_matrix = transpose_matrix(matrix)\n",
    "\n",
    "# Print the transposed matrix\n",
    "print(\"Original Matrix:\")\n",
    "for row in matrix:\n",
    "    print(row)\n",
    "\n",
    "print(\"Transposed Matrix:\")\n",
    "for row in transposed_matrix:\n",
    "    print(row)"
   ]
  },
  {
   "cell_type": "markdown",
   "id": "b069c1da",
   "metadata": {},
   "source": [
    "**4. Write a Python Program to Sort Words in Alphabetic Order?**"
   ]
  },
  {
   "cell_type": "code",
   "execution_count": 4,
   "id": "b789f8e4",
   "metadata": {},
   "outputs": [
    {
     "name": "stdout",
     "output_type": "stream",
     "text": [
      "Sorted Words:\n",
      "Python\n",
      "a\n",
      "high-level,\n",
      "interpreted\n",
      "is\n",
      "language\n",
      "programming\n"
     ]
    }
   ],
   "source": [
    "def sort_words(words):\n",
    "    # Split the sentence into individual words\n",
    "    word_list = words.split()\n",
    "\n",
    "    # Sort the words in alphabetical order\n",
    "    sorted_words = sorted(word_list)\n",
    "\n",
    "    return sorted_words\n",
    "\n",
    "# Example sentence\n",
    "sentence = \"Python is a high-level, interpreted programming language \"\n",
    "\n",
    "# Sort the words in the sentence\n",
    "sorted_words = sort_words(sentence)\n",
    "\n",
    "# Print the sorted words\n",
    "print(\"Sorted Words:\")\n",
    "for word in sorted_words:\n",
    "    print(word)"
   ]
  },
  {
   "cell_type": "markdown",
   "id": "3f2fa3c1",
   "metadata": {},
   "source": [
    "**5. Write a Python Program to Remove Punctuation From a String?**"
   ]
  },
  {
   "cell_type": "code",
   "execution_count": 5,
   "id": "7e54cde3",
   "metadata": {},
   "outputs": [
    {
     "name": "stdout",
     "output_type": "stream",
     "text": [
      "String without Punctuation: Hello world How are you doing Im doing great\n"
     ]
    }
   ],
   "source": [
    "import string\n",
    "\n",
    "def remove_punctuation(text):\n",
    "    # Create a translation table to remove punctuation\n",
    "    translation_table = str.maketrans(\"\", \"\", string.punctuation)\n",
    "\n",
    "    # Remove punctuation from the text\n",
    "    text_without_punct = text.translate(translation_table)\n",
    "\n",
    "    return text_without_punct\n",
    "\n",
    "# Example string\n",
    "string_with_punct = \"Hello, world! How are you doing? I'm doing great.\"\n",
    "\n",
    "# Remove punctuation from the string\n",
    "string_without_punct = remove_punctuation(string_with_punct)\n",
    "\n",
    "# Print the string without punctuation\n",
    "print(\"String without Punctuation:\", string_without_punct)"
   ]
  }
 ],
 "metadata": {
  "kernelspec": {
   "display_name": "Python 3 (ipykernel)",
   "language": "python",
   "name": "python3"
  },
  "language_info": {
   "codemirror_mode": {
    "name": "ipython",
    "version": 3
   },
   "file_extension": ".py",
   "mimetype": "text/x-python",
   "name": "python",
   "nbconvert_exporter": "python",
   "pygments_lexer": "ipython3",
   "version": "3.10.9"
  }
 },
 "nbformat": 4,
 "nbformat_minor": 5
}
