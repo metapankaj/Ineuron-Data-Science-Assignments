{
 "cells": [
  {
   "cell_type": "markdown",
   "id": "f2524338",
   "metadata": {},
   "source": [
    "### 1.\tWrite a Python program to print \"Hello Python\"?"
   ]
  },
  {
   "cell_type": "code",
   "execution_count": 1,
   "id": "f0f06eef",
   "metadata": {},
   "outputs": [
    {
     "name": "stdout",
     "output_type": "stream",
     "text": [
      "Hello Python\n"
     ]
    }
   ],
   "source": [
    "print(\"Hello Python\")"
   ]
  },
  {
   "cell_type": "markdown",
   "id": "2783d1b7",
   "metadata": {},
   "source": [
    "### 2.\tWrite a Python program to do arithmetical operations addition and division.?"
   ]
  },
  {
   "cell_type": "code",
   "execution_count": 2,
   "id": "a1ccbb5c",
   "metadata": {},
   "outputs": [
    {
     "name": "stdout",
     "output_type": "stream",
     "text": [
      "enter first number: 10\n",
      "enter second number: 20\n",
      "addition of numbers is: 30.0\n"
     ]
    }
   ],
   "source": [
    "#addition\n",
    "\n",
    "a = float(input('enter first number: '))\n",
    "b = float(input('enter second number: '))\n",
    "print('addition of numbers is:' , a+b)"
   ]
  },
  {
   "cell_type": "code",
   "execution_count": 3,
   "id": "52f48bfe",
   "metadata": {},
   "outputs": [
    {
     "name": "stdout",
     "output_type": "stream",
     "text": [
      "enter first number: 100\n",
      "enter second number: 20\n",
      "division of numbers is: 5.0\n"
     ]
    }
   ],
   "source": [
    "#division\n",
    "a = float(input('enter first number: '))\n",
    "b = float(input('enter second number: '))\n",
    "print('division of numbers is:' , a/b)"
   ]
  },
  {
   "cell_type": "markdown",
   "id": "7ca4e4fa",
   "metadata": {},
   "source": [
    "### 3.\tWrite a Python program to find the area of a triangle?"
   ]
  },
  {
   "cell_type": "code",
   "execution_count": 4,
   "id": "5bc01c73",
   "metadata": {},
   "outputs": [
    {
     "name": "stdout",
     "output_type": "stream",
     "text": [
      "Enter length of first side: 4\n",
      "Enter length of second side: 5\n",
      "Enter length of third side: 6\n",
      "The area of the triangle is 9.92\n"
     ]
    }
   ],
   "source": [
    "# Python Program to find the area of triangle\n",
    "\n",
    "# inputs from the user\n",
    "a = float(input('Enter length of first side: '))\n",
    "b = float(input('Enter length of second side: '))\n",
    "c = float(input('Enter length of third side: '))\n",
    "\n",
    "# Calculating the semi-perimeter\n",
    "s = (a + b + c) / 2\n",
    "\n",
    "# Calculating the area\n",
    "area = (s*(s-a)*(s-b)*(s-c)) ** 0.5\n",
    "print('The area of the triangle is %0.2f' %area)"
   ]
  },
  {
   "cell_type": "markdown",
   "id": "0f07a71e",
   "metadata": {},
   "source": [
    "### 4.\tWrite a Python program to swap two variables?"
   ]
  },
  {
   "cell_type": "code",
   "execution_count": 5,
   "id": "6cae83a8",
   "metadata": {},
   "outputs": [
    {
     "name": "stdout",
     "output_type": "stream",
     "text": [
      "Value of a: 6\n",
      "Value of b: 5\n"
     ]
    }
   ],
   "source": [
    "# Python program to demonstrate\n",
    "# swapping of two variables\n",
    "\n",
    "\n",
    "a = 5\n",
    "b = 6\n",
    "\n",
    "# Swapping of two variables\n",
    "\n",
    "a, b = b, a\n",
    "\n",
    "print(\"Value of a:\", a)\n",
    "print(\"Value of b:\", b)\n"
   ]
  },
  {
   "cell_type": "markdown",
   "id": "79097679",
   "metadata": {},
   "source": [
    "### 5.\tWrite a Python program to generate a random number?"
   ]
  },
  {
   "cell_type": "code",
   "execution_count": 6,
   "id": "e25fedc4",
   "metadata": {},
   "outputs": [
    {
     "name": "stdout",
     "output_type": "stream",
     "text": [
      "347\n"
     ]
    }
   ],
   "source": [
    "import random\n",
    "num = random.randint(0,1000)\n",
    "print(num)"
   ]
  }
 ],
 "metadata": {
  "kernelspec": {
   "display_name": "Python 3 (ipykernel)",
   "language": "python",
   "name": "python3"
  },
  "language_info": {
   "codemirror_mode": {
    "name": "ipython",
    "version": 3
   },
   "file_extension": ".py",
   "mimetype": "text/x-python",
   "name": "python",
   "nbconvert_exporter": "python",
   "pygments_lexer": "ipython3",
   "version": "3.11.2"
  }
 },
 "nbformat": 4,
 "nbformat_minor": 5
}
