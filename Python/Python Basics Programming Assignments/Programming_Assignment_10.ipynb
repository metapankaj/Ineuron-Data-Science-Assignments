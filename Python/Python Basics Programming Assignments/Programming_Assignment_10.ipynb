{
 "cells": [
  {
   "cell_type": "markdown",
   "id": "c67ef6ad",
   "metadata": {},
   "source": [
    "**1. Write a Python program to find sum of elements in list?**"
   ]
  },
  {
   "cell_type": "code",
   "execution_count": 1,
   "id": "22b28e9c",
   "metadata": {},
   "outputs": [
    {
     "name": "stdout",
     "output_type": "stream",
     "text": [
      "Enter a list of numbers separated by spaces: 2 5 3 5 7 8\n",
      "The sum of the elements in the list is: 30\n"
     ]
    }
   ],
   "source": [
    "def find_sum(elements):\n",
    "    sum_of_elements = 0\n",
    "    for element in elements:\n",
    "        sum_of_elements += element\n",
    "    return sum_of_elements\n",
    "\n",
    "# Take user input to create a list\n",
    "user_input = input(\"Enter a list of numbers separated by spaces: \")\n",
    "user_list = [int(num) for num in user_input.split()]\n",
    "\n",
    "# Calculate the sum of the elements in the list\n",
    "total_sum = find_sum(user_list)\n",
    "print(\"The sum of the elements in the list is:\", total_sum)"
   ]
  },
  {
   "cell_type": "markdown",
   "id": "577a29c9",
   "metadata": {},
   "source": [
    "**2. Write a Python program to Multiply all numbers in the list?**"
   ]
  },
  {
   "cell_type": "code",
   "execution_count": 2,
   "id": "3c5c127c",
   "metadata": {},
   "outputs": [
    {
     "name": "stdout",
     "output_type": "stream",
     "text": [
      "Enter the numbers separated by spaces: 2 4 2 5 7 4\n",
      "The product of the numbers in the list is: 2240\n"
     ]
    }
   ],
   "source": [
    "def multiply_numbers(numbers):\n",
    "    result = 1\n",
    "    for num in numbers:\n",
    "        result *= num\n",
    "    return result\n",
    "\n",
    "# Take user input for the list of numbers\n",
    "user_input = input(\"Enter the numbers separated by spaces: \")\n",
    "user_list = [int(num) for num in user_input.split()]\n",
    "\n",
    "# Call the function with the user-provided list\n",
    "product = multiply_numbers(user_list)\n",
    "print(\"The product of the numbers in the list is:\", product)"
   ]
  },
  {
   "cell_type": "markdown",
   "id": "37e4f43e",
   "metadata": {},
   "source": [
    "**3. Write a Python program to find smallest number in a list?**"
   ]
  },
  {
   "cell_type": "code",
   "execution_count": 3,
   "id": "50ad2639",
   "metadata": {},
   "outputs": [
    {
     "name": "stdout",
     "output_type": "stream",
     "text": [
      "Enter the numbers separated by spaces: 6 2 21 45 9 0\n",
      "The smallest number in the list is: 0\n"
     ]
    }
   ],
   "source": [
    "def find_smallest_number(numbers):\n",
    "    smallest = numbers[0]  # Assume the first number is the smallest\n",
    "    for num in numbers:\n",
    "        if num < smallest:\n",
    "            smallest = num\n",
    "    return smallest\n",
    "\n",
    "# Take user input for the list of numbers\n",
    "user_input = input(\"Enter the numbers separated by spaces: \")\n",
    "user_list = [int(num) for num in user_input.split()]\n",
    "\n",
    "# Call the function with the user-provided list\n",
    "smallest_number = find_smallest_number(user_list)\n",
    "print(\"The smallest number in the list is:\", smallest_number)"
   ]
  },
  {
   "cell_type": "markdown",
   "id": "e2a35e7e",
   "metadata": {},
   "source": [
    "4. Write a Python program to find largest number in a list?"
   ]
  },
  {
   "cell_type": "code",
   "execution_count": 4,
   "id": "ae0cdd61",
   "metadata": {},
   "outputs": [
    {
     "name": "stdout",
     "output_type": "stream",
     "text": [
      "Enter the numbers separated by spaces: 1 2 8 3 9 2 6\n",
      "The largest number in the list is: 9\n"
     ]
    }
   ],
   "source": [
    "def find_largest_number(numbers):\n",
    "    largest = numbers[0]  # Assume the first number is the largest\n",
    "    for num in numbers:\n",
    "        if num > largest:\n",
    "            largest = num\n",
    "    return largest\n",
    "\n",
    "# Take user input for the list of numbers\n",
    "user_input = input(\"Enter the numbers separated by spaces: \")\n",
    "user_list = [int(num) for num in user_input.split()]\n",
    "\n",
    "# Call the function with the user-provided list\n",
    "largest_number = find_largest_number(user_list)\n",
    "print(\"The largest number in the list is:\", largest_number)"
   ]
  },
  {
   "cell_type": "markdown",
   "id": "03344521",
   "metadata": {},
   "source": [
    "5. Write a Python program to find second largest number in a list?"
   ]
  },
  {
   "cell_type": "code",
   "execution_count": 5,
   "id": "a674a94e",
   "metadata": {},
   "outputs": [
    {
     "name": "stdout",
     "output_type": "stream",
     "text": [
      "Enter the numbers separated by spaces: 1 23 4 5 6 7 8\n",
      "The second largest number in the list is: 8\n"
     ]
    }
   ],
   "source": [
    "def find_second_largest_number(numbers):\n",
    "    if len(numbers) < 2:\n",
    "        return \"List should contain at least two numbers.\"\n",
    "\n",
    "    largest = float('-inf')\n",
    "    second_largest = float('-inf')\n",
    "\n",
    "    for num in numbers:\n",
    "        if num > largest:\n",
    "            second_largest = largest\n",
    "            largest = num\n",
    "        elif num > second_largest and num != largest:\n",
    "            second_largest = num\n",
    "\n",
    "    if second_largest == float('-inf'):\n",
    "        return \"There is no second largest number in the list.\"\n",
    "    else:\n",
    "        return second_largest\n",
    "\n",
    "# Take user input for the list of numbers\n",
    "user_input = input(\"Enter the numbers separated by spaces: \")\n",
    "user_list = [int(num) for num in user_input.split()]\n",
    "\n",
    "# Call the function with the user-provided list\n",
    "second_largest_number = find_second_largest_number(user_list)\n",
    "print(\"The second largest number in the list is:\", second_largest_number)"
   ]
  },
  {
   "cell_type": "markdown",
   "id": "690c05d3",
   "metadata": {},
   "source": [
    "6. Write a Python program to find N largest elements from a list?"
   ]
  },
  {
   "cell_type": "code",
   "execution_count": 6,
   "id": "292f2c0d",
   "metadata": {},
   "outputs": [
    {
     "name": "stdout",
     "output_type": "stream",
     "text": [
      "Enter the numbers separated by spaces: 1 2 34 5 6\n",
      "Enter the value of N: 2\n",
      "The 2 largest elements in the list are: [34, 6]\n"
     ]
    }
   ],
   "source": [
    "def find_n_largest_elements(numbers, n):\n",
    "    if len(numbers) < n:\n",
    "        return \"List does not contain enough elements.\"\n",
    "\n",
    "    sorted_numbers = sorted(numbers, reverse=True)\n",
    "    n_largest_elements = sorted_numbers[:n]\n",
    "    return n_largest_elements\n",
    "\n",
    "# Take user input for the list of numbers\n",
    "user_input = input(\"Enter the numbers separated by spaces: \")\n",
    "user_list = [int(num) for num in user_input.split()]\n",
    "\n",
    "# Take user input for the value of N\n",
    "n = int(input(\"Enter the value of N: \"))\n",
    "\n",
    "# Call the function with the user-provided list and N\n",
    "n_largest_elements = find_n_largest_elements(user_list, n)\n",
    "print(\"The\", n, \"largest elements in the list are:\", n_largest_elements)"
   ]
  },
  {
   "cell_type": "markdown",
   "id": "3c1c595c",
   "metadata": {},
   "source": [
    "7. Write a Python program to print even numbers in a list?"
   ]
  },
  {
   "cell_type": "code",
   "execution_count": 7,
   "id": "0fe05c4a",
   "metadata": {},
   "outputs": [
    {
     "name": "stdout",
     "output_type": "stream",
     "text": [
      "Enter the numbers separated by spaces: 1 0 3 4 5 3\n",
      "Even numbers in the list:\n",
      "0\n",
      "4\n"
     ]
    }
   ],
   "source": [
    "def print_even_numbers(numbers):\n",
    "    even_numbers = [num for num in numbers if num % 2 == 0]\n",
    "    for num in even_numbers:\n",
    "        print(num)\n",
    "\n",
    "# Take user input for the list of numbers\n",
    "user_input = input(\"Enter the numbers separated by spaces: \")\n",
    "user_list = [int(num) for num in user_input.split()]\n",
    "\n",
    "# Call the function with the user-provided list\n",
    "print(\"Even numbers in the list:\")\n",
    "print_even_numbers(user_list)"
   ]
  },
  {
   "cell_type": "markdown",
   "id": "ebc9402c",
   "metadata": {},
   "source": [
    "8. Write a Python program to print odd numbers in a List?"
   ]
  },
  {
   "cell_type": "code",
   "execution_count": 8,
   "id": "db7f1380",
   "metadata": {},
   "outputs": [
    {
     "name": "stdout",
     "output_type": "stream",
     "text": [
      "Enter the numbers separated by spaces: 2 9 4 3 9 5\n",
      "Odd numbers in the list:\n",
      "9\n",
      "3\n",
      "9\n",
      "5\n"
     ]
    }
   ],
   "source": [
    "def print_odd_numbers(numbers):\n",
    "    odd_numbers = [num for num in numbers if num % 2 != 0]\n",
    "    for num in odd_numbers:\n",
    "        print(num)\n",
    "\n",
    "# Take user input for the list of numbers\n",
    "user_input = input(\"Enter the numbers separated by spaces: \")\n",
    "user_list = [int(num) for num in user_input.split()]\n",
    "\n",
    "# Call the function with the user-provided list\n",
    "print(\"Odd numbers in the list:\")\n",
    "print_odd_numbers(user_list)"
   ]
  },
  {
   "cell_type": "markdown",
   "id": "0e094f01",
   "metadata": {},
   "source": [
    "9. Write a Python program to Remove empty List from List?"
   ]
  },
  {
   "cell_type": "code",
   "execution_count": 9,
   "id": "1818ae68",
   "metadata": {},
   "outputs": [
    {
     "name": "stdout",
     "output_type": "stream",
     "text": [
      "Enter the lists separated by commas: 1,2,3,4,5\n",
      "List after removing empty lists: [['1'], ['2'], ['3'], ['4'], ['5']]\n"
     ]
    }
   ],
   "source": [
    "def remove_empty_lists(lst):\n",
    "    non_empty_lists = [sublist for sublist in lst if sublist]\n",
    "    return non_empty_lists\n",
    "\n",
    "# Take user input for the list of lists\n",
    "user_input = input(\"Enter the lists separated by commas: \")\n",
    "user_list = [sublist.split() for sublist in user_input.split(',')]\n",
    "\n",
    "# Call the function with the user-provided list\n",
    "filtered_list = remove_empty_lists(user_list)\n",
    "print(\"List after removing empty lists:\", filtered_list)"
   ]
  },
  {
   "cell_type": "markdown",
   "id": "8e5871d6",
   "metadata": {},
   "source": [
    "10. Write a Python program to Cloning or Copying a list?"
   ]
  },
  {
   "cell_type": "code",
   "execution_count": 10,
   "id": "89f74e0f",
   "metadata": {},
   "outputs": [
    {
     "name": "stdout",
     "output_type": "stream",
     "text": [
      "Enter the elements separated by spaces: 3 2 1 5\n",
      "Original list: ['3', '2', '1', '5']\n",
      "Cloned list: ['3', '2', '1', '5']\n"
     ]
    }
   ],
   "source": [
    "def clone_list(lst):\n",
    "    cloned_list = lst.copy()\n",
    "    return cloned_list\n",
    "\n",
    "# Take user input for the list of elements\n",
    "user_input = input(\"Enter the elements separated by spaces: \")\n",
    "user_list = [element for element in user_input.split()]\n",
    "\n",
    "# Call the function with the user-provided list\n",
    "cloned_list = clone_list(user_list)\n",
    "print(\"Original list:\", user_list)\n",
    "print(\"Cloned list:\", cloned_list)"
   ]
  },
  {
   "cell_type": "markdown",
   "id": "f7715bf1",
   "metadata": {},
   "source": [
    "11. Write a Python program to Count occurrences of an element in a list?"
   ]
  },
  {
   "cell_type": "code",
   "execution_count": 11,
   "id": "ebbec25e",
   "metadata": {},
   "outputs": [
    {
     "name": "stdout",
     "output_type": "stream",
     "text": [
      "Enter the numbers separated by spaces: 2 3 45 6 4 3 2 0 1 3\n",
      "Enter the element to count: 2\n",
      "2 has occurred 2 times\n"
     ]
    }
   ],
   "source": [
    "def countX(lst, x):\n",
    "    count = 0\n",
    "    for ele in lst:\n",
    "        if ele == x:\n",
    "            count = count + 1\n",
    "    return \"{} has occurred {} times\".format(x, count)\n",
    "\n",
    "# Take user input for the list of numbers\n",
    "user_input = input(\"Enter the numbers separated by spaces: \")\n",
    "user_list = [int(num) for num in user_input.split()]\n",
    "\n",
    "# Take user input for the element to count\n",
    "element = int(input(\"Enter the element to count: \"))\n",
    "\n",
    "# Call the function with the user-provided list and element\n",
    "result = countX(user_list, element)\n",
    "print(result)"
   ]
  }
 ],
 "metadata": {
  "kernelspec": {
   "display_name": "Python 3 (ipykernel)",
   "language": "python",
   "name": "python3"
  },
  "language_info": {
   "codemirror_mode": {
    "name": "ipython",
    "version": 3
   },
   "file_extension": ".py",
   "mimetype": "text/x-python",
   "name": "python",
   "nbconvert_exporter": "python",
   "pygments_lexer": "ipython3",
   "version": "3.10.9"
  }
 },
 "nbformat": 4,
 "nbformat_minor": 5
}
