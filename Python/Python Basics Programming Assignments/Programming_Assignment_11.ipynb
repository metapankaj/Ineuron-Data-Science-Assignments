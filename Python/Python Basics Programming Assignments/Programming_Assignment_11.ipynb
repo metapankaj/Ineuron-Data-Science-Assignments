{
 "cells": [
  {
   "cell_type": "markdown",
   "id": "87197857",
   "metadata": {},
   "source": [
    "**1. Write a Python program to find words which are greater than given length k?**"
   ]
  },
  {
   "cell_type": "code",
   "execution_count": 1,
   "id": "8d0b4134",
   "metadata": {},
   "outputs": [
    {
     "name": "stdout",
     "output_type": "stream",
     "text": [
      "Enter a list of words, separated by spaces: Python is an interpreted programming language\n",
      "Enter the minimum length of words to find: 4\n",
      "Words greater than length 4 :\n",
      "['Python', 'interpreted', 'programming', 'language']\n"
     ]
    }
   ],
   "source": [
    "def find_long_words(words, k):\n",
    "    long_words = []\n",
    "    for word in words:\n",
    "        if len(word) > k:\n",
    "            long_words.append(word)\n",
    "    return long_words\n",
    "\n",
    "# User input\n",
    "word_list = input(\"Enter a list of words, separated by spaces: \").split()\n",
    "k = int(input(\"Enter the minimum length of words to find: \"))\n",
    "\n",
    "result = find_long_words(word_list, k)\n",
    "print(\"Words greater than length\", k, \":\")\n",
    "print(result)"
   ]
  },
  {
   "cell_type": "markdown",
   "id": "5bcd2fbb",
   "metadata": {},
   "source": [
    "**2. Write a Python program for removing i-th character from a string?**"
   ]
  },
  {
   "cell_type": "code",
   "execution_count": 2,
   "id": "1c1ce4b5",
   "metadata": {},
   "outputs": [
    {
     "name": "stdout",
     "output_type": "stream",
     "text": [
      "Ënter a string :Python is an interpreted programming language\n",
      "Enter the ith character to remove :8\n",
      " Python i an interpreted programming language\n"
     ]
    }
   ],
   "source": [
    "def remove_ith_char():\n",
    "    string = input(\"Ënter a string :\")\n",
    "    len_char = int(input(\"Enter the ith character to remove :\"))\n",
    "    output = \" \"\n",
    "    for character in range(len(string)):\n",
    "        if character != len_char:\n",
    "            output = output + string[character]\n",
    "    print(output)\n",
    "        \n",
    "remove_ith_char()"
   ]
  },
  {
   "cell_type": "markdown",
   "id": "8211e94e",
   "metadata": {},
   "source": [
    "**3. Write a Python program to split and join a string?**"
   ]
  },
  {
   "cell_type": "code",
   "execution_count": 3,
   "id": "baa03601",
   "metadata": {},
   "outputs": [
    {
     "name": "stdout",
     "output_type": "stream",
     "text": [
      "Enter a string : Python is an interpreted programming language\n",
      "The split is : ['Python', 'is', 'an', 'interpreted', 'programming', 'language']\n",
      "The join is : Python-is-an-interpreted-programming-language\n"
     ]
    }
   ],
   "source": [
    "def split_join():\n",
    "    string = input(\"Enter a string : \")\n",
    "    print( f\"The split is : {string.split(' ')}\")\n",
    "    print(f\"The join is : {'-'.join(string.split(' '))}\")\n",
    "split_join()"
   ]
  },
  {
   "cell_type": "markdown",
   "id": "6a40ae54",
   "metadata": {},
   "source": [
    "**4. Write a Python to check if a given string is binary string or not?**"
   ]
  },
  {
   "cell_type": "code",
   "execution_count": 4,
   "id": "645a480e",
   "metadata": {},
   "outputs": [
    {
     "name": "stdout",
     "output_type": "stream",
     "text": [
      "Enter a string : Python is an interpreted programming language\n",
      "No, This is not a binary String\n",
      "Enter a string : language\n",
      "No, This is not a binary String\n"
     ]
    }
   ],
   "source": [
    "def checkstringbinary():\n",
    "    string = input(\"Enter a string : \")\n",
    "    value = '01'\n",
    "    count = 0\n",
    "    for char in string:\n",
    "        if char not in value:\n",
    "            count = 1\n",
    "            break\n",
    "        else:\n",
    "            pass\n",
    "    if count:\n",
    "        print(\"No, This is not a binary String\")\n",
    "    else:\n",
    "        print(\"Yes, It is a binary String\")\n",
    "        \n",
    "checkstringbinary()\n",
    "checkstringbinary()"
   ]
  },
  {
   "cell_type": "markdown",
   "id": "18976029",
   "metadata": {},
   "source": [
    "**5. Write a Python program to find uncommon words from two Strings?**"
   ]
  },
  {
   "cell_type": "code",
   "execution_count": 5,
   "id": "8ae73931",
   "metadata": {},
   "outputs": [
    {
     "name": "stdout",
     "output_type": "stream",
     "text": [
      "Ënter a String :Python is an interpreted programming language\n",
      "Ënter a String :python\n",
      "['python']\n"
     ]
    }
   ],
   "source": [
    "def uncommonwords():\n",
    "    string1 = input(\"Ënter a String :\")\n",
    "    string2 = input(\"Ënter a String :\")\n",
    "    \n",
    "    un_common = [i for i in \"\".join(string2).split() if i not in \"\".join(string1).split()]\n",
    "    return un_common\n",
    "print(uncommonwords())"
   ]
  },
  {
   "cell_type": "markdown",
   "id": "60a45d73",
   "metadata": {},
   "source": [
    "**6. Write a Python to find all duplicate characters in string?**"
   ]
  },
  {
   "cell_type": "code",
   "execution_count": 6,
   "id": "e35707ca",
   "metadata": {},
   "outputs": [
    {
     "name": "stdout",
     "output_type": "stream",
     "text": [
      "Enter a string :Python is an interpreted programming language\n",
      "The duplicate elements are:  ['e', 'i', 'n', 'p', ' ', 'o', 'g', 't', 'r', 'a', 'm']\n"
     ]
    }
   ],
   "source": [
    "def dup_char_str():\n",
    "    string = input(\"Enter a string :\")\n",
    "    lst_dup = []\n",
    "    non_lst_dup = []\n",
    "    for ele in string:\n",
    "        if ele not in non_lst_dup:\n",
    "            non_lst_dup.append(ele)\n",
    "        else:\n",
    "            lst_dup.append(ele)\n",
    "    print(\"The duplicate elements are: \",list(set(lst_dup)))\n",
    "dup_char_str()   "
   ]
  },
  {
   "cell_type": "markdown",
   "id": "8763438a",
   "metadata": {},
   "source": [
    "**7. Write a Python Program to check if a string contains any special character?**"
   ]
  },
  {
   "cell_type": "code",
   "execution_count": 8,
   "id": "133dcbc1",
   "metadata": {},
   "outputs": [
    {
     "name": "stdout",
     "output_type": "stream",
     "text": [
      "Ënter a String :I love programming in Python! \n",
      " ['!']\n"
     ]
    }
   ],
   "source": [
    "def specialchar():\n",
    "    spl_chars = '[@_!#$%^&*()<>?/\\|}{~:]'\n",
    "    string = input(\"Ënter a String :\")\n",
    "    count = 0\n",
    "    lst = []\n",
    "    for ele in string:\n",
    "        if ele in spl_chars:\n",
    "            lst.append(ele)\n",
    "            count = count + 1\n",
    "    print(\"\",lst)\n",
    "\n",
    "specialchar()"
   ]
  }
 ],
 "metadata": {
  "kernelspec": {
   "display_name": "Python 3 (ipykernel)",
   "language": "python",
   "name": "python3"
  },
  "language_info": {
   "codemirror_mode": {
    "name": "ipython",
    "version": 3
   },
   "file_extension": ".py",
   "mimetype": "text/x-python",
   "name": "python",
   "nbconvert_exporter": "python",
   "pygments_lexer": "ipython3",
   "version": "3.10.9"
  }
 },
 "nbformat": 4,
 "nbformat_minor": 5
}
