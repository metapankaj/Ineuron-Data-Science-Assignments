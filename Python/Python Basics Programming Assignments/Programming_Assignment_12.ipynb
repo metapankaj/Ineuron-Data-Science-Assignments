{
 "cells": [
  {
   "cell_type": "markdown",
   "id": "14f9131f",
   "metadata": {},
   "source": [
    "**1. Write a Python program to Extract Unique values dictionary values?**"
   ]
  },
  {
   "cell_type": "code",
   "execution_count": 1,
   "id": "5efe7278",
   "metadata": {},
   "outputs": [
    {
     "data": {
      "text/plain": [
       "['tuesday', 'monday', 'sunday', 'wednesday']"
      ]
     },
     "execution_count": 1,
     "metadata": {},
     "output_type": "execute_result"
    }
   ],
   "source": [
    "def unique_dictvalues():\n",
    "    dict_val = {1:'sunday', 2:'monday', 3:'monday', 4:'sunday', 5:'tuesday', 6: 'wednesday'}\n",
    "    result = list(set(dict_val.values()))\n",
    "    return result\n",
    "unique_dictvalues()"
   ]
  },
  {
   "cell_type": "markdown",
   "id": "ceb391d9",
   "metadata": {},
   "source": [
    "**2. Write a Python program to find the sum of all items in a dictionary?**"
   ]
  },
  {
   "cell_type": "code",
   "execution_count": 2,
   "id": "baa8cf07",
   "metadata": {},
   "outputs": [
    {
     "name": "stdout",
     "output_type": "stream",
     "text": [
      "The sum of all items is 100\n"
     ]
    }
   ],
   "source": [
    "dict_file = {'a':10, 'b':20, 'c':30, 'd':40}\n",
    "print(f'The sum of all items is {sum(dict_file.values())}')"
   ]
  },
  {
   "cell_type": "markdown",
   "id": "0a397975",
   "metadata": {},
   "source": [
    "**3. Write a Python program to Merging two Dictionaries?**"
   ]
  },
  {
   "cell_type": "code",
   "execution_count": 3,
   "id": "ff6bcf76",
   "metadata": {},
   "outputs": [
    {
     "name": "stdout",
     "output_type": "stream",
     "text": [
      "{'name': 'Pankaj', 'email': 'metapankaj@gmail.com', 'sports': 'cricket', 'country': 'india'}\n"
     ]
    }
   ],
   "source": [
    "dict1 = {'name' :'Pankaj', 'email':'metapankaj@gmail.com'}\n",
    "dict2 = {'sports':'cricket', 'country':'india'}\n",
    "dict1.update(dict2)\n",
    "print(dict1)"
   ]
  },
  {
   "cell_type": "markdown",
   "id": "8da06cd1",
   "metadata": {},
   "source": [
    "**4. Write a Python program to convert key-values list to flat dictionary?**"
   ]
  },
  {
   "cell_type": "code",
   "execution_count": 4,
   "id": "cd0a73ee",
   "metadata": {},
   "outputs": [
    {
     "name": "stdout",
     "output_type": "stream",
     "text": [
      "{'a': 1, 'b': 2, 'c': 3, 'd': 4}\n"
     ]
    }
   ],
   "source": [
    "lst_values =[('a',1),('b',2),('c',3),('d',4)]\n",
    "print(dict(lst_values))"
   ]
  },
  {
   "cell_type": "markdown",
   "id": "b4cc3e87",
   "metadata": {},
   "source": [
    "**5. Write a Python program to insertion at the beginning in OrderedDict?**"
   ]
  },
  {
   "cell_type": "code",
   "execution_count": 5,
   "id": "826b8ec9",
   "metadata": {},
   "outputs": [
    {
     "name": "stdout",
     "output_type": "stream",
     "text": [
      "OrderedDict([('d', 4), ('a', 1), ('b', 2), ('c', 3)])\n"
     ]
    }
   ],
   "source": [
    "from collections import OrderedDict\n",
    "ordered_dict = OrderedDict({'a': 1, 'b': 2, 'c': 3, 'd': 4})\n",
    "ordered_dict.move_to_end('d', last = False)\n",
    "print(ordered_dict)"
   ]
  },
  {
   "cell_type": "markdown",
   "id": "aaaaf6de",
   "metadata": {},
   "source": [
    "**6. Write a Python program to check order of character in string using OrderedDict()?**"
   ]
  },
  {
   "cell_type": "code",
   "execution_count": 6,
   "id": "acda16bc",
   "metadata": {},
   "outputs": [],
   "source": [
    "from collections import OrderedDict\n",
    "\n",
    "def checkOrder(input, pattern):\n",
    "    \n",
    "    dict = OrderedDict.fromkeys(input)\n",
    "    #print(dict)\n",
    "    ptrlen = 0\n",
    "    for key,value in dict.items():\n",
    "        if (key == pattern[ptrlen]):\n",
    "            ptrlen = ptrlen + 1\n",
    "        if (ptrlen == (len(pattern))):\n",
    "            return 'true'\n",
    "\n",
    "    return 'false'"
   ]
  },
  {
   "cell_type": "code",
   "execution_count": 7,
   "id": "aadc0c11",
   "metadata": {},
   "outputs": [
    {
     "name": "stdout",
     "output_type": "stream",
     "text": [
      "true\n"
     ]
    }
   ],
   "source": [
    "input = 'hello world'\n",
    "pattern = 'lo'\n",
    "print (checkOrder(input,pattern))"
   ]
  },
  {
   "cell_type": "markdown",
   "id": "dd56bd5b",
   "metadata": {},
   "source": [
    "**7. Write a Python program to sort Python Dictionaries by Key or Value?**"
   ]
  },
  {
   "cell_type": "code",
   "execution_count": 8,
   "id": "5e5ef8b1",
   "metadata": {},
   "outputs": [
    {
     "name": "stdout",
     "output_type": "stream",
     "text": [
      "('a', 'bca') ('b', 'ggs') ('c', 'ere') ('d', 'ter') ('e', 'abc') "
     ]
    }
   ],
   "source": [
    "sort_dict = {'e':'abc', 'a':'bca', 'd' :'ter', 'b':'ggs', 'c':'ere'}\n",
    "for i in sorted(sort_dict):\n",
    "    print((i,sort_dict[i]), end = \" \")"
   ]
  }
 ],
 "metadata": {
  "kernelspec": {
   "display_name": "Python 3 (ipykernel)",
   "language": "python",
   "name": "python3"
  },
  "language_info": {
   "codemirror_mode": {
    "name": "ipython",
    "version": 3
   },
   "file_extension": ".py",
   "mimetype": "text/x-python",
   "name": "python",
   "nbconvert_exporter": "python",
   "pygments_lexer": "ipython3",
   "version": "3.10.9"
  }
 },
 "nbformat": 4,
 "nbformat_minor": 5
}
