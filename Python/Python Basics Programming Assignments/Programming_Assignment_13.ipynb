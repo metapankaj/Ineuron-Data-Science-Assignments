{
 "cells": [
  {
   "cell_type": "markdown",
   "id": "3672fc55",
   "metadata": {},
   "source": [
    "**Question 1:**\n",
    "\n",
    "**Write a program that calculates and prints the value according to the given formula:**\n",
    "<br><b>`Q = Square root of [(2 * C * D)/H]`</b>\n",
    "\n",
    "Following are the fixed values of C and H:<br>\n",
    "C is 50. H is 30.<br>\n",
    "\n",
    "D is the variable whose values should be input to your program in a comma-separated\n",
    "sequence.\n",
    "\n",
    "Example\n",
    "\n",
    "Let us assume the following comma separated input sequence is given to the program:\n",
    "100,150,180\n",
    "\n",
    "The output of the program should be:\n",
    "18,22,24"
   ]
  },
  {
   "cell_type": "code",
   "execution_count": 1,
   "id": "32fb12f8",
   "metadata": {},
   "outputs": [
    {
     "name": "stdout",
     "output_type": "stream",
     "text": [
      "Enter the values : \n",
      "100,150,180\n",
      "The Output is: \n",
      "18,22,24,"
     ]
    }
   ],
   "source": [
    "D = [int(num) for num in input('Enter the values : \\n').split(',')]\n",
    "C = 50\n",
    "H = 30\n",
    "res = []\n",
    "for i in range(len(D)):\n",
    "    Q = ((2*C*D[i])/H)**0.5\n",
    "    res.append(Q)\n",
    "print(f'The Output is: ')\n",
    "for j in range(len(res)):\n",
    "    print(round(int(res[j]), 0), end=\",\")"
   ]
  },
  {
   "cell_type": "markdown",
   "id": "6b8e0284",
   "metadata": {},
   "source": [
    "<br> <b>Question 2:</b>\n",
    "\n",
    "<br> <b>Write a program which takes 2 digits, X,Y as input and generates a 2-dimensional array.The\n",
    "element value in the i-th row and j-th column of the array should be i*j.</b>\n",
    "<br>`Note: i=0,1.., X-1; j=0,1,¡Y-1.`\n",
    "<br>Example\n",
    "<br>Suppose the following inputs are given to the program:\n",
    "3,5\n",
    "<br>Then, the output of the program should be:\n",
    "[[0, 0, 0, 0, 0], [0, 1, 2, 3, 4], [0, 2, 4, 6, 8]]"
   ]
  },
  {
   "cell_type": "code",
   "execution_count": 2,
   "id": "7512c91f",
   "metadata": {},
   "outputs": [
    {
     "name": "stdout",
     "output_type": "stream",
     "text": [
      "Enter a value : 3\n",
      "Enter a value : 5\n",
      "[[0, 0, 0, 0, 0], [0, 1, 2, 3, 4], [0, 2, 4, 6, 8]]\n"
     ]
    }
   ],
   "source": [
    "import numpy as np\n",
    "\n",
    "X = int(input(\"Enter a value : \"))\n",
    "Y = int(input(\"Enter a value : \"))\n",
    "matrix = []\n",
    "for i in range(X):\n",
    "    l = []\n",
    "    for j in range(Y):\n",
    "        l.append(i * j)\n",
    "    matrix.append(l)\n",
    "print(matrix)"
   ]
  },
  {
   "cell_type": "markdown",
   "id": "c80bbdf0",
   "metadata": {},
   "source": [
    "<br><b>Question 3:</b>\n",
    "\n",
    "<br><b>Write a program that accepts a comma separated sequence of words as input and prints the\n",
    "words in a comma-separated sequence after sorting them alphabetically.</b>\n",
    "<br>Suppose the following input is supplied to the program:\n",
    "<br>`without,hello,bag,world`\n",
    "<br>Then, the output should be:\n",
    "<br>`bag,hello,without,world`"
   ]
  },
  {
   "cell_type": "code",
   "execution_count": 3,
   "id": "abd8ec2e",
   "metadata": {},
   "outputs": [
    {
     "name": "stdout",
     "output_type": "stream",
     "text": [
      "Enter the values :\n",
      "without,hello,bag,world\n",
      "bag,hello,without,world,"
     ]
    }
   ],
   "source": [
    "def comma_sep_seq():\n",
    "    seq = input(\"Enter the values :\\n\")\n",
    "    stri = []\n",
    "    for ele in seq.split(\",\"):\n",
    "        stri.append(ele)\n",
    "        stri.sort()\n",
    "    for j in stri:\n",
    "        print(str(j), end = ',')\n",
    "        \n",
    "comma_sep_seq()"
   ]
  },
  {
   "cell_type": "markdown",
   "id": "445b9221",
   "metadata": {},
   "source": [
    "<br><b>Question 4:</b>\n",
    "    \n",
    "<br><b>Write a program that accepts a sequence of whitespace separated words as input and prints\n",
    "the words after removing all duplicate words and sorting them alphanumerically.</b>\n",
    "\n",
    "<br>Suppose the following input is supplied to the program:\n",
    "<br>`hello world and practice makes perfect and hello world again`\n",
    "<br>Then, the output should be:\n",
    "<br>`again and hello makes perfect practice world`"
   ]
  },
  {
   "cell_type": "code",
   "execution_count": 4,
   "id": "03b2db23",
   "metadata": {},
   "outputs": [
    {
     "name": "stdout",
     "output_type": "stream",
     "text": [
      "Enter the values :\n",
      "hello world and practice makes perfect and hello world again\n",
      "again and hello makes perfect practice world "
     ]
    }
   ],
   "source": [
    "def seq_whitespace():\n",
    "    seq = input(\"Enter the values :\\n\")\n",
    "    stri = []\n",
    "    for ele in seq.split(\" \"):\n",
    "        stri.append(ele)\n",
    "        stri.sort()\n",
    "    for j in sorted(set(sorted(stri))):\n",
    "        print(str(j), end = ' ')\n",
    "seq_whitespace()"
   ]
  },
  {
   "cell_type": "markdown",
   "id": "21084fae",
   "metadata": {},
   "source": [
    "<br><b>Question 5:</b>\n",
    "\n",
    "<br><b>Write a program that accepts a sentence and calculate the number of letters and digits.</b>\n",
    "\n",
    "<br>Suppose the following input is supplied to the program:\n",
    "<br>hello world! 123\n",
    "<br>Then, the output should be:\n",
    "<br>LETTERS 10\n",
    "<br>DIGITS 3"
   ]
  },
  {
   "cell_type": "code",
   "execution_count": 5,
   "id": "f7b6e7b5",
   "metadata": {},
   "outputs": [
    {
     "name": "stdout",
     "output_type": "stream",
     "text": [
      "Enter a sentence: hello world! 123\n",
      "LETTERS 10 \n",
      " DIGITS 3\n"
     ]
    }
   ],
   "source": [
    "def number_letter_digit():\n",
    "    sentence = input(\"Enter a sentence: \")\n",
    "    letter = 0\n",
    "    digit = 0\n",
    "    for ele in sentence:\n",
    "        if ele.isalpha():\n",
    "            letter = letter + 1\n",
    "        elif ele.isdigit():\n",
    "            digit = digit + 1\n",
    "        else:\n",
    "            pass\n",
    "    print(f'LETTERS {letter} \\n DIGITS {digit}')\n",
    "number_letter_digit()"
   ]
  },
  {
   "cell_type": "markdown",
   "id": "3204df0b",
   "metadata": {},
   "source": [
    "**Question 6:**\n",
    "\n",
    "**A website requires the users to input username and password to register.**\n",
    "\n",
    "Write a program to check the validity of password input by users.\n",
    "\n",
    "Following are the criteria for checking the password:\n",
    "<br>1. At least 1 letter between [a-z]\n",
    "<br>2. At least 1 number between [0-9]\n",
    "<br>1. At least 1 letter between [A-Z]\n",
    "<br>3. At least 1 character from [$#@]\n",
    "<br>4. Minimum length of transaction password: 6\n",
    "<br>5. Maximum length of transaction password: 12\n",
    "<br>Your program should accept a sequence of comma separated passwords and will check them\n",
    "according to the above criteria. \n",
    "<br>Passwords that match the criteria are to be printed, each separated by a comma.\n",
    "\n",
    "<br>Example\n",
    "\n",
    "<br>If the following passwords are given as input to the program:\n",
    "\n",
    "<br>`ABd1234@1,a F1#,2w3E*,2We3345`\n",
    "<br>Then, the output of the program should be:\n",
    "<br>`ABd1234@1`"
   ]
  },
  {
   "cell_type": "code",
   "execution_count": 6,
   "id": "04687e6b",
   "metadata": {},
   "outputs": [
    {
     "name": "stdout",
     "output_type": "stream",
     "text": [
      "Enter the passwords: ABd1234@1,a F1#,2w3E*,2We3345\n",
      "ABd1234@1\n"
     ]
    }
   ],
   "source": [
    "def validy_check_pwd():\n",
    "    pwd = input(\"Enter the passwords: \")\n",
    "    char = \"$#@\"\n",
    "    for ele in pwd.split(','):\n",
    "        if len(ele) <= 12 and len(ele) >=6 :\n",
    "            if any(i.isupper() for i in ele):\n",
    "                if any(i.islower() for i in ele):\n",
    "                    if any(i for i in ele if i in char):\n",
    "                        if any(i.isdigit() for i in ele):\n",
    "                            print(ele)\n",
    "                               \n",
    "validy_check_pwd()"
   ]
  }
 ],
 "metadata": {
  "kernelspec": {
   "display_name": "Python 3 (ipykernel)",
   "language": "python",
   "name": "python3"
  },
  "language_info": {
   "codemirror_mode": {
    "name": "ipython",
    "version": 3
   },
   "file_extension": ".py",
   "mimetype": "text/x-python",
   "name": "python",
   "nbconvert_exporter": "python",
   "pygments_lexer": "ipython3",
   "version": "3.10.9"
  }
 },
 "nbformat": 4,
 "nbformat_minor": 5
}
