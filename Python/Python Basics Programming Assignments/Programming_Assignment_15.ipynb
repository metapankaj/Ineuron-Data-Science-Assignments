{
 "cells": [
  {
   "cell_type": "markdown",
   "id": "e20a0ab9",
   "metadata": {},
   "source": [
    "**Question 1:**\n",
    "\n",
    "**Please write a program using generator to print the numbers which can be divisible by 5 and\n",
    "7 between 0 and n in comma separated form while n is input by console.**\n",
    "\n",
    "Example:\n",
    "If the following n is given as input to the program:\n",
    "100\n",
    "Then, the output of the program should be:\n",
    "0,35,70"
   ]
  },
  {
   "cell_type": "code",
   "execution_count": 1,
   "id": "b28ac12a",
   "metadata": {},
   "outputs": [
    {
     "name": "stdout",
     "output_type": "stream",
     "text": [
      "Enter the value: 100\n",
      "0,35,70\n"
     ]
    }
   ],
   "source": [
    "def generator_number():\n",
    "    n = int(input(\"Enter the value: \"))\n",
    "    for i in range(n):\n",
    "        if i%5 == 0 and i%7 == 0:\n",
    "            yield(i)\n",
    "l = []\n",
    "for i in generator_number():\n",
    "    l.append(i)\n",
    "print(*l, sep = ',')"
   ]
  },
  {
   "cell_type": "markdown",
   "id": "e9d7ce1b",
   "metadata": {},
   "source": [
    "**Question 2:**\n",
    "\n",
    "**Please write a program using generator to print the even numbers between 0 and n in comma\n",
    "separated form while n is input by console.**\n",
    "\n",
    "Example:\n",
    "\n",
    "If the following n is given as input to the program:\n",
    "10\n",
    "Then, the output of the program should be:\n",
    "0,2,4,6,8,10"
   ]
  },
  {
   "cell_type": "code",
   "execution_count": 2,
   "id": "979feb7a",
   "metadata": {},
   "outputs": [
    {
     "name": "stdout",
     "output_type": "stream",
     "text": [
      "Enter the value: 20\n",
      "0,2,4,6,8,10,12,14,16,18,20\n"
     ]
    }
   ],
   "source": [
    "def generator_number_even():\n",
    "    n = int(input(\"Enter the value: \"))\n",
    "    for i in range(0, n+1):\n",
    "        if i%2 == 0:\n",
    "            yield(i)\n",
    "l = []\n",
    "for i in generator_number_even():\n",
    "    l.append(i)\n",
    "print(*l, sep = ',')"
   ]
  },
  {
   "cell_type": "markdown",
   "id": "bd6b4058",
   "metadata": {},
   "source": [
    "**Question 3:**\n",
    "\n",
    "**The Fibonacci Sequence is computed based on the following formula:**\n",
    "\n",
    "<br>f(n)=0 if n=0\n",
    "<br>f(n)=1 if n=1\n",
    "<br>f(n)=f(n-1)+f(n-2) if n>1\n",
    "\n",
    "Please write a program using list comprehension to print the Fibonacci Sequence in comma\n",
    "separated form with a given n input by console.\n",
    "\n",
    "Example:\n",
    "If the following n is given as input to the program:\n",
    "7\n",
    "\n",
    "Then, the output of the program should be:\n",
    "0,1,1,2,3,5,8,13"
   ]
  },
  {
   "cell_type": "code",
   "execution_count": 3,
   "id": "e920ba8e",
   "metadata": {},
   "outputs": [
    {
     "name": "stdout",
     "output_type": "stream",
     "text": [
      "Enter the input: 10\n",
      "0,1,1,2,3,5,8,13,21,34,55\n"
     ]
    }
   ],
   "source": [
    "def fibonacci_seq():\n",
    "    n = int(input(\"Enter the input: \"))\n",
    "    fib_list = [0,1]\n",
    "    [fib_list.append(fib_list[i -1] + fib_list[i -2]) for i in range(2,n+1)]\n",
    "    if n<=0:\n",
    "        print('+ve numbers only')\n",
    "    elif n == 1:\n",
    "        fib_list = [fib_list[0]]\n",
    "        print(*fib_list, sep = ',')\n",
    "    else:\n",
    "        print(*fib_list, sep = ',')\n",
    "fibonacci_seq()"
   ]
  },
  {
   "cell_type": "markdown",
   "id": "18c0bb8b",
   "metadata": {},
   "source": [
    "**Question 4:**\n",
    "\n",
    "**Assuming that we have some email addresses in the \"username@companyname.com\" format,**\n",
    "\n",
    "please write program to print the user name of a given email address. Both user names and\n",
    "company names are composed of letters only.\n",
    "\n",
    "<br>Example:\n",
    "<br>If the following email address is given as input to the program:\n",
    "<br>john@google.com\n",
    "<br>Then, the output of the program should be:\n",
    "<br>john"
   ]
  },
  {
   "cell_type": "code",
   "execution_count": 4,
   "id": "9f048bf9",
   "metadata": {},
   "outputs": [
    {
     "name": "stdout",
     "output_type": "stream",
     "text": [
      "Enter the email address : metapankaj@gmail.com\n",
      "The email is : metapankaj@gmail.com \n",
      "The username is : metapankaj\n"
     ]
    }
   ],
   "source": [
    "def print_username():\n",
    "    email = input(\"Enter the email address : \")\n",
    "    username = email.split(\"@\")\n",
    "    print(f'The email is : {email} \\nThe username is : {username[0]}')\n",
    "for i in range(1):\n",
    "    print_username()"
   ]
  },
  {
   "cell_type": "markdown",
   "id": "ff5e8150",
   "metadata": {},
   "source": [
    "**Question 5:**\n",
    "\n",
    "**Define a class named Shape and its subclass Square. The Square class has an init function\n",
    "which takes a length as argument. Both classes have a area function which can print the area\n",
    "of the shape where Shape&#39;s area is 0 by default.**"
   ]
  },
  {
   "cell_type": "code",
   "execution_count": 6,
   "id": "02f4936a",
   "metadata": {},
   "outputs": [
    {
     "data": {
      "text/plain": [
       "25"
      ]
     },
     "execution_count": 6,
     "metadata": {},
     "output_type": "execute_result"
    }
   ],
   "source": [
    "class Shape:\n",
    "    def area(self):\n",
    "        return 0\n",
    "class Square(Shape):\n",
    "    def __init__(self, length):\n",
    "        self.length = length\n",
    "    def area(self):\n",
    "        return self.length*self.length\n",
    "\n",
    "square = Square(5)\n",
    "square.area()"
   ]
  }
 ],
 "metadata": {
  "kernelspec": {
   "display_name": "Python 3 (ipykernel)",
   "language": "python",
   "name": "python3"
  },
  "language_info": {
   "codemirror_mode": {
    "name": "ipython",
    "version": 3
   },
   "file_extension": ".py",
   "mimetype": "text/x-python",
   "name": "python",
   "nbconvert_exporter": "python",
   "pygments_lexer": "ipython3",
   "version": "3.10.9"
  }
 },
 "nbformat": 4,
 "nbformat_minor": 5
}
