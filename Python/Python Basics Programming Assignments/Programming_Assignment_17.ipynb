{
 "cells": [
  {
   "cell_type": "markdown",
   "id": "37124089",
   "metadata": {},
   "source": [
    "**Question1.**\n",
    "<br>**Create a function that takes three arguments a, b, c and returns the sum of the\n",
    "numbers that are evenly divided by c from the range a, b inclusive.**\n",
    "<br>Examples\n",
    "<br>evenly_divisible(1, 10, 20) ➞ 0\n",
    "<br>#  No number between 1 and 10 can be evenly divided by 20.\n",
    "<br>evenly_divisible(1, 10, 2) ➞ 30\n",
    "<br>#  2 + 4 + 6 + 8 + 10 = 30\n",
    "<br>evenly_divisible(1, 10, 3) ➞ 18\n",
    "<br># 3 + 6 + 9 = 18"
   ]
  },
  {
   "cell_type": "code",
   "execution_count": 1,
   "id": "a5ac2adb",
   "metadata": {},
   "outputs": [
    {
     "name": "stdout",
     "output_type": "stream",
     "text": [
      "Enter the starting number (a): 1\n",
      "Enter the ending number (b): 10\n",
      "Enter the divisor (c): 2\n",
      "The sum of numbers evenly divisible by c is: 30\n"
     ]
    }
   ],
   "source": [
    "def evenly_divisible():\n",
    "    a = int(input(\"Enter the starting number (a): \"))\n",
    "    b = int(input(\"Enter the ending number (b): \"))\n",
    "    c = int(input(\"Enter the divisor (c): \"))\n",
    "    \n",
    "    total = 0\n",
    "    for num in range(a, b + 1):\n",
    "        if num % c == 0:\n",
    "            total += num\n",
    "    return total\n",
    "result = evenly_divisible()\n",
    "print(\"The sum of numbers evenly divisible by c is:\", result)"
   ]
  },
  {
   "cell_type": "markdown",
   "id": "97619d79",
   "metadata": {},
   "source": [
    "**Question2.**\n",
    "<br>**Create a function that returns True if a given inequality expression is correct and\n",
    "False otherwise.**\n",
    "<br>Examples\n",
    "<br>correct_signs(&quot;3 &lt; 7 &lt; 11&quot;) ➞ True\n",
    "<br>correct_signs(&quot;13 &gt; 44 &gt; 33 &gt; 1&quot;) ➞ False\n",
    "<br>correct_signs(&quot;1 &lt; 2 &lt; 6 &lt; 9 &gt; 3&quot;) ➞ True"
   ]
  },
  {
   "cell_type": "code",
   "execution_count": 2,
   "id": "fbc23f36",
   "metadata": {},
   "outputs": [
    {
     "name": "stdout",
     "output_type": "stream",
     "text": [
      "Enter the inequality expression: 3 < 7 < 11\n",
      "True\n"
     ]
    }
   ],
   "source": [
    "def correct_signs():\n",
    "    expression = input(\"Enter the inequality expression: \")\n",
    "    return eval(expression)\n",
    "\n",
    "result = correct_signs()\n",
    "print(result)"
   ]
  },
  {
   "cell_type": "markdown",
   "id": "8a279374",
   "metadata": {},
   "source": [
    "**Question3.** \n",
    "<br>**Create a function that replaces all the vowels in a string with a specified character.**\n",
    "<br>Examples\n",
    "<br>replace_vowels(&quot;the aardvark&quot;, &quot;#&quot;) ➞ &quot;th# ##rdv#rk&quot;\n",
    "<br>replace_vowels(&quot;minnie mouse&quot;, &quot;?&quot;) ➞ &quot;m?nn?? m??s?&quot;\n",
    "<br>replace_vowels(&quot;shakespeare&quot;, &quot;*&quot;) ➞ &quot;sh*k*sp**r*&quot;"
   ]
  },
  {
   "cell_type": "code",
   "execution_count": 3,
   "id": "ed9a55fc",
   "metadata": {},
   "outputs": [
    {
     "name": "stdout",
     "output_type": "stream",
     "text": [
      "Enter the string: the aardvark\n",
      "Enter the replacement character: #\n",
      "Modified string: th# ##rdv#rk\n"
     ]
    }
   ],
   "source": [
    "def replace_vowels():\n",
    "    string = input(\"Enter the string: \")\n",
    "    replacement = input(\"Enter the replacement character: \")\n",
    "    \n",
    "    vowels = ['a', 'e', 'i', 'o', 'u', 'A', 'E', 'I', 'O', 'U']\n",
    "    result = ''\n",
    "    for char in string:\n",
    "        if char in vowels:\n",
    "            result += replacement\n",
    "        else:\n",
    "            result += char\n",
    "    return result\n",
    "\n",
    "result = replace_vowels()\n",
    "print(\"Modified string:\", result)"
   ]
  },
  {
   "cell_type": "markdown",
   "id": "4406a700",
   "metadata": {},
   "source": [
    "**Question4.**\n",
    "<br>**Write a function that calculates the factorial of a number recursively.**\n",
    "<br>Examples\n",
    "<br>factorial(5) ➞ 120\n",
    "<br>factorial(3) ➞ 6\n",
    "<br>factorial(1) ➞ 1\n",
    "<br>factorial(0) ➞ 1"
   ]
  },
  {
   "cell_type": "code",
   "execution_count": 4,
   "id": "ed8bbf8b",
   "metadata": {},
   "outputs": [
    {
     "name": "stdout",
     "output_type": "stream",
     "text": [
      "Enter a non-negative integer: 5\n",
      "Factorial of 5 is: 120\n"
     ]
    }
   ],
   "source": [
    "def factorial():\n",
    "    n = int(input(\"Enter a non-negative integer: \"))\n",
    "\n",
    "    if n < 0:\n",
    "        print(\"Error: Please enter a non-negative integer.\")\n",
    "        return\n",
    "\n",
    "    def calculate_factorial(n):\n",
    "        if n == 0 or n == 1:\n",
    "            return 1\n",
    "        else:\n",
    "            return n * calculate_factorial(n - 1)\n",
    "\n",
    "    result = calculate_factorial(n)\n",
    "    print(\"Factorial of\", n, \"is:\", result)\n",
    "    \n",
    "factorial()"
   ]
  },
  {
   "cell_type": "markdown",
   "id": "7f2ecd99",
   "metadata": {},
   "source": [
    "**Question 5**\n",
    "<br>**Hamming distance** is the number of characters that differ between two strings.\n",
    "\n",
    "<br>To illustrate:\n",
    "<br>String1: &quot;abcbba&quot;\n",
    "<br>String2: &quot;abcbda&quot;\n",
    "<br>Hamming Distance: 1 - &quot;b&quot; vs. &quot;d&quot; is the only difference.\n",
    "<br>Create a function that computes the **hamming distance** between two strings.\n",
    "\n",
    "<br>Examples\n",
    "<br>hamming_distance(&quot;abcde&quot;, &quot;bcdef&quot;) ➞ 5\n",
    "<br>hamming_distance(&quot;abcde&quot;, &quot;abcde&quot;) ➞ 0\n",
    "<br>hamming_distance(&quot;strong&quot;, &quot;strung&quot;) ➞ 1"
   ]
  },
  {
   "cell_type": "code",
   "execution_count": 5,
   "id": "6178e87e",
   "metadata": {},
   "outputs": [
    {
     "name": "stdout",
     "output_type": "stream",
     "text": [
      "Enter the first string: abcde\n",
      "Enter the second string: bcdef\n",
      "Hamming distance: 5\n"
     ]
    }
   ],
   "source": [
    "def hamming_distance():\n",
    "    string1 = input(\"Enter the first string: \")\n",
    "    string2 = input(\"Enter the second string: \")\n",
    "\n",
    "    if len(string1) != len(string2):\n",
    "        print(\"Error: Strings must have equal length.\")\n",
    "        return\n",
    "\n",
    "    distance = 0\n",
    "    for char1, char2 in zip(string1, string2):\n",
    "        if char1 != char2:\n",
    "            distance += 1\n",
    "\n",
    "    print(\"Hamming distance:\", distance)\n",
    "    \n",
    "hamming_distance()"
   ]
  }
 ],
 "metadata": {
  "kernelspec": {
   "display_name": "Python 3 (ipykernel)",
   "language": "python",
   "name": "python3"
  },
  "language_info": {
   "codemirror_mode": {
    "name": "ipython",
    "version": 3
   },
   "file_extension": ".py",
   "mimetype": "text/x-python",
   "name": "python",
   "nbconvert_exporter": "python",
   "pygments_lexer": "ipython3",
   "version": "3.10.9"
  }
 },
 "nbformat": 4,
 "nbformat_minor": 5
}
