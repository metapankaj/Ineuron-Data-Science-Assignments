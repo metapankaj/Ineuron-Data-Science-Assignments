{
 "cells": [
  {
   "cell_type": "markdown",
   "id": "79439ae4",
   "metadata": {},
   "source": [
    "**Question 1**\n",
    "<br>**Create a function that takes a list of non-negative integers and strings and return a new list\n",
    "without the strings.**\n",
    "\n",
    "<br>Examples\n",
    "<br>filter_list([1, 2, &quot;a&quot;, &quot;b&quot;]) ➞ [1, 2]\n",
    "<br>filter_list([1, &quot;a&quot;, &quot;b&quot;, 0, 15]) ➞ [1, 0, 15]\n",
    "<br>filter_list([1, 2, &quot;aasf&quot;, &quot;1&quot;, &quot;123&quot;, 123]) ➞ [1, 2, 123]"
   ]
  },
  {
   "cell_type": "code",
   "execution_count": 1,
   "id": "5b9f3613",
   "metadata": {},
   "outputs": [
    {
     "name": "stdout",
     "output_type": "stream",
     "text": [
      "Enter a list of non-negative integers and strings (comma-separated): 1,2,'a','b'\n",
      "['1', '2']\n"
     ]
    }
   ],
   "source": [
    "def filter_list(lst):\n",
    "    filtered_list = [x for x in lst if x.isdigit()]\n",
    "    return filtered_list\n",
    "\n",
    "# Test the function\n",
    "user_input = input(\"Enter a list of non-negative integers and strings (comma-separated): \").split(\",\")\n",
    "print(filter_list(user_input))"
   ]
  },
  {
   "cell_type": "markdown",
   "id": "8141658c",
   "metadata": {},
   "source": [
    "**Question 2**\n",
    "<br>**The &quot;Reverser&quot; takes a string as input and returns that string in reverse order, with the\n",
    "opposite case.**\n",
    "\n",
    "<br>Examples\n",
    "<br>reverse(&quot;Hello World&quot;) ➞ &quot;DLROw OLLEh&quot;\n",
    "<br>reverse(&quot;ReVeRsE&quot;) ➞ &quot;eSrEvEr&quot;\n",
    "<br>reverse(&quot;Radar&quot;) ➞ &quot;RADAr&quot;"
   ]
  },
  {
   "cell_type": "code",
   "execution_count": 2,
   "id": "09ceebeb",
   "metadata": {},
   "outputs": [
    {
     "name": "stdout",
     "output_type": "stream",
     "text": [
      "Enter a string: \"Hello World\"\n",
      "Reversed string with opposite case: \"DLROw OLLEh\"\n"
     ]
    }
   ],
   "source": [
    "def reverse(string):\n",
    "    reversed_string = string[::-1]  # Reverse the string\n",
    "    reversed_string = reversed_string.swapcase()  # Swap the case of characters\n",
    "    return reversed_string\n",
    "\n",
    "user_input = input(\"Enter a string: \")\n",
    "reversed_string = reverse(user_input)\n",
    "print(\"Reversed string with opposite case:\", reversed_string)"
   ]
  },
  {
   "cell_type": "markdown",
   "id": "ffc3eb33",
   "metadata": {},
   "source": [
    "**Question 3**\n",
    "\n",
    "<br>You can assign variables from lists like this:\n",
    "<br>lst = [1, 2, 3, 4, 5, 6]\n",
    "<br>first = lst[0]\n",
    "<br>middle = lst[1:-1]\n",
    "<br>last = lst[-1]\n",
    "\n",
    "<br>print(first) ➞ outputs 1\n",
    "<br>print(middle) ➞ outputs [2, 3, 4, 5]\n",
    "<br>print(last) ➞ outputs 6\n",
    "\n",
    "<br>With Python 3, you can assign variables from lists in a much more succinct way. Create\n",
    "<br>variables `first, middle` and `last` from the given list using **destructuring assignment**\n",
    "<br>(check the **Resources** tab for some examples), where:\n",
    "<br>first ➞ 1\n",
    "<br>middle ➞ [2, 3, 4, 5]\n",
    "<br>last ➞ 6\n",
    "\n",
    "<br>Your task is to unpack the list `writeyourcodehere` into three variables, being `first`,\n",
    "<br>`middle`, and `last`, with middle being everything in between the first and last element. Then\n",
    "<br>print all three variables."
   ]
  },
  {
   "cell_type": "code",
   "execution_count": 4,
   "id": "d1e8063f",
   "metadata": {},
   "outputs": [
    {
     "name": "stdout",
     "output_type": "stream",
     "text": [
      "Enter a list of numbers: 1 2 3 4 5 6\n",
      "First: 1\n",
      "Middle: [2, 3, 4, 5]\n",
      "Last: 6\n"
     ]
    }
   ],
   "source": [
    "user_input = input(\"Enter a list of numbers: \")\n",
    "writeyourcodehere = [int(num) for num in user_input.split()]\n",
    "\n",
    "first, *middle, last = writeyourcodehere\n",
    "\n",
    "print(\"First:\", first)\n",
    "print(\"Middle:\", middle)\n",
    "print(\"Last:\", last)"
   ]
  },
  {
   "cell_type": "markdown",
   "id": "33740a8f",
   "metadata": {},
   "source": [
    "**Question 4**\n",
    "\n",
    "<br>Write a function that calculates the **factorial** of a number **recursively**.\n",
    "\n",
    "<br>Examples\n",
    "\n",
    "<br>factorial(5) ➞ 120\n",
    "<br>factorial(3) ➞ 6\n",
    "<br>factorial(1) ➞ 1\n",
    "<br>factorial(0) ➞ 1"
   ]
  },
  {
   "cell_type": "code",
   "execution_count": 5,
   "id": "5d958dae",
   "metadata": {},
   "outputs": [
    {
     "name": "stdout",
     "output_type": "stream",
     "text": [
      "Enter a number: 5\n",
      "Factorial: 120\n"
     ]
    }
   ],
   "source": [
    "def factorial(n):\n",
    "    if n == 0 or n == 1:\n",
    "        return 1\n",
    "    else:\n",
    "        return n * factorial(n - 1)\n",
    "\n",
    "user_input = int(input(\"Enter a number: \"))\n",
    "result = factorial(user_input)\n",
    "print(\"Factorial:\", result)"
   ]
  },
  {
   "cell_type": "markdown",
   "id": "cd18e997",
   "metadata": {},
   "source": [
    "**Question 5**\n",
    "\n",
    "<br>Write a function that moves all elements of one type to the end of the list.\n",
    "\n",
    "<br>Examples\n",
    "\n",
    "<br>move_to_end([1, 3, 2, 4, 4, 1], 1) ➞ [3, 2, 4, 4, 1, 1]\n",
    "<br>Move all the 1s to the end of the array.\n",
    "<br>move_to_end([7, 8, 9, 1, 2, 3, 4], 9) ➞ [7, 8, 1, 2, 3, 4, 9]\n",
    "<br>move_to_end([&quot;a&quot;, &quot;a&quot;, &quot;a&quot;, &quot;b&quot;], &quot;a&quot;) ➞ [&quot;b&quot;, &quot;a&quot;, &quot;a&quot;, &quot;a&quot;]"
   ]
  },
  {
   "cell_type": "code",
   "execution_count": 6,
   "id": "4f785e17",
   "metadata": {},
   "outputs": [
    {
     "name": "stdout",
     "output_type": "stream",
     "text": [
      "[3, 2, 4, 4, 1, 1]\n",
      "[7, 8, 1, 2, 3, 4, 9]\n",
      "['b', 'a', 'a', 'a']\n"
     ]
    }
   ],
   "source": [
    "def move_to_end(l, n):\n",
    "    for i in l:\n",
    "        if i == n:\n",
    "            l.remove(i)\n",
    "            l.append(n)\n",
    "    print(l)\n",
    "    \n",
    "move_to_end([1, 3, 2, 4, 4, 1], 1) \n",
    "move_to_end([7, 8, 9, 1, 2, 3, 4], 9)\n",
    "move_to_end([\"a\", \"a\", \"a\", \"b\"], \"a\") "
   ]
  }
 ],
 "metadata": {
  "kernelspec": {
   "display_name": "Python 3 (ipykernel)",
   "language": "python",
   "name": "python3"
  },
  "language_info": {
   "codemirror_mode": {
    "name": "ipython",
    "version": 3
   },
   "file_extension": ".py",
   "mimetype": "text/x-python",
   "name": "python",
   "nbconvert_exporter": "python",
   "pygments_lexer": "ipython3",
   "version": "3.10.9"
  }
 },
 "nbformat": 4,
 "nbformat_minor": 5
}
