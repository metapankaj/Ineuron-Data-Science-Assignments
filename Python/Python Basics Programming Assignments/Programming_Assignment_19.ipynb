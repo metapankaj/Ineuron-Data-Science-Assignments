{
 "cells": [
  {
   "cell_type": "markdown",
   "id": "9f369195",
   "metadata": {},
   "source": [
    "**Question1**\n",
    "<br>**Create a function that takes a string and returns a string in which each character is repeated\n",
    "once.**\n",
    "\n",
    "<br>Examples\n",
    "<br>double_char(&quot;String&quot;) ➞ &quot;SSttrriinngg&quot;\n",
    "<br>double_char(&quot;Hello World!&quot;) ➞ &quot;HHeelllloo WWoorrlldd!!&quot;\n",
    "<br>double_char(&quot;1234!_ &quot;) ➞ &quot;11223344!!__ &quot;"
   ]
  },
  {
   "cell_type": "code",
   "execution_count": 1,
   "id": "44a95594",
   "metadata": {},
   "outputs": [
    {
     "name": "stdout",
     "output_type": "stream",
     "text": [
      "Enter a string: \"String\"\n",
      "\"\"SSttrriinngg\"\"\n"
     ]
    }
   ],
   "source": [
    "def double_char():\n",
    "    string = input(\"Enter a string: \")\n",
    "    doubled_string = \"\"\n",
    "    for char in string:\n",
    "        doubled_string += char * 2\n",
    "    return doubled_string\n",
    "\n",
    "result = double_char()\n",
    "print(result)"
   ]
  },
  {
   "cell_type": "markdown",
   "id": "a10ac38f",
   "metadata": {},
   "source": [
    "**Question2**\n",
    "<br>**Create a function that reverses a `boolean` value and returns the string &quot;`boolean expected`&quot;\n",
    "if another variable type is given.**\n",
    "\n",
    "<br>Examples\n",
    "<br>reverse(True) ➞ False\n",
    "<br>reverse(False) ➞ True\n",
    "<br>reverse(0) ➞ &quot;boolean expected&quot;\n",
    "<br>reverse(None) ➞ &quot;boolean expected&quot;"
   ]
  },
  {
   "cell_type": "code",
   "execution_count": 2,
   "id": "57e87380",
   "metadata": {},
   "outputs": [
    {
     "name": "stdout",
     "output_type": "stream",
     "text": [
      "Enter a boolean value (True/False): True\n",
      "False\n"
     ]
    }
   ],
   "source": [
    "def reverse():\n",
    "    value = input(\"Enter a boolean value (True/False): \")\n",
    "    if value.lower() == \"true\":\n",
    "        return False\n",
    "    elif value.lower() == \"false\":\n",
    "        return True\n",
    "    else:\n",
    "        return \"boolean expected\"\n",
    "\n",
    "result = reverse()\n",
    "print(result)"
   ]
  },
  {
   "cell_type": "markdown",
   "id": "790be946",
   "metadata": {},
   "source": [
    "**Question3**\n",
    "<br>**Create a function that returns the `thickness (in meters)` of a piece of paper after folding it n\n",
    "number of times. The paper starts off with a thickness of `0.5mm.`**\n",
    "\n",
    "<br>Examples\n",
    "\n",
    "<br>  num_layers(1) ➞ &quot;0.001m&quot;\n",
    "<br>#  Paper folded once is 1mm (equal to 0.001m)\n",
    "<br>  num_layers(4) ➞ &quot;0.008m&quot;\n",
    "<br>#  Paper folded 4 times is 8mm (equal to 0.008m)\n",
    "<br>  num_layers(21) ➞ &quot;1048.576m&quot;\n",
    "<br># Paper folded 21 times is 1048576mm (equal to 1048.576m)"
   ]
  },
  {
   "cell_type": "code",
   "execution_count": 3,
   "id": "d8f7f689",
   "metadata": {},
   "outputs": [
    {
     "name": "stdout",
     "output_type": "stream",
     "text": [
      "Enter the number of times the paper is folded: 1\n",
      "0.001m\n"
     ]
    }
   ],
   "source": [
    "def num_layers():\n",
    "    n = int(input(\"Enter the number of times the paper is folded: \"))\n",
    "    initial_thickness_mm = 0.5\n",
    "    thickness_m = initial_thickness_mm / 1000  # Convert initial thickness to meters\n",
    "    final_thickness_m = thickness_m * (2 ** n)\n",
    "    return f\"{final_thickness_m:.3f}m\"\n",
    "\n",
    "result = num_layers()\n",
    "print(result)"
   ]
  },
  {
   "cell_type": "markdown",
   "id": "64226d20",
   "metadata": {},
   "source": [
    "**Question4**\n",
    "<br>**Create a function that takes a single string as argument and returns an ordered list containing\n",
    "the indices of all capital letters in the string.**\n",
    "\n",
    "<br>Examples\n",
    "\n",
    "<br>index_of_caps(&quot;eDaBiT&quot;) ➞ [1, 3, 5]\n",
    "<br>index_of_caps(&quot;eQuINoX&quot;) ➞ [1, 3, 4, 6]\n",
    "<br>index_of_caps(&quot;determine&quot;) ➞ []\n",
    "<br>index_of_caps(&quot;STRIKE&quot;) ➞ [0, 1, 2, 3, 4, 5]\n",
    "<br>index_of_caps(&quot;sUn&quot;) ➞ [1]"
   ]
  },
  {
   "cell_type": "code",
   "execution_count": 4,
   "id": "da409131",
   "metadata": {},
   "outputs": [
    {
     "name": "stdout",
     "output_type": "stream",
     "text": [
      "Enter a string: eDaBiT\n",
      "[1, 3, 5]\n"
     ]
    }
   ],
   "source": [
    "def index_of_caps():\n",
    "    string = input(\"Enter a string: \")\n",
    "    indices = []\n",
    "    for i, char in enumerate(string):\n",
    "        if char.isupper():\n",
    "            indices.append(i)\n",
    "    return indices\n",
    "\n",
    "result = index_of_caps()\n",
    "print(result)"
   ]
  },
  {
   "cell_type": "markdown",
   "id": "9ebea3bb",
   "metadata": {},
   "source": [
    "**Question5**\n",
    "<br>**Using list comprehensions, create a function that finds all even numbers from 1 to the given\n",
    "number.**\n",
    "\n",
    "<br>Examples\n",
    "\n",
    "<br>find_even_nums(8) ➞ [2, 4, 6, 8]\n",
    "<br>find_even_nums(4) ➞ [2, 4]\n",
    "<br>find_even_nums(2) ➞ [2]"
   ]
  },
  {
   "cell_type": "code",
   "execution_count": 5,
   "id": "64592a34",
   "metadata": {},
   "outputs": [
    {
     "name": "stdout",
     "output_type": "stream",
     "text": [
      "Enter a number: 8\n",
      "[2, 4, 6, 8]\n"
     ]
    }
   ],
   "source": [
    "def find_even_nums():\n",
    "    n = int(input(\"Enter a number: \"))\n",
    "    return [num for num in range(1, n+1) if num % 2 == 0]\n",
    "\n",
    "result = find_even_nums()\n",
    "print(result)"
   ]
  }
 ],
 "metadata": {
  "kernelspec": {
   "display_name": "Python 3 (ipykernel)",
   "language": "python",
   "name": "python3"
  },
  "language_info": {
   "codemirror_mode": {
    "name": "ipython",
    "version": 3
   },
   "file_extension": ".py",
   "mimetype": "text/x-python",
   "name": "python",
   "nbconvert_exporter": "python",
   "pygments_lexer": "ipython3",
   "version": "3.10.9"
  }
 },
 "nbformat": 4,
 "nbformat_minor": 5
}
