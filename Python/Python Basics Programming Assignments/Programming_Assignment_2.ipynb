{
 "cells": [
  {
   "cell_type": "markdown",
   "id": "90a4e8df",
   "metadata": {},
   "source": [
    "### 1.\tWrite a Python program to convert kilometers to miles?"
   ]
  },
  {
   "cell_type": "code",
   "execution_count": 1,
   "id": "4e5de076",
   "metadata": {},
   "outputs": [
    {
     "name": "stdout",
     "output_type": "stream",
     "text": [
      "enter value in kilometers: 10\n",
      "10.00 kilometers is equal to 6.21 miles\n"
     ]
    }
   ],
   "source": [
    "# taking user input\n",
    "km = float(input(\"enter value in kilometers: \"))\n",
    "\n",
    "#conversion factor\n",
    "cf = 0.621371\n",
    "\n",
    "#Calculate miles\n",
    "miles = km * cf\n",
    "\n",
    "#Print the output\n",
    "print('%0.2f kilometers is equal to %0.2f miles' %(km,miles))"
   ]
  },
  {
   "cell_type": "markdown",
   "id": "18e78353",
   "metadata": {},
   "source": [
    "### 2.\tWrite a Python program to convert Celsius to Fahrenheit?"
   ]
  },
  {
   "cell_type": "code",
   "execution_count": 2,
   "id": "1514ecd5",
   "metadata": {},
   "outputs": [
    {
     "name": "stdout",
     "output_type": "stream",
     "text": [
      "enter value in celsius: 37\n",
      "37.0 degree Celsius is equal to 98.6 degree Fahrenheit\n"
     ]
    }
   ],
   "source": [
    "# Python program to convert temperature in celsius to fahrenheit\n",
    "\n",
    "celsius = float(input(\"enter value in celsius: \"))\n",
    "\n",
    "# calculate fahrenheit\n",
    "fahrenheit = (celsius * 1.8) + 32\n",
    "print('%0.1f degree Celsius is equal to %0.1f degree Fahrenheit' %(celsius,fahrenheit))\n"
   ]
  },
  {
   "cell_type": "markdown",
   "id": "ac9696c5",
   "metadata": {},
   "source": [
    "### 3.\tWrite a Python program to display calendar?"
   ]
  },
  {
   "cell_type": "code",
   "execution_count": 3,
   "id": "e814e471",
   "metadata": {},
   "outputs": [
    {
     "name": "stdout",
     "output_type": "stream",
     "text": [
      "Enter year: 2023\n",
      "Enter month: 3\n",
      "     March 2023\n",
      "Mo Tu We Th Fr Sa Su\n",
      "       1  2  3  4  5\n",
      " 6  7  8  9 10 11 12\n",
      "13 14 15 16 17 18 19\n",
      "20 21 22 23 24 25 26\n",
      "27 28 29 30 31\n",
      "\n"
     ]
    }
   ],
   "source": [
    "# Python program to display calendar of the given month and year\n",
    "\n",
    "# importing calendar module\n",
    "import calendar\n",
    "\n",
    "# yy : # year\n",
    "# mm : # month\n",
    "\n",
    "# To take month and year input from the user\n",
    "yy = int(input(\"Enter year: \"))\n",
    "mm = int(input(\"Enter month: \"))\n",
    "\n",
    "# display the calendar\n",
    "print(calendar.month(yy, mm))\n"
   ]
  },
  {
   "cell_type": "markdown",
   "id": "1474ed8b",
   "metadata": {},
   "source": [
    "### 4.\tWrite a Python program to solve quadratic equation?"
   ]
  },
  {
   "cell_type": "code",
   "execution_count": 4,
   "id": "bfaf5e65",
   "metadata": {},
   "outputs": [
    {
     "name": "stdout",
     "output_type": "stream",
     "text": [
      "Enter the value of a: 2\n",
      "Enter the value of b: 25\n",
      "Enter the value of c: 5\n",
      "Two real roots:  -0.20330668877608815 -12.296693311223912\n"
     ]
    }
   ],
   "source": [
    "import math\n",
    "\n",
    "# input values of a, b, and c\n",
    "a = float(input(\"Enter the value of a: \"))\n",
    "b = float(input(\"Enter the value of b: \"))\n",
    "c = float(input(\"Enter the value of c: \"))\n",
    "\n",
    "# calculate the discriminant\n",
    "d = b**2 - 4*a*c\n",
    "\n",
    "# find the roots\n",
    "if d < 0:\n",
    "    print(\"No real roots\")\n",
    "elif d == 0:\n",
    "    x = -b / (2*a)\n",
    "    print(\"One real root: \", x)\n",
    "else:\n",
    "    x1 = (-b + math.sqrt(d)) / (2*a)\n",
    "    x2 = (-b - math.sqrt(d)) / (2*a)\n",
    "    print(\"Two real roots: \", x1, x2)"
   ]
  },
  {
   "cell_type": "markdown",
   "id": "56fc3042",
   "metadata": {},
   "source": [
    "### 5.\tWrite a Python program to swap two variables without temp variable?"
   ]
  },
  {
   "cell_type": "code",
   "execution_count": 5,
   "id": "919ef0a4",
   "metadata": {},
   "outputs": [
    {
     "name": "stdout",
     "output_type": "stream",
     "text": [
      "Enter first number: 9\n",
      "Enter second number: 8\n",
      "Old value of var1 is 9 and var2 is 8\n",
      "New value of var1 is 8 and var2 is 9\n"
     ]
    }
   ],
   "source": [
    "var1 = int(input(\"Enter first number: \"))\n",
    "var2 = int(input(\"Enter second number: \"))\n",
    "\n",
    "print('Old value of var1 is {0} and var2 is {1}'.format(var1, var2))\n",
    "\n",
    "var1 = var1 + var2\n",
    "var2 = var1 - var2\n",
    "var1 = var1 - var2\n",
    "\n",
    "# display the result\n",
    "print('New value of var1 is {0} and var2 is {1}'.format(var1, var2))"
   ]
  }
 ],
 "metadata": {
  "kernelspec": {
   "display_name": "Python 3 (ipykernel)",
   "language": "python",
   "name": "python3"
  },
  "language_info": {
   "codemirror_mode": {
    "name": "ipython",
    "version": 3
   },
   "file_extension": ".py",
   "mimetype": "text/x-python",
   "name": "python",
   "nbconvert_exporter": "python",
   "pygments_lexer": "ipython3",
   "version": "3.11.2"
  }
 },
 "nbformat": 4,
 "nbformat_minor": 5
}
