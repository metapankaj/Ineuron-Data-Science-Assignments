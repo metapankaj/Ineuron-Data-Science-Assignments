{
 "cells": [
  {
   "cell_type": "markdown",
   "id": "a5ad81df",
   "metadata": {},
   "source": [
    "**Question1**\n",
    "<br>**Create a function that takes a list of strings and integers, and filters out the list so that it\n",
    "returns a list of integers only.**\n",
    "\n",
    "<br>Examples\n",
    "\n",
    "<br>filter_list([1, 2, 3, &quot;a&quot;, &quot;b&quot;, 4]) ➞ [1, 2, 3, 4]\n",
    "<br>filter_list([&quot;A&quot;, 0, &quot;Edabit&quot;, 1729, &quot;Python&quot;, &quot;1729&quot;]) ➞ [0, 1729]\n",
    "<br>filter_list([&quot;Nothing&quot;, &quot;here&quot;]) ➞ []"
   ]
  },
  {
   "cell_type": "code",
   "execution_count": 1,
   "id": "0eceb8cb",
   "metadata": {},
   "outputs": [
    {
     "name": "stdout",
     "output_type": "stream",
     "text": [
      "Enter a list of strings and integers, separated by commas: 1, 2, 3, \"a\", \"b\", 4\n",
      "[1, 2, 3, 4]\n"
     ]
    }
   ],
   "source": [
    "def filter_list():\n",
    "    input_str = input(\"Enter a list of strings and integers, separated by commas: \")\n",
    "    lst = [x.strip() for x in input_str.split(\",\")]\n",
    "    filtered_lst = [x for x in lst if x.isdigit()]\n",
    "    filtered_lst = [int(x) for x in filtered_lst]\n",
    "    return filtered_lst\n",
    "\n",
    "filtered_list = filter_list()\n",
    "print(filtered_list)"
   ]
  },
  {
   "cell_type": "markdown",
   "id": "24588ec2",
   "metadata": {},
   "source": [
    "**Question2**\n",
    "<br>**Given a list of numbers, create a function which returns the list but with `each element&#39;s\n",
    "index in the list added to itself`. This means you add 0 to the number at index 0, add 1 to the\n",
    "number at index 1, etc...**\n",
    "\n",
    "<br>Examples\n",
    "\n",
    "<br>add_indexes([0, 0, 0, 0, 0]) ➞ [0, 1, 2, 3, 4]\n",
    "<br>add_indexes([1, 2, 3, 4, 5]) ➞ [1, 3, 5, 7, 9]\n",
    "<br>add_indexes([5, 4, 3, 2, 1]) ➞ [5, 5, 5, 5, 5]"
   ]
  },
  {
   "cell_type": "code",
   "execution_count": 2,
   "id": "68d6fafd",
   "metadata": {},
   "outputs": [
    {
     "name": "stdout",
     "output_type": "stream",
     "text": [
      "Enter a list of numbers, separated by commas: 0,0,0,0,0\n",
      "[0, 1, 2, 3, 4]\n"
     ]
    }
   ],
   "source": [
    "def add_indexes():\n",
    "    lst = input(\"Enter a list of numbers, separated by commas: \").split(\",\")\n",
    "    lst = [int(num) for num in lst]\n",
    "    return [i + num for i, num in enumerate(lst)]\n",
    "\n",
    "modified_list = add_indexes()\n",
    "print(modified_list)"
   ]
  },
  {
   "attachments": {
    "image.png": {
     "image/png": "[encoded data removed]"
    }
   },
   "cell_type": "markdown",
   "id": "47ad9697",
   "metadata": {},
   "source": [
    "**Question3**\n",
    "\n",
    "<br>**Create a function that takes the height and radius of a cone as arguments and returns the\n",
    "volume of the cone rounded to the nearest hundredth. See the resources tab for the formula.**\n",
    "\n",
    "![image.png](attachment:image.png)\n",
    "\n",
    "<br>Examples\n",
    "\n",
    "<br>cone_volume(3, 2) ➞ 12.57\n",
    "\n",
    "<br>cone_volume(15, 6) ➞ 565.49\n",
    "<br>cone_volume(18, 0) ➞ 0"
   ]
  },
  {
   "cell_type": "code",
   "execution_count": 3,
   "id": "4eeb2a2f",
   "metadata": {},
   "outputs": [
    {
     "name": "stdout",
     "output_type": "stream",
     "text": [
      "Enter the height of the cone: 3\n",
      "Enter the radius of the cone: 2\n",
      "The volume of the cone is: 12.57\n"
     ]
    }
   ],
   "source": [
    "import math\n",
    "\n",
    "def calculate_cone_volume():\n",
    "    height = float(input(\"Enter the height of the cone: \"))\n",
    "    radius = float(input(\"Enter the radius of the cone: \"))\n",
    "\n",
    "    volume = (1/3) * math.pi * (radius ** 2) * height\n",
    "    rounded_volume = round(volume, 2)\n",
    "    return rounded_volume\n",
    "\n",
    "volume = calculate_cone_volume()\n",
    "print(\"The volume of the cone is:\", volume)"
   ]
  },
  {
   "cell_type": "markdown",
   "id": "84ffe3a8",
   "metadata": {},
   "source": [
    "**Question4**\n",
    "<br>**This Triangular Number Sequence is generated from a pattern of dots that form a triangle.\n",
    "The first 5 numbers of the sequence, or dots, are:\n",
    "1, 3, 6, 10, 15\n",
    "<br>This means that the first triangle has just one dot, the second one has three dots, the third one\n",
    "has 6 dots and so on.**\n",
    "\n",
    "<br>**Write a function that gives the number of dots with its corresponding triangle number of the\n",
    "sequence.**\n",
    "\n",
    "<br>Examples\n",
    "\n",
    "<br>triangle(1) ➞ 1\n",
    "<br>triangle(6) ➞ 21\n",
    "<br>triangle(215) ➞ 23220"
   ]
  },
  {
   "cell_type": "code",
   "execution_count": 4,
   "id": "3c9ccdbc",
   "metadata": {},
   "outputs": [
    {
     "name": "stdout",
     "output_type": "stream",
     "text": [
      "Enter the position in the sequence: 6\n",
      "The number of dots in position 6 is: 21\n"
     ]
    }
   ],
   "source": [
    "def triangular_number(n):\n",
    "    return (n * (n + 1)) // 2\n",
    "\n",
    "position = int(input(\"Enter the position in the sequence: \"))\n",
    "\n",
    "dots = triangular_number(position)\n",
    "print(\"The number of dots in position\", position, \"is:\", dots)"
   ]
  },
  {
   "cell_type": "markdown",
   "id": "c01eca52",
   "metadata": {},
   "source": [
    "**Question5**\n",
    "<br>**Create a function that takes a list of numbers between 1 and 10 (excluding one number) and\n",
    "returns the missing number.**\n",
    "\n",
    "<br>Examples\n",
    "\n",
    "<br>missing_num([1, 2, 3, 4, 6, 7, 8, 9, 10]) ➞ 5\n",
    "<br>missing_num([7, 2, 3, 6, 5, 9, 1, 4, 8]) ➞ 10\n",
    "<br>missing_num([10, 5, 1, 2, 4, 6, 8, 3, 9]) ➞ 7"
   ]
  },
  {
   "cell_type": "code",
   "execution_count": 5,
   "id": "f0be073c",
   "metadata": {},
   "outputs": [
    {
     "name": "stdout",
     "output_type": "stream",
     "text": [
      "Enter a list of numbers between 1 and 10 (excluding one number), separated by commas: 1,2,3,4,6,7,8,9,10\n",
      "The missing number is: 5\n"
     ]
    }
   ],
   "source": [
    "def missing_num():\n",
    "    num_list = input(\"Enter a list of numbers between 1 and 10 (excluding one number), separated by commas: \").split(\",\")\n",
    "    num_list = [int(num) for num in num_list]\n",
    "    complete_list = list(range(1, 11))\n",
    "    missing_number = set(complete_list) - set(num_list)\n",
    "    return missing_number.pop()\n",
    "\n",
    "missing_number = missing_num()\n",
    "print(\"The missing number is:\", missing_number)"
   ]
  }
 ],
 "metadata": {
  "kernelspec": {
   "display_name": "Python 3 (ipykernel)",
   "language": "python",
   "name": "python3"
  },
  "language_info": {
   "codemirror_mode": {
    "name": "ipython",
    "version": 3
   },
   "file_extension": ".py",
   "mimetype": "text/x-python",
   "name": "python",
   "nbconvert_exporter": "python",
   "pygments_lexer": "ipython3",
   "version": "3.10.9"
  }
 },
 "nbformat": 4,
 "nbformat_minor": 5
}
