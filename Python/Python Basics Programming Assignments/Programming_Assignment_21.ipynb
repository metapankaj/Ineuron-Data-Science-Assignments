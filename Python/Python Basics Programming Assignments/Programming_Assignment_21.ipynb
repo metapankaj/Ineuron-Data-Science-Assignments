{
 "cells": [
  {
   "cell_type": "markdown",
   "id": "d66aa50c",
   "metadata": {},
   "source": [
    "**Question1**\n",
    "\n",
    "<br>**Write a function that takes a list and a number as arguments. Add the number to the end of\n",
    "the list, then remove the first element of the list. The function should then return the updated\n",
    "list.**\n",
    "\n",
    "<br>Examples\n",
    "<br>next_in_line([5, 6, 7, 8, 9], 1) ➞ [6, 7, 8, 9, 1]\n",
    "<br>next_in_line([7, 6, 3, 23, 17], 10) ➞ [6, 3, 23, 17, 10]\n",
    "<br>next_in_line([1, 10, 20, 42 ], 6) ➞ [10, 20, 42, 6]\n",
    "<br>next_in_line([], 6) ➞ &quot;No list has been selected&quot;"
   ]
  },
  {
   "cell_type": "code",
   "execution_count": 1,
   "id": "bca1184b",
   "metadata": {},
   "outputs": [
    {
     "name": "stdout",
     "output_type": "stream",
     "text": [
      "Enter a list of numbers, separated by commas: 5,6,7,8,9\n",
      "Enter a number to add to the list: 1\n",
      "['6', '7', '8', '9', '1']\n"
     ]
    }
   ],
   "source": [
    "def next_in_line():\n",
    "    lst = input(\"Enter a list of numbers, separated by commas: \").split(\",\")\n",
    "    num = input(\"Enter a number to add to the list: \")\n",
    "    \n",
    "    if not lst:\n",
    "        return \"No list has been selected\"\n",
    "    \n",
    "    lst.pop(0)  # Remove the first element\n",
    "    lst.append(num)  # Add the number to the end of the list\n",
    "    return lst\n",
    "\n",
    "result = next_in_line()\n",
    "print(result)"
   ]
  },
  {
   "cell_type": "markdown",
   "id": "56cabef4",
   "metadata": {},
   "source": [
    "**Question2**\n",
    "\n",
    "<br>**Create the function that takes a list of dictionaries and returns the sum of people&#39;s budgets.**\n",
    "<br>Examples\n",
    "<br>get_budgets([\n",
    "<br>   { &quot;name&quot;: &quot;John&quot;, &quot;age&quot;: 21, &quot;budget&quot;: 23000 },\n",
    "<br>   { &quot;name&quot;: &quot;Steve&quot;, &quot;age&quot;: 32, &quot;budget&quot;: 40000 },\n",
    "<br>   { &quot;name&quot;: &quot;Martin&quot;, &quot;age&quot;: 16, &quot;budget&quot;: 2700 }\n",
    "<br>]) ➞ 65700\n",
    "<br>get_budgets([\n",
    "<br>   { &quot;name&quot;: &quot;John&quot;, &quot;age&quot;: 21, &quot;budget&quot;: 29000 },\n",
    "<br>   { &quot;name&quot;: &quot;Steve&quot;, &quot;age&quot;: 32, &quot;budget&quot;: 32000 },\n",
    "<br>   { &quot;name&quot;: &quot;Martin&quot;, &quot;age&quot;: 16, &quot;budget&quot;: 1600 }\n",
    "<br>]) ➞ 62600"
   ]
  },
  {
   "cell_type": "code",
   "execution_count": 3,
   "id": "41741206",
   "metadata": {},
   "outputs": [
    {
     "name": "stdout",
     "output_type": "stream",
     "text": [
      "Enter the number of people: 3\n",
      "Enter the name of person 1: \"John\"\n",
      "Enter the age of person 1: 21\n",
      "Enter the budget of person 1: 29000\n",
      "Enter the name of person 2: \"Steve\"\n",
      "Enter the age of person 2: 32\n",
      "Enter the budget of person 2: 32000\n",
      "Enter the name of person 3: \"Martin\"\n",
      "Enter the age of person 3: 16\n",
      "Enter the budget of person 3: 1600\n",
      "62600.0\n"
     ]
    }
   ],
   "source": [
    "def get_budgets():\n",
    "    lst = []\n",
    "    n = int(input(\"Enter the number of people: \"))\n",
    "    \n",
    "    for i in range(n):\n",
    "        name = input(\"Enter the name of person {}: \".format(i+1))\n",
    "        age = int(input(\"Enter the age of person {}: \".format(i+1)))\n",
    "        budget = float(input(\"Enter the budget of person {}: \".format(i+1)))\n",
    "        \n",
    "        person = {\"name\": name, \"age\": age, \"budget\": budget}\n",
    "        lst.append(person)\n",
    "    \n",
    "    total_budget = sum(person[\"budget\"] for person in lst)\n",
    "    return total_budget\n",
    "\n",
    "result = get_budgets()\n",
    "print(result)"
   ]
  },
  {
   "cell_type": "markdown",
   "id": "f67e5c6e",
   "metadata": {},
   "source": [
    "**Question3**\n",
    "\n",
    "<br>**Create a function that takes a string and returns a string with its letters in alphabetical order.**\n",
    "\n",
    "<br>Examples\n",
    "\n",
    "<br>alphabet_soup(&quot;hello&quot;) ➞ &quot;ehllo&quot;\n",
    "<br>alphabet_soup(&quot;edabit&quot;) ➞ &quot;abdeit&quot;\n",
    "<br>alphabet_soup(&quot;hacker&quot;) ➞ &quot;acehkr&quot;\n",
    "<br>alphabet_soup(&quot;geek&quot;) ➞ &quot;eegk&quot;\n",
    "<br>alphabet_soup(&quot;javascript&quot;) ➞ &quot;aacijprstv&quot;"
   ]
  },
  {
   "cell_type": "code",
   "execution_count": 5,
   "id": "24614001",
   "metadata": {},
   "outputs": [
    {
     "name": "stdout",
     "output_type": "stream",
     "text": [
      "Enter a string: hello\n",
      "ehllo\n"
     ]
    }
   ],
   "source": [
    "def alphabet_soup(string):\n",
    "    sorted_string = ''.join(sorted(string))\n",
    "    return sorted_string\n",
    "\n",
    "input_string = input(\"Enter a string: \")\n",
    "result = alphabet_soup(input_string)\n",
    "print(result)"
   ]
  },
  {
   "cell_type": "markdown",
   "id": "88017500",
   "metadata": {},
   "source": [
    "**Question4**\n",
    "\n",
    "<br>Suppose that you invest $10,000 for 10 years at an interest rate of 6% compounded monthly.\n",
    "<br>What will be the value of your investment at the end of the 10 year period?\n",
    "\n",
    "<br>Create a function that accepts the principal p, the term in years t, the interest rate r, and the\n",
    "<br>number of compounding periods per year n. The function returns the value at the end of term\n",
    "<br>rounded to the nearest cent.\n",
    "\n",
    "<br>For the example above:\n",
    "    \n",
    "<br>compound_interest(10000, 10, 0.06, 12) ➞ 18193.97\n",
    "<br>Note that the interest rate is given as a decimal and n=12 because with monthly compounding\n",
    "<br>there are 12 periods per year. Compounding can also be done annually, quarterly, weekly, or\n",
    "<br>daily.\n",
    "\n",
    "<br>Examples\n",
    "<br>compound_interest(100, 1, 0.05, 1) ➞ 105.0\n",
    "<br>compound_interest(3500, 15, 0.1, 4) ➞ 15399.26\n",
    "<br>compound_interest(100000, 20, 0.15, 365) ➞ 2007316.26"
   ]
  },
  {
   "cell_type": "code",
   "execution_count": 6,
   "id": "1a9c26de",
   "metadata": {},
   "outputs": [
    {
     "name": "stdout",
     "output_type": "stream",
     "text": [
      "Enter the principal amount: 100\n",
      "Enter the term in years: 1\n",
      "Enter the interest rate (in decimal form): 0.05\n",
      "Enter the number of compounding periods per year: 1\n",
      "105.0\n"
     ]
    }
   ],
   "source": [
    "def compound_interest(p, t, r, n):\n",
    "    amount = p * (1 + r / n) ** (n * t)\n",
    "    rounded_amount = round(amount, 2)\n",
    "    return rounded_amount\n",
    "\n",
    "principal = float(input(\"Enter the principal amount: \"))\n",
    "term = int(input(\"Enter the term in years: \"))\n",
    "interest_rate = float(input(\"Enter the interest rate (in decimal form): \"))\n",
    "compounding_periods = int(input(\"Enter the number of compounding periods per year: \"))\n",
    "\n",
    "result = compound_interest(principal, term, interest_rate, compounding_periods)\n",
    "print(result)"
   ]
  },
  {
   "cell_type": "markdown",
   "id": "d3648f87",
   "metadata": {},
   "source": [
    "**Question5**\n",
    "<br>**Write a function that takes a list of elements and returns only the integers.**\n",
    "\n",
    "<br>Examples\n",
    "\n",
    "<br>return_only_integer([9, 2, &quot;space&quot;, &quot;car&quot;, &quot;lion&quot;, 16]) ➞ [9, 2, 16]\n",
    "<br>return_only_integer([&quot;hello&quot;, 81, &quot;basketball&quot;, 123, &quot;fox&quot;]) ➞ [81, 123]\n",
    "<br>return_only_integer([10, &quot;121&quot;, 56, 20, &quot;car&quot;, 3, &quot;lion&quot;]) ➞ [10, 56, 20,\n",
    "<br>3]\n",
    "<br>return_only_integer([&quot;String&quot;, True, 3.3, 1]) ➞ [1]"
   ]
  },
  {
   "cell_type": "code",
   "execution_count": 7,
   "id": "e2adbfd7",
   "metadata": {},
   "outputs": [
    {
     "name": "stdout",
     "output_type": "stream",
     "text": [
      "Enter a list of elements, separated by commas: 9,2,\"space\",\"car\",\"lion\",16\n",
      "[9, 2, 16]\n"
     ]
    }
   ],
   "source": [
    "def filter_integers():\n",
    "    lst = input(\"Enter a list of elements, separated by commas: \").split(\",\")\n",
    "    integers = [int(x) for x in lst if x.strip().isdigit()]\n",
    "    return integers\n",
    "\n",
    "result = filter_integers()\n",
    "print(result)"
   ]
  }
 ],
 "metadata": {
  "kernelspec": {
   "display_name": "Python 3 (ipykernel)",
   "language": "python",
   "name": "python3"
  },
  "language_info": {
   "codemirror_mode": {
    "name": "ipython",
    "version": 3
   },
   "file_extension": ".py",
   "mimetype": "text/x-python",
   "name": "python",
   "nbconvert_exporter": "python",
   "pygments_lexer": "ipython3",
   "version": "3.10.9"
  }
 },
 "nbformat": 4,
 "nbformat_minor": 5
}
