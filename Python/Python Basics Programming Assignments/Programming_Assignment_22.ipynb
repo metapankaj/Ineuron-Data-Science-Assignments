{
 "cells": [
  {
   "cell_type": "markdown",
   "id": "ac1e35e1",
   "metadata": {},
   "source": [
    "**Question1**\n",
    "\n",
    "<br>**Create a function that takes three parameters where:**<br>\n",
    "\n",
    "*  x is the start of the range (inclusive).<br> \n",
    "*  y is the end of the range (inclusive).<br>\n",
    "*  n is the divisor to be checked against.\n",
    "\n",
    "<br>Return an ordered list with numbers in the range that are divisible by the third parameter n.\n",
    "<br>Return an empty list if there are no numbers that are divisible by n.<br>\n",
    "\n",
    "Examples\n",
    "\n",
    "<br>list_operation(1, 10, 3) ➞ [3, 6, 9]\n",
    "<br>list_operation(7, 9, 2) ➞ [8]\n",
    "<br>list_operation(15, 20, 7) ➞ []"
   ]
  },
  {
   "cell_type": "code",
   "execution_count": 1,
   "id": "dce1c2e6",
   "metadata": {},
   "outputs": [
    {
     "name": "stdout",
     "output_type": "stream",
     "text": [
      "Enter the start of the range (inclusive): 1\n",
      "Enter the end of the range (inclusive): 10\n",
      "Enter the divisor to be checked against: 3\n",
      "[3, 6, 9]\n"
     ]
    }
   ],
   "source": [
    "def list_operation():\n",
    "    x = int(input(\"Enter the start of the range (inclusive): \"))\n",
    "    y = int(input(\"Enter the end of the range (inclusive): \"))\n",
    "    n = int(input(\"Enter the divisor to be checked against: \"))\n",
    "\n",
    "    divisible_numbers = [num for num in range(x, y+1) if num % n == 0]\n",
    "    return divisible_numbers\n",
    "\n",
    "result = list_operation()\n",
    "print(result)"
   ]
  },
  {
   "cell_type": "markdown",
   "id": "f31a6da0",
   "metadata": {},
   "source": [
    "**Question2**\n",
    "\n",
    "<br>**Create a function that takes in two lists and returns True if the second list follows the first list\n",
    "by one element, and False otherwise. In other words, determine if the second list is the first\n",
    "list shifted to the right by 1.**\n",
    "\n",
    "<br>**Examples**\n",
    "\n",
    "<br>simon_says([1, 2], [5, 1]) ➞ True\n",
    "<br>simon_says([1, 2], [5, 5]) ➞ False\n",
    "<br>simon_says([1, 2, 3, 4, 5], [0, 1, 2, 3, 4]) ➞ True\n",
    "<br>simon_says([1, 2, 3, 4, 5], [5, 5, 1, 2, 3]) ➞ False\n",
    "\n",
    "<br>**Notes**\n",
    "\n",
    "*  Both input lists will be of the same length, and will have a minimum length of 2.<br>\n",
    "* The values of the 0-indexed element in the second list and the n-1th indexed element\n",
    "<br>in the first list do not matter."
   ]
  },
  {
   "cell_type": "code",
   "execution_count": 2,
   "id": "30c81d39",
   "metadata": {},
   "outputs": [
    {
     "name": "stdout",
     "output_type": "stream",
     "text": [
      "Enter the elements of the first list, separated by commas: 1,2\n",
      "Enter the elements of the second list, separated by commas: 5,1\n",
      "True\n"
     ]
    }
   ],
   "source": [
    "def is_following():\n",
    "    lst1 = input(\"Enter the elements of the first list, separated by commas: \").split(\",\")\n",
    "    lst2 = input(\"Enter the elements of the second list, separated by commas: \").split(\",\")\n",
    "\n",
    "    if lst1[:-1] == lst2[1:]:\n",
    "        return True\n",
    "    else:\n",
    "        return False\n",
    "\n",
    "result = is_following()\n",
    "print(result)"
   ]
  },
  {
   "cell_type": "markdown",
   "id": "0d0f2057",
   "metadata": {},
   "source": [
    "**Question3**\n",
    "\n",
    "<br>**A group of friends have decided to start a secret society. The name will be the first letter of\n",
    "each of their names, sorted in alphabetical order.\n",
    "Create a function that takes in a list of names and returns the name of the secret society.**\n",
    "\n",
    "<br>Examples\n",
    "\n",
    "<br>society_name([&quot;Adam&quot;, &quot;Sarah&quot;, &quot;Malcolm&quot;]) ➞ &quot;AMS&quot;\n",
    "<br>society_name([&quot;Harry&quot;, &quot;Newt&quot;, &quot;Luna&quot;, &quot;Cho&quot;]) ➞ &quot;CHLN&quot;\n",
    "<br>society_name([&quot;Phoebe&quot;, &quot;Chandler&quot;, &quot;Rachel&quot;, &quot;Ross&quot;, &quot;Monica&quot;, &quot;Joey&quot;])"
   ]
  },
  {
   "cell_type": "code",
   "execution_count": 3,
   "id": "f6c45681",
   "metadata": {},
   "outputs": [
    {
     "name": "stdout",
     "output_type": "stream",
     "text": [
      "Enter the names, separated by commas: Adam,Sarah,Malcolm\n",
      "AMS\n"
     ]
    }
   ],
   "source": [
    "def society_name():\n",
    "    names = input(\"Enter the names, separated by commas: \").split(\",\")\n",
    "\n",
    "    initials = [name.strip()[0] for name in names]\n",
    "    society_name = ''.join(sorted(initials))\n",
    "    return society_name\n",
    "\n",
    "result = society_name()\n",
    "print(result)"
   ]
  },
  {
   "cell_type": "markdown",
   "id": "b072ac3c",
   "metadata": {},
   "source": [
    "**Question4**\n",
    "\n",
    "<br>**An isogram is a word that has no duplicate letters. Create a function that takes a string and\n",
    "returns either True or False depending on whether or not it&#39;s an &quot;isogram&quot;.**\n",
    "\n",
    "<br>Examples\n",
    "\n",
    "<br>is_isogram(&quot;Algorism&quot;) ➞ True\n",
    "<br>is_isogram(&quot;PasSword&quot;) ➞ False\n",
    "<br> #Not case sensitive.\n",
    "<br>is_isogram(&quot;Consecutive&quot;) ➞ False\n",
    "\n",
    "**Notes**\n",
    "\n",
    "* Ignore letter case (should not be case sensitive).<br>\n",
    "* All test cases contain valid one word strings."
   ]
  },
  {
   "cell_type": "code",
   "execution_count": 4,
   "id": "23bbc28e",
   "metadata": {},
   "outputs": [
    {
     "name": "stdout",
     "output_type": "stream",
     "text": [
      "Enter a word: PasSword\n",
      "False\n"
     ]
    }
   ],
   "source": [
    "def is_isogram():\n",
    "    word = input(\"Enter a word: \")\n",
    "    word = word.lower()\n",
    "    letters = set(word)\n",
    "    return len(word) == len(letters)\n",
    "\n",
    "result = is_isogram()\n",
    "print(result)"
   ]
  },
  {
   "cell_type": "markdown",
   "id": "47818a74",
   "metadata": {},
   "source": [
    "**Question5**\n",
    "\n",
    "<br>**Create a function that takes a string and returns True or False, depending on whether the\n",
    "characters are in order or not.**\n",
    "\n",
    "<br>Examples\n",
    "\n",
    "<br>is_in_order(&quot;abc&quot;) ➞ True\n",
    "<br>is_in_order(&quot;edabit&quot;) ➞ False\n",
    "<br>is_in_order(&quot;123&quot;) ➞ True\n",
    "<br>is_in_order(&quot;xyzz&quot;) ➞ True\n",
    "\n",
    "**Notes**\n",
    "\n",
    "<br>You don&#39;t have to handle empty strings."
   ]
  },
  {
   "cell_type": "code",
   "execution_count": 5,
   "id": "af27d7a4",
   "metadata": {},
   "outputs": [
    {
     "name": "stdout",
     "output_type": "stream",
     "text": [
      "Enter a string: abc\n",
      "True\n"
     ]
    }
   ],
   "source": [
    "def is_in_order():\n",
    "    string = input(\"Enter a string: \")\n",
    "    return string == ''.join(sorted(string))\n",
    "\n",
    "result = is_in_order()\n",
    "print(result)"
   ]
  }
 ],
 "metadata": {
  "kernelspec": {
   "display_name": "Python 3 (ipykernel)",
   "language": "python",
   "name": "python3"
  },
  "language_info": {
   "codemirror_mode": {
    "name": "ipython",
    "version": 3
   },
   "file_extension": ".py",
   "mimetype": "text/x-python",
   "name": "python",
   "nbconvert_exporter": "python",
   "pygments_lexer": "ipython3",
   "version": "3.10.9"
  }
 },
 "nbformat": 4,
 "nbformat_minor": 5
}
