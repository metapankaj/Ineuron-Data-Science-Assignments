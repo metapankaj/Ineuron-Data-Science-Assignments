{
 "cells": [
  {
   "cell_type": "markdown",
   "id": "d6ae3189",
   "metadata": {},
   "source": [
    "### 1.\tWrite a Python Program to Find the Factorial of a Number?"
   ]
  },
  {
   "cell_type": "code",
   "execution_count": 1,
   "id": "a7021c8f",
   "metadata": {},
   "outputs": [
    {
     "name": "stdout",
     "output_type": "stream",
     "text": [
      "Enter a number: 5\n",
      "The factorial of 5 is 120\n"
     ]
    }
   ],
   "source": [
    "#Python Program to Find the Factorial of a Number\n",
    "\n",
    "# To take input from the user\n",
    "num = int(input(\"Enter a number: \"))\n",
    "\n",
    "factorial = 1\n",
    "\n",
    "# check if the number is negative, positive or zero\n",
    "if num < 0:\n",
    "   print(\"Sorry, factorial does not exist for negative numbers\")\n",
    "elif num == 0:\n",
    "   print(\"The factorial of 0 is 1\")\n",
    "else:\n",
    "   for i in range(1,num + 1):\n",
    "       factorial = factorial*i\n",
    "   print(\"The factorial of\",num,\"is\",factorial)\n"
   ]
  },
  {
   "cell_type": "markdown",
   "id": "552e3c9d",
   "metadata": {},
   "source": [
    "### 2.\tWrite a Python Program to Display the multiplication Table?"
   ]
  },
  {
   "cell_type": "code",
   "execution_count": 2,
   "id": "bce32a53",
   "metadata": {},
   "outputs": [
    {
     "name": "stdout",
     "output_type": "stream",
     "text": [
      "multiplication table of 10\n",
      "10 x 1 = 10\n",
      "10 x 2 = 20\n",
      "10 x 3 = 30\n",
      "10 x 4 = 40\n",
      "10 x 5 = 50\n",
      "10 x 6 = 60\n",
      "10 x 7 = 70\n",
      "10 x 8 = 80\n",
      "10 x 9 = 90\n",
      "10 x 10 = 100\n"
     ]
    }
   ],
   "source": [
    "#Python Program to Display the multiplication Table\n",
    "\n",
    "# to take input from the user\n",
    "num = int(input(\"multiplication table of \"))\n",
    "\n",
    "# Iterate 10 times from i = 1 to 10\n",
    "for i in range(1, 11):\n",
    "   print(num, 'x', i, '=', num*i)\n"
   ]
  },
  {
   "cell_type": "markdown",
   "id": "f6c069b2",
   "metadata": {},
   "source": [
    "### 3.\tWrite a Python Program to Print the Fibonacci sequence?"
   ]
  },
  {
   "cell_type": "code",
   "execution_count": 3,
   "id": "2c7b94eb",
   "metadata": {},
   "outputs": [
    {
     "name": "stdout",
     "output_type": "stream",
     "text": [
      "Enter the number of terms: 10\n",
      "Fibonacci sequence:\n",
      "0\n",
      "1\n",
      "1\n",
      "2\n",
      "3\n",
      "5\n",
      "8\n",
      "13\n",
      "21\n",
      "34\n"
     ]
    }
   ],
   "source": [
    "# Python Program to print the Fibonacci sequence\n",
    "\n",
    "# take input from the user\n",
    "n_terms = int(input(\"Enter the number of terms: \"))\n",
    "\n",
    "# initialize the first two terms\n",
    "n1, n2 = 0, 1\n",
    "count = 0\n",
    "\n",
    "# check if the number of terms is valid\n",
    "if n_terms <= 0:\n",
    "   print(\"Please enter a positive integer\")\n",
    "elif n_terms == 1:\n",
    "   print(\"Fibonacci sequence:\")\n",
    "   print(n1)\n",
    "else:\n",
    "   print(\"Fibonacci sequence:\")\n",
    "   while count < n_terms:\n",
    "       print(n1)\n",
    "       nth = n1 + n2\n",
    "       # update values\n",
    "       n1 = n2\n",
    "       n2 = nth\n",
    "       count += 1"
   ]
  },
  {
   "cell_type": "markdown",
   "id": "6fecc45e",
   "metadata": {},
   "source": [
    "### 4.\tWrite a Python Program to Check Armstrong Number?"
   ]
  },
  {
   "cell_type": "code",
   "execution_count": 4,
   "id": "8e07a3d9",
   "metadata": {},
   "outputs": [
    {
     "name": "stdout",
     "output_type": "stream",
     "text": [
      "Enter the Number to Check: 9\n",
      "9 is Armstrong.\n"
     ]
    }
   ],
   "source": [
    "# Python Program to check Armstrong Number Using While Loop\n",
    "Number = int(input(\"Enter the Number to Check: \"))\n",
    "\n",
    "Sum = 0\n",
    "Times = 0\n",
    "\n",
    "Temp = Number\n",
    "while Temp > 0:\n",
    "    Times = Times + 1\n",
    "    Temp = Temp // 10\n",
    "\n",
    "Temp = Number\n",
    "while Temp > 0:\n",
    "    Reminder = Temp % 10\n",
    "    Sum = Sum + (Reminder ** Times)\n",
    "    Temp //= 10\n",
    "\n",
    "if Number == Sum:\n",
    "           print(\"%d is Armstrong.\" %Number)\n",
    "else:\n",
    "           print(\"%d is Not.\" %Number)"
   ]
  },
  {
   "cell_type": "markdown",
   "id": "30daaa36",
   "metadata": {},
   "source": [
    "### 5.\tWrite a Python Program to Find Armstrong Number in an Interval?"
   ]
  },
  {
   "cell_type": "code",
   "execution_count": 5,
   "id": "f2027eca",
   "metadata": {},
   "outputs": [
    {
     "name": "stdout",
     "output_type": "stream",
     "text": [
      "Enter lower bound: 1\n",
      "Enter upper bound: 10\n",
      "1\n",
      "2\n",
      "3\n",
      "4\n",
      "5\n",
      "6\n",
      "7\n",
      "8\n",
      "9\n"
     ]
    }
   ],
   "source": [
    "# Python Program to Find Armstrong Number in an Interval\n",
    "\n",
    "#take input from the user\n",
    "lower = int(input('Enter lower bound: '))\n",
    "upper = int(input('Enter upper bound: '))\n",
    "\n",
    "for num in range(lower, upper+1):\n",
    "\n",
    "    order = len(str(num))\n",
    "\n",
    "    Sum = 0\n",
    "\n",
    "    temp = num\n",
    "\n",
    "    while temp > 0:\n",
    "        digit = temp%10\n",
    "        Sum = Sum + digit**order\n",
    "        temp = temp//10\n",
    "    \n",
    "    if Sum == num:\n",
    "        print(num)"
   ]
  },
  {
   "cell_type": "markdown",
   "id": "affd9764",
   "metadata": {},
   "source": [
    "### 6.\tWrite a Python Program to Find the Sum of Natural Numbers?"
   ]
  },
  {
   "cell_type": "code",
   "execution_count": 6,
   "id": "ef811ba4",
   "metadata": {},
   "outputs": [
    {
     "name": "stdout",
     "output_type": "stream",
     "text": [
      "Enter a number:100\n",
      "The sum of the natural numbers is: 5050\n"
     ]
    }
   ],
   "source": [
    "# Python Program to Find the Sum of Natural Numbers\n",
    "\n",
    "#Taking user input\n",
    "num = int(input('Enter a number:'))\n",
    "\n",
    "if num < 0:\n",
    "   num = input('please enter a positive number:')\n",
    "else:\n",
    "   sum = 0\n",
    "   #Loop to iterate till zero\n",
    "   while(num > 0):\n",
    "       sum += num\n",
    "       num -= 1\n",
    "   print(\"The sum of the natural numbers is:\", sum)"
   ]
  }
 ],
 "metadata": {
  "kernelspec": {
   "display_name": "Python 3 (ipykernel)",
   "language": "python",
   "name": "python3"
  },
  "language_info": {
   "codemirror_mode": {
    "name": "ipython",
    "version": 3
   },
   "file_extension": ".py",
   "mimetype": "text/x-python",
   "name": "python",
   "nbconvert_exporter": "python",
   "pygments_lexer": "ipython3",
   "version": "3.11.2"
  }
 },
 "nbformat": 4,
 "nbformat_minor": 5
}
