{
 "cells": [
  {
   "cell_type": "markdown",
   "id": "b79ea58a",
   "metadata": {},
   "source": [
    "### 1.\tWrite a Python Program to Find LCM?"
   ]
  },
  {
   "cell_type": "code",
   "execution_count": 1,
   "id": "619a022d",
   "metadata": {},
   "outputs": [
    {
     "name": "stdout",
     "output_type": "stream",
     "text": [
      "Enter first number: 2\n",
      "Enter second number: 3\n",
      "The L.C.M. of 2 and 3 is 6\n"
     ]
    }
   ],
   "source": [
    "#Python Program to Find LCM\n",
    "\n",
    "def lcm(x, y):\n",
    "   if x > y:\n",
    "       greater = x\n",
    "   else:\n",
    "       greater = y\n",
    "\n",
    "   while True:\n",
    "       if greater % x == 0 and greater % y == 0:\n",
    "           lcm = greater\n",
    "           break\n",
    "       greater += 1\n",
    "\n",
    "   return lcm\n",
    "\n",
    "num1 = int(input(\"Enter first number: \"))\n",
    "num2 = int(input(\"Enter second number: \"))\n",
    "\n",
    "print(\"The L.C.M. of\", num1,\"and\", num2,\"is\", lcm(num1, num2))"
   ]
  },
  {
   "cell_type": "markdown",
   "id": "cd2a243a",
   "metadata": {},
   "source": [
    "### 2.\tWrite a Python Program to Find HCF?"
   ]
  },
  {
   "cell_type": "code",
   "execution_count": 2,
   "id": "a81c9017",
   "metadata": {},
   "outputs": [
    {
     "name": "stdout",
     "output_type": "stream",
     "text": [
      "Enter first number: 5\n",
      "Enter second number: 15\n",
      "The H.C.F. is 5\n"
     ]
    }
   ],
   "source": [
    "# Python program to find H.C.F of two numbers\n",
    "\n",
    "# define a function\n",
    "def compute_hcf(x, y):\n",
    "\n",
    "# choose the smaller number\n",
    "    if x > y:\n",
    "        smaller = y\n",
    "    else:\n",
    "        smaller = x\n",
    "    for i in range(1, smaller+1):\n",
    "        if((x % i == 0) and (y % i == 0)):\n",
    "            hcf = i \n",
    "    return hcf\n",
    "\n",
    "num1 = int(input(\"Enter first number: \"))\n",
    "num2 = int(input(\"Enter second number: \"))\n",
    "\n",
    "print(\"The H.C.F. is\", compute_hcf(num1, num2))"
   ]
  },
  {
   "cell_type": "markdown",
   "id": "15bf56e2",
   "metadata": {},
   "source": [
    "### 3.\tWrite a Python Program to Convert Decimal to Binary, Octal and Hexadecimal?"
   ]
  },
  {
   "cell_type": "code",
   "execution_count": 3,
   "id": "2cbec324",
   "metadata": {},
   "outputs": [
    {
     "name": "stdout",
     "output_type": "stream",
     "text": [
      "Enter a number: 100\n",
      "The decimal value of 100 is:\n",
      "0b1100100 in binary.\n",
      "0o144 in octal.\n",
      "0x64 in hexadecimal.\n"
     ]
    }
   ],
   "source": [
    "# Python program to convert decimal to Binary ,Octal and Hexadecimal\n",
    "\n",
    "decimal_num = int(input(\"Enter a number: \"))\n",
    "\n",
    "print(\"The decimal value of\", decimal_num, \"is:\")\n",
    "print(bin(decimal_num), \"in binary.\")\n",
    "print(oct(decimal_num), \"in octal.\")\n",
    "print(hex(decimal_num), \"in hexadecimal.\")"
   ]
  },
  {
   "cell_type": "markdown",
   "id": "872b9456",
   "metadata": {},
   "source": [
    "### 4.\tWrite a Python Program To Find ASCII value of a character?"
   ]
  },
  {
   "cell_type": "code",
   "execution_count": 4,
   "id": "a15626bc",
   "metadata": {},
   "outputs": [
    {
     "name": "stdout",
     "output_type": "stream",
     "text": [
      "Enter a character: a\n",
      "The ASCII value of 'a' is 97\n"
     ]
    }
   ],
   "source": [
    "# Python program to print ASCII value of a character\n",
    "\n",
    "# Taking input of a character from the user\n",
    "character = input(\"Enter a character: \")\n",
    "\n",
    "# Printing the ASCII value of the character\n",
    "print(\"The ASCII value of '\" + character + \"' is\", ord(character))"
   ]
  },
  {
   "cell_type": "markdown",
   "id": "fe67f478",
   "metadata": {},
   "source": [
    "### 5.\tWrite a Python Program to Make a Simple Calculator with 4 basic mathematical operations?"
   ]
  },
  {
   "cell_type": "code",
   "execution_count": 7,
   "id": "c8b419c1",
   "metadata": {},
   "outputs": [
    {
     "name": "stdout",
     "output_type": "stream",
     "text": [
      "\n",
      "+ add\n",
      "- substract\n",
      "* multiply\n",
      "/ divide\n",
      "\n",
      "enter the value:1 25\n",
      "enter the value:2 5\n",
      "enter the opr:> *\n",
      "125\n"
     ]
    }
   ],
   "source": [
    "# Python Program to Make a Simple Calculator\n",
    "\n",
    "print (\"\"\"\n",
    "+ add\n",
    "- substract\n",
    "* multiply\n",
    "/ divide\n",
    "\"\"\"\n",
    ")\n",
    "\n",
    "num1 = int(input(\"enter the value:1 \"))\n",
    "num2 = int(input(\"enter the value:2 \"))\n",
    "opr = input(\"enter the opr:> \")\n",
    "\n",
    "if opr ==\"+\" :\n",
    "   print(num1+num2)\n",
    "elif opr == \"-\" :\n",
    "   print(num1-num2)\n",
    "elif opr == \"*\" :\n",
    "   print(num1*num2)\n",
    "elif opr == \"/\" :\n",
    "   print(num1/num2)\n",
    "\n",
    "else :\n",
    "  print(\"invalid opr:> \")"
   ]
  }
 ],
 "metadata": {
  "kernelspec": {
   "display_name": "Python 3 (ipykernel)",
   "language": "python",
   "name": "python3"
  },
  "language_info": {
   "codemirror_mode": {
    "name": "ipython",
    "version": 3
   },
   "file_extension": ".py",
   "mimetype": "text/x-python",
   "name": "python",
   "nbconvert_exporter": "python",
   "pygments_lexer": "ipython3",
   "version": "3.11.2"
  }
 },
 "nbformat": 4,
 "nbformat_minor": 5
}
