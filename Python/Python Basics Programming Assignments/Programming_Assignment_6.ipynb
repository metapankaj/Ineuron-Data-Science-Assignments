{
 "cells": [
  {
   "cell_type": "markdown",
   "id": "c2ac762e",
   "metadata": {},
   "source": [
    "###  1. Write a Python Program to Display Fibonacci Sequence Using Recursion?"
   ]
  },
  {
   "cell_type": "code",
   "execution_count": 1,
   "id": "f038e7e3",
   "metadata": {},
   "outputs": [
    {
     "name": "stdout",
     "output_type": "stream",
     "text": [
      "Enter the number of terms: 7\n",
      "Fibonacci sequence:\n",
      "0\n",
      "1\n",
      "1\n",
      "2\n",
      "3\n",
      "5\n",
      "8\n"
     ]
    }
   ],
   "source": [
    "#Python Program to Display Fibonacci Sequence Using Recursion\n",
    "\n",
    "def fibonacci(n):\n",
    "    if n <= 1:\n",
    "        return n\n",
    "    else:\n",
    "        return fibonacci(n-1) + fibonacci(n-2)\n",
    "    \n",
    "#taking input from user\n",
    "\n",
    "num_terms = int(input(\"Enter the number of terms: \"))\n",
    "\n",
    "if num_terms <= 0:\n",
    "    print(\"Invalid input. Please enter a positive integer.\")\n",
    "else:\n",
    "    print(\"Fibonacci sequence:\")\n",
    "    for i in range(num_terms):\n",
    "        print(fibonacci(i))"
   ]
  },
  {
   "cell_type": "markdown",
   "id": "2e4b5d06",
   "metadata": {},
   "source": [
    "### 2. Write a Python Program to Find Factorial of a Number Using Recursion?"
   ]
  },
  {
   "cell_type": "code",
   "execution_count": 2,
   "id": "7a252fc4",
   "metadata": {},
   "outputs": [
    {
     "name": "stdout",
     "output_type": "stream",
     "text": [
      "Enter a positive integer: 5\n",
      "The factorial of 5 is 120.\n"
     ]
    }
   ],
   "source": [
    "#Python Program to Find Factorial of a Number Using Recursion\n",
    "\n",
    "def factorial(n):\n",
    "    if n == 0:\n",
    "        return 1\n",
    "    else:\n",
    "        return n * factorial(n-1)\n",
    "    \n",
    "#taking input from user\n",
    "\n",
    "num = int(input(\"Enter a positive integer: \"))\n",
    "\n",
    "if num < 0:\n",
    "    print(\"Invalid input. Please enter a positive integer.\")\n",
    "else:\n",
    "    print(f\"The factorial of {num} is {factorial(num)}.\")\n"
   ]
  },
  {
   "cell_type": "markdown",
   "id": "def33a09",
   "metadata": {},
   "source": [
    "### 3. Write a Python Program to calculate your Body Mass Index?"
   ]
  },
  {
   "cell_type": "code",
   "execution_count": 3,
   "id": "ef3b20ed",
   "metadata": {},
   "outputs": [
    {
     "name": "stdout",
     "output_type": "stream",
     "text": [
      "Enter your height in meters: 1.5\n",
      "Enter your weight in kilograms: 50\n",
      "Your Body Mass Index (BMI) is 22.22.\n"
     ]
    }
   ],
   "source": [
    "#python Program to calculate  Body Mass Index\n",
    "\n",
    "#taking input from user \n",
    "height = float(input(\"Enter your height in meters: \"))\n",
    "weight = float(input(\"Enter your weight in kilograms: \"))\n",
    "\n",
    "bmi = weight / (height ** 2)\n",
    "\n",
    "print(f\"Your Body Mass Index (BMI) is {bmi:.2f}.\")\n"
   ]
  },
  {
   "cell_type": "markdown",
   "id": "a901a6a8",
   "metadata": {},
   "source": [
    "### 4. Write a Python Program to calculate the natural logarithm of any number?"
   ]
  },
  {
   "cell_type": "code",
   "execution_count": 4,
   "id": "df473c56",
   "metadata": {},
   "outputs": [
    {
     "name": "stdout",
     "output_type": "stream",
     "text": [
      "Enter a number: 9\n",
      "The natural logarithm of 9.0 is 2.20.\n"
     ]
    }
   ],
   "source": [
    "#Python Program to calculate the natural logarithm of any number\n",
    "\n",
    "import math\n",
    "\n",
    "num = float(input(\"Enter a number: \"))\n",
    "\n",
    "if num <= 0:\n",
    "    print(\"Invalid input. Please enter a positive number.\")\n",
    "else:\n",
    "    ln = math.log(num)\n",
    "    print(f\"The natural logarithm of {num} is {ln:.2f}.\")"
   ]
  },
  {
   "cell_type": "markdown",
   "id": "b6e2808f",
   "metadata": {},
   "source": [
    "### 5. Write a Python Program for cube sum of first n natural numbers?"
   ]
  },
  {
   "cell_type": "code",
   "execution_count": 5,
   "id": "36b8d5e0",
   "metadata": {},
   "outputs": [
    {
     "name": "stdout",
     "output_type": "stream",
     "text": [
      "Enter a positive integer: 5\n",
      "The cube sum of the first 5 natural numbers is 225.\n"
     ]
    }
   ],
   "source": [
    "#Python Program for cube sum of first n natural numbers\n",
    "\n",
    "#taking input from user\n",
    "\n",
    "num = int(input(\"Enter a positive integer: \"))\n",
    "\n",
    "if num <= 0:\n",
    "    print(\"Invalid input. Please enter a positive integer.\")\n",
    "else:\n",
    "    cube_sum = sum(i**3 for i in range(1, num+1))\n",
    "    print(f\"The cube sum of the first {num} natural numbers is {cube_sum}.\")"
   ]
  }
 ],
 "metadata": {
  "kernelspec": {
   "display_name": "Python 3 (ipykernel)",
   "language": "python",
   "name": "python3"
  },
  "language_info": {
   "codemirror_mode": {
    "name": "ipython",
    "version": 3
   },
   "file_extension": ".py",
   "mimetype": "text/x-python",
   "name": "python",
   "nbconvert_exporter": "python",
   "pygments_lexer": "ipython3",
   "version": "3.10.9"
  }
 },
 "nbformat": 4,
 "nbformat_minor": 5
}
