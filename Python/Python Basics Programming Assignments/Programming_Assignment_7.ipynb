{
 "cells": [
  {
   "cell_type": "markdown",
   "id": "e6161f41",
   "metadata": {},
   "source": [
    "### 1. Write a Python Program to find sum of array?"
   ]
  },
  {
   "cell_type": "code",
   "execution_count": 1,
   "id": "f246fe0f",
   "metadata": {},
   "outputs": [
    {
     "name": "stdout",
     "output_type": "stream",
     "text": [
      "The sum of the array is: 55\n"
     ]
    }
   ],
   "source": [
    "#Python Program to find sum of array\n",
    "\n",
    "# Define the array\n",
    "array = [1, 2, 3, 4, 5 ,6 ,7 ,8 ,9 ,10]\n",
    "\n",
    "# Define a variable to store the sum\n",
    "sum = 0\n",
    "\n",
    "# Loop through each element in the array and add it to the sum\n",
    "for i in array:\n",
    "    sum += i\n",
    "\n",
    "# Print the sum\n",
    "print(\"The sum of the array is:\", sum)"
   ]
  },
  {
   "cell_type": "markdown",
   "id": "e478cfb4",
   "metadata": {},
   "source": [
    "### 2. Write a Python Program to find largest element in an array?"
   ]
  },
  {
   "cell_type": "code",
   "execution_count": 2,
   "id": "549b9263",
   "metadata": {},
   "outputs": [
    {
     "name": "stdout",
     "output_type": "stream",
     "text": [
      "The largest element in the array is: 9\n"
     ]
    }
   ],
   "source": [
    "#Python Program to find largest element in an array\n",
    "\n",
    "# Define the array\n",
    "array = [6,9,5,1,7,3]\n",
    "\n",
    "# Initialize a variable to store the largest element\n",
    "largest = array[0]\n",
    "\n",
    "# Loop through the array and compare each element to the largest element\n",
    "for i in range(1, len(array)):\n",
    "    if array[i] > largest:\n",
    "        largest = array[i]\n",
    "\n",
    "# Print the largest element\n",
    "print(\"The largest element in the array is:\", largest)\n"
   ]
  },
  {
   "cell_type": "markdown",
   "id": "a6a7ef03",
   "metadata": {},
   "source": [
    "### 3. Write a Python Program for array rotation?"
   ]
  },
  {
   "cell_type": "code",
   "execution_count": 3,
   "id": "8e110e8b",
   "metadata": {},
   "outputs": [
    {
     "name": "stdout",
     "output_type": "stream",
     "text": [
      "The rotated array is: [4, 3, 2, 1, 9, 8, 7, 6, 5]\n"
     ]
    }
   ],
   "source": [
    "#Python Program for array rotation\n",
    "\n",
    "# Define the array\n",
    "array = [9,8,7,6,5,4,3,2,1]\n",
    "\n",
    "# Define the number of rotations\n",
    "k = 5\n",
    "\n",
    "# Perform the rotation\n",
    "array = array[k:] + array[:k]\n",
    "\n",
    "# Print the rotated array\n",
    "print(\"The rotated array is:\", array)\n"
   ]
  },
  {
   "cell_type": "markdown",
   "id": "e966b48e",
   "metadata": {},
   "source": [
    "### 4. Write a Python Program to Split the array and add the first part to the end?"
   ]
  },
  {
   "cell_type": "code",
   "execution_count": 4,
   "id": "e096ac3a",
   "metadata": {},
   "outputs": [
    {
     "name": "stdout",
     "output_type": "stream",
     "text": [
      "The modified array is: [4, 5, 6, 7, 1, 2, 3]\n"
     ]
    }
   ],
   "source": [
    "#Python Program to Split the array and add the first part to the end\n",
    "\n",
    "# Define the array\n",
    "array = [1, 2, 3, 4, 5, 6, 7]\n",
    "\n",
    "# Define the index to split the array\n",
    "k = 3\n",
    "\n",
    "# Split the array and add the first part to the end\n",
    "array = array[k:] + array[:k]\n",
    "\n",
    "# Print the modified array\n",
    "print(\"The modified array is:\", array)\n"
   ]
  },
  {
   "cell_type": "markdown",
   "id": "a29edfca",
   "metadata": {},
   "source": [
    "### 5. Write a Python Program to check if given array is Monotonic?"
   ]
  },
  {
   "cell_type": "code",
   "execution_count": 5,
   "id": "c0a7e3cd",
   "metadata": {},
   "outputs": [
    {
     "name": "stdout",
     "output_type": "stream",
     "text": [
      "The array is monotonic.\n"
     ]
    }
   ],
   "source": [
    "#Python Program to check if given array is Monotonic\n",
    "\n",
    "# Define the array\n",
    "array = [1, 2, 3, 4, 5 ,6 ,7 ,8 ,9]\n",
    "\n",
    "# Define a variable to track the monotonicity of the array\n",
    "is_monotonic = True\n",
    "\n",
    "# Check if the array is monotonic increasing\n",
    "for i in range(len(array) - 1):\n",
    "    if array[i] > array[i + 1]:\n",
    "        is_monotonic = False\n",
    "        break\n",
    "\n",
    "# If the array is not monotonic increasing, check if it is monotonic decreasing\n",
    "if not is_monotonic:\n",
    "    is_monotonic = True\n",
    "    for i in range(len(array) - 1):\n",
    "        if array[i] < array[i + 1]:\n",
    "            is_monotonic = False\n",
    "            break\n",
    "\n",
    "# Print whether the array is monotonic or not\n",
    "if is_monotonic:\n",
    "    print(\"The array is monotonic.\")\n",
    "else:\n",
    "    print(\"The array is not monotonic.\")\n"
   ]
  }
 ],
 "metadata": {
  "kernelspec": {
   "display_name": "Python 3 (ipykernel)",
   "language": "python",
   "name": "python3"
  },
  "language_info": {
   "codemirror_mode": {
    "name": "ipython",
    "version": 3
   },
   "file_extension": ".py",
   "mimetype": "text/x-python",
   "name": "python",
   "nbconvert_exporter": "python",
   "pygments_lexer": "ipython3",
   "version": "3.10.9"
  }
 },
 "nbformat": 4,
 "nbformat_minor": 5
}
