{
 "cells": [
  {
   "cell_type": "markdown",
   "id": "c2c28de6",
   "metadata": {},
   "source": [
    "**1. In the below elements which of them are values or an expression? eg:- values can be\n",
    "integer or string and expressions will be mathematical operators.**\n",
    "\n",
    "*,\n",
    "\n",
    "\n",
    "\"hello\" ,\n",
    "\n",
    "-87.8    \n",
    "\n",
    "\n",
    "-,\n",
    "\n",
    "\n",
    "\n",
    "/,\n",
    "\n",
    "\n",
    "\n",
    "\n",
    "+,\n",
    "\n",
    "\n",
    "\n",
    "\n",
    "\n",
    "\n",
    "6\n",
    "\n"
   ]
  },
  {
   "cell_type": "markdown",
   "id": "da71c704",
   "metadata": {},
   "source": [
    "**Answer**\n",
    "\n",
    "Values =    \"hello\" , -87.8  , 6\n",
    "\n",
    "Expressions = *  ,   -  , /    ,  +"
   ]
  },
  {
   "cell_type": "markdown",
   "id": "5b86c892",
   "metadata": {},
   "source": [
    "**2. What is the difference between string and variable?**"
   ]
  },
  {
   "cell_type": "markdown",
   "id": "b479ee82",
   "metadata": {},
   "source": [
    "**Answer**\n",
    "\n",
    "A **variable** is a named storage location in computer memory that holds a value. It is used to store and manipulate data within a program. \n",
    "\n",
    "A **string** is a specific data type that represents a sequence of characters. It is used to store and manipulate text or a combination of alphanumeric characters. Strings are typically enclosed in quotation marks, such as single quotes ('') or double quotes (\"\")."
   ]
  },
  {
   "cell_type": "markdown",
   "id": "cab73eab",
   "metadata": {},
   "source": [
    "**3. Describe three different data types.**"
   ]
  },
  {
   "cell_type": "markdown",
   "id": "8dd9b94f",
   "metadata": {},
   "source": [
    "**Answer**\n",
    "\n",
    "Here are three commonly used data types in Python:"
   ]
  },
  {
   "cell_type": "markdown",
   "id": "6ec4cef5",
   "metadata": {},
   "source": [
    "1. **Integer (int)** : The integer data type represents whole numbers, both positive and negative, without any fractional parts. "
   ]
  },
  {
   "cell_type": "code",
   "execution_count": 1,
   "id": "8f7aa79c",
   "metadata": {},
   "outputs": [
    {
     "name": "stdout",
     "output_type": "stream",
     "text": [
      "<class 'int'>\n",
      "<class 'int'>\n"
     ]
    }
   ],
   "source": [
    "#example \n",
    "x= 6\n",
    "y = 10\n",
    "\n",
    "print(type(x,))\n",
    "print(type(y,))"
   ]
  },
  {
   "cell_type": "markdown",
   "id": "04241c02",
   "metadata": {},
   "source": [
    "2 . **Float (float)** : The float data type represents real numbers with a decimal point. It is used to store numbers with fractional parts."
   ]
  },
  {
   "cell_type": "code",
   "execution_count": 2,
   "id": "5bc899ea",
   "metadata": {},
   "outputs": [
    {
     "name": "stdout",
     "output_type": "stream",
     "text": [
      "<class 'float'>\n",
      "<class 'float'>\n"
     ]
    }
   ],
   "source": [
    "#example\n",
    "x = 2.5\n",
    "y = 7.9\n",
    "\n",
    "\n",
    "print(type(x,))\n",
    "print(type(y,))"
   ]
  },
  {
   "cell_type": "markdown",
   "id": "391a1644",
   "metadata": {},
   "source": [
    "3 . **String (str)** : The string data type represents a sequence of characters enclosed in single quotes (' ') or double quotes (\" \"). It is used to store textual data."
   ]
  },
  {
   "cell_type": "code",
   "execution_count": 3,
   "id": "448e00c6",
   "metadata": {},
   "outputs": [
    {
     "name": "stdout",
     "output_type": "stream",
     "text": [
      "<class 'str'>\n",
      "<class 'str'>\n"
     ]
    }
   ],
   "source": [
    "#example \n",
    "name = \"pankaj\"\n",
    "country = \"india\"\n",
    "\n",
    "print(type(name))\n",
    "print(type(country))"
   ]
  },
  {
   "cell_type": "markdown",
   "id": "0d32ec42",
   "metadata": {},
   "source": [
    "**4. What is an expression made up of? What do all expressions do?**"
   ]
  },
  {
   "cell_type": "markdown",
   "id": "c1b6c31f",
   "metadata": {},
   "source": [
    "Answer\n",
    "\n",
    "An expression is a combination of values, variables, operators, and function calls that can be evaluated to produce a result. It represents a computation or a calculation."
   ]
  },
  {
   "cell_type": "markdown",
   "id": "a007828a",
   "metadata": {},
   "source": [
    "Expressions are used in various contexts, such as mathematical calculations, assigning values to variables, controlling conditional statements, and specifying arguments for function calls."
   ]
  },
  {
   "cell_type": "markdown",
   "id": "e295bfd1",
   "metadata": {},
   "source": [
    "**5. This assignment statements, like spam = 10. What is the difference between an\n",
    "expression and a statement?**"
   ]
  },
  {
   "cell_type": "markdown",
   "id": "d73dca51",
   "metadata": {},
   "source": [
    "Answer\n",
    "\n",
    "\n",
    "Expressions are evaluated to produce a value, while statements perform actions or instructions."
   ]
  },
  {
   "cell_type": "markdown",
   "id": "4b86a473",
   "metadata": {},
   "source": [
    "The statement \"spam = 10\" is an assignment statement. It assigns the value 10 to the variable named \"spam.\" The expression on the right side of the assignment operator (=) is \"10,\" which is evaluated to produce the value that is then assigned to the variable \"spam."
   ]
  },
  {
   "cell_type": "markdown",
   "id": "35fd606d",
   "metadata": {},
   "source": [
    "**6. After running the following code, what does the variable bacon contain?**\n",
    "\n",
    "bacon = 22\n",
    "\n",
    "\n",
    "bacon + 1"
   ]
  },
  {
   "cell_type": "code",
   "execution_count": 4,
   "id": "f3345f89",
   "metadata": {},
   "outputs": [
    {
     "data": {
      "text/plain": [
       "23"
      ]
     },
     "execution_count": 4,
     "metadata": {},
     "output_type": "execute_result"
    }
   ],
   "source": [
    "bacon = 22\n",
    "bacon + 1"
   ]
  },
  {
   "cell_type": "code",
   "execution_count": 5,
   "id": "3dd0e205",
   "metadata": {},
   "outputs": [
    {
     "name": "stdout",
     "output_type": "stream",
     "text": [
      "22\n"
     ]
    }
   ],
   "source": [
    "bacon = 22\n",
    "bacon + 1\n",
    "print(bacon)"
   ]
  },
  {
   "cell_type": "markdown",
   "id": "de87ad29",
   "metadata": {},
   "source": [
    "After running the code, the variable \"bacon\" would contain the value 22.\n",
    "\n",
    "The expression \"bacon + 1\" does not modify the value of the variable \"bacon\"; it only performs addition with the value of \"bacon\" (which is 22) and 1. However, the result of the addition (23) is not assigned to any variable, so it is not stored or used further in the code."
   ]
  },
  {
   "cell_type": "markdown",
   "id": "2f3d3664",
   "metadata": {},
   "source": [
    "**7. What should the values of the following two terms be?**\n",
    "\n",
    "'spam' + 'spamspam'\n",
    "\n",
    "\n",
    "\n",
    "'spam'*3"
   ]
  },
  {
   "cell_type": "code",
   "execution_count": 6,
   "id": "e56b0918",
   "metadata": {},
   "outputs": [
    {
     "name": "stdout",
     "output_type": "stream",
     "text": [
      "spamspamspam\n"
     ]
    }
   ],
   "source": [
    "var_1 = 'spam' + 'spamspam'\n",
    "\n",
    "print(var_1)"
   ]
  },
  {
   "cell_type": "code",
   "execution_count": 7,
   "id": "4cf64d02",
   "metadata": {},
   "outputs": [
    {
     "name": "stdout",
     "output_type": "stream",
     "text": [
      "spamspamspam\n"
     ]
    }
   ],
   "source": [
    "var_2 = 'spam'*3\n",
    "print(var_2)"
   ]
  },
  {
   "cell_type": "markdown",
   "id": "c5b74e22",
   "metadata": {},
   "source": [
    "**8. Why is eggs a valid variable name while 100 is invalid?**"
   ]
  },
  {
   "cell_type": "markdown",
   "id": "4be87651",
   "metadata": {},
   "source": [
    "**Rules for Python variables:**\n",
    "\n",
    "* A variable name must start with a letter or the underscore character\n",
    "\n",
    "*  **A variable name cannot start with a number**\n",
    "* A variable name can only contain alpha-numeric characters and underscores (A-z, 0-9, and _ ).\n",
    "* Variable names are case-sensitive (age, Age and AGE are three different variables)\n",
    "\n",
    "\"eggs\" is a valid variable name because it starts with a letter, it contains alphabets.\n",
    "\n",
    "\"100\" is a invalid variable name because it starts witha number, it is not an alpha-numeric character.\n",
    "\n",
    "valid examples can be _100, a100, a_100."
   ]
  },
  {
   "cell_type": "markdown",
   "id": "c804c743",
   "metadata": {},
   "source": [
    "**9. What three functions can be used to get the integer, floating-point number, or string\n",
    "version of a value?**"
   ]
  },
  {
   "cell_type": "markdown",
   "id": "f332dc01",
   "metadata": {},
   "source": [
    "int(), float() and str() are the three functions used to get the integer, floating-point number, or string version of a value repectively"
   ]
  },
  {
   "cell_type": "markdown",
   "id": "20621fd9",
   "metadata": {},
   "source": [
    "**10. Why does this expression cause an error? How can you fix it?**\n",
    "\n",
    "'I have eaten' + 99 + 'burritos'"
   ]
  },
  {
   "cell_type": "code",
   "execution_count": 8,
   "id": "4d7525d9",
   "metadata": {},
   "outputs": [
    {
     "ename": "TypeError",
     "evalue": "can only concatenate str (not \"int\") to str",
     "output_type": "error",
     "traceback": [
      "\u001b[1;31m---------------------------------------------------------------------------\u001b[0m",
      "\u001b[1;31mTypeError\u001b[0m                                 Traceback (most recent call last)",
      "Cell \u001b[1;32mIn[8], line 1\u001b[0m\n\u001b[1;32m----> 1\u001b[0m \u001b[38;5;124;43m'\u001b[39;49m\u001b[38;5;124;43mI have eaten\u001b[39;49m\u001b[38;5;124;43m'\u001b[39;49m\u001b[43m \u001b[49m\u001b[38;5;241;43m+\u001b[39;49m\u001b[43m \u001b[49m\u001b[43m(\u001b[49m\u001b[38;5;241;43m99\u001b[39;49m\u001b[43m)\u001b[49m \u001b[38;5;241m+\u001b[39m \u001b[38;5;124m'\u001b[39m\u001b[38;5;124mburritos\u001b[39m\u001b[38;5;124m'\u001b[39m\n",
      "\u001b[1;31mTypeError\u001b[0m: can only concatenate str (not \"int\") to str"
     ]
    }
   ],
   "source": [
    "'I have eaten' + (99) + 'burritos'"
   ]
  },
  {
   "cell_type": "markdown",
   "id": "58317139",
   "metadata": {},
   "source": [
    "* **The expression cause an error because 99 is an integer value and only string can be concatenated with other strings with '+' operator.**"
   ]
  },
  {
   "cell_type": "markdown",
   "id": "de8f5375",
   "metadata": {},
   "source": [
    "To fix it, we need to convert the integer value 99 to a string before concatenation."
   ]
  },
  {
   "cell_type": "markdown",
   "id": "807cc205",
   "metadata": {},
   "source": [
    "* to do this is by using the str() function"
   ]
  },
  {
   "cell_type": "code",
   "execution_count": 9,
   "id": "615bc2f6",
   "metadata": {},
   "outputs": [
    {
     "data": {
      "text/plain": [
       "'I have eaten 99 burritos.'"
      ]
     },
     "execution_count": 9,
     "metadata": {},
     "output_type": "execute_result"
    }
   ],
   "source": [
    "'I have eaten ' + str(99) + ' burritos.'"
   ]
  }
 ],
 "metadata": {
  "kernelspec": {
   "display_name": "Python 3 (ipykernel)",
   "language": "python",
   "name": "python3"
  },
  "language_info": {
   "codemirror_mode": {
    "name": "ipython",
    "version": 3
   },
   "file_extension": ".py",
   "mimetype": "text/x-python",
   "name": "python",
   "nbconvert_exporter": "python",
   "pygments_lexer": "ipython3",
   "version": "3.10.9"
  }
 },
 "nbformat": 4,
 "nbformat_minor": 5
}
