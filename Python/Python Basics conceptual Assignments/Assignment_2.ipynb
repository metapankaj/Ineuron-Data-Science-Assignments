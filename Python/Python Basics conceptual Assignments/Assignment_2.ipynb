{
 "cells": [
  {
   "cell_type": "markdown",
   "id": "d8180bc3",
   "metadata": {},
   "source": [
    "**Q1.What are the two values of the Boolean data type? How do you write them?**"
   ]
  },
  {
   "cell_type": "markdown",
   "id": "b42013ac",
   "metadata": {},
   "source": [
    "The two values of a Boolean data type are :\n",
    "\n",
    "1. **True**\n",
    "2. **False**"
   ]
  },
  {
   "cell_type": "code",
   "execution_count": 1,
   "id": "f46c65bd",
   "metadata": {},
   "outputs": [
    {
     "name": "stdout",
     "output_type": "stream",
     "text": [
      "False\n",
      "True\n"
     ]
    }
   ],
   "source": [
    "#Example usage:\n",
    "print(2>3)\n",
    "print(5<8)"
   ]
  },
  {
   "cell_type": "markdown",
   "id": "ccbeeb37",
   "metadata": {},
   "source": [
    "**Q2. What are the three different types of Boolean operators?**"
   ]
  },
  {
   "cell_type": "markdown",
   "id": "0fa67226",
   "metadata": {},
   "source": [
    "The three different Boolean operators are :\n",
    "\n",
    "1. **and**\n",
    "2. **or**\n",
    "3. **not**"
   ]
  },
  {
   "cell_type": "markdown",
   "id": "1c67adaa",
   "metadata": {},
   "source": [
    "* The **and** operator returns True if both operands are true; otherwise, it returns False."
   ]
  },
  {
   "cell_type": "code",
   "execution_count": 2,
   "id": "255181be",
   "metadata": {},
   "outputs": [
    {
     "name": "stdout",
     "output_type": "stream",
     "text": [
      "True\n"
     ]
    }
   ],
   "source": [
    "#exapmle usage1:\n",
    " \n",
    "x = 4<5\n",
    "y = 6>2\n",
    "\n",
    "z = x and y\n",
    "print(z)"
   ]
  },
  {
   "cell_type": "code",
   "execution_count": 3,
   "id": "aa731776",
   "metadata": {},
   "outputs": [
    {
     "name": "stdout",
     "output_type": "stream",
     "text": [
      "False\n"
     ]
    }
   ],
   "source": [
    "#exapmle usage2:\n",
    "\n",
    "x = 8>3\n",
    "y = 9<5\n",
    "\n",
    "z = x and y\n",
    "print(z)"
   ]
  },
  {
   "cell_type": "markdown",
   "id": "11e9b463",
   "metadata": {},
   "source": [
    "* The **or** operator returns True if at least one of the operands is true; otherwise, it returns False."
   ]
  },
  {
   "cell_type": "code",
   "execution_count": 4,
   "id": "b1c3e46f",
   "metadata": {},
   "outputs": [
    {
     "name": "stdout",
     "output_type": "stream",
     "text": [
      "True\n"
     ]
    }
   ],
   "source": [
    "#Example usage1:\n",
    "\n",
    "x= 5>1\n",
    "y= 3>9\n",
    "z = x or y\n",
    "print(z)   "
   ]
  },
  {
   "cell_type": "code",
   "execution_count": 5,
   "id": "5e2ea58d",
   "metadata": {},
   "outputs": [
    {
     "name": "stdout",
     "output_type": "stream",
     "text": [
      "False\n"
     ]
    }
   ],
   "source": [
    "#Example usage2:\n",
    "\n",
    "x= 7<1\n",
    "y= 3<2\n",
    "z = x or y\n",
    "print(z)"
   ]
  },
  {
   "cell_type": "markdown",
   "id": "150759c8",
   "metadata": {},
   "source": [
    "* The **not** operator negates the Boolean value. If the operand is True, it returns False, and if the operand is False, it returns True."
   ]
  },
  {
   "cell_type": "code",
   "execution_count": 6,
   "id": "469dcf8f",
   "metadata": {},
   "outputs": [
    {
     "name": "stdout",
     "output_type": "stream",
     "text": [
      "False\n"
     ]
    }
   ],
   "source": [
    "#Example usage1:\n",
    "\n",
    "x = True\n",
    "result = not x\n",
    "print(result)"
   ]
  },
  {
   "cell_type": "code",
   "execution_count": 7,
   "id": "be1509b7",
   "metadata": {},
   "outputs": [
    {
     "name": "stdout",
     "output_type": "stream",
     "text": [
      "True\n"
     ]
    }
   ],
   "source": [
    "y = False \n",
    "result = not y\n",
    "print(result)"
   ]
  },
  {
   "cell_type": "markdown",
   "id": "27b58a40",
   "metadata": {},
   "source": [
    "**Q3. Make a list of each Boolean operator's truth tables (i.e. every possible combination of Boolean\n",
    "values for the operator and what it evaluate ).**"
   ]
  },
  {
   "cell_type": "markdown",
   "id": "be28b8c5",
   "metadata": {},
   "source": [
    "**AND operator (and):**\n",
    "\n",
    " **A**  ------------   **B** ----------------\t        **A** and **B**\n",
    "\n",
    " False\t-------   False ----------\t          False\n",
    "\n",
    " False\t-------   True\t -----------      False\n",
    "\n",
    " True\t--------   False -----------          False\n",
    "\n",
    " True\t--------   True\t ------------       True"
   ]
  },
  {
   "cell_type": "markdown",
   "id": "db2e4986",
   "metadata": {},
   "source": [
    "**OR operator (or):**\n",
    "\n",
    "**A**-----------------**B**---------------**A or B**\n",
    "\n",
    "False---------False------------\tFalse\n",
    "\n",
    "False---------True-------------\tTrue\n",
    "\n",
    "True----------\tFalse------------\tTrue\n",
    "\n",
    "True----------\tTrue-------------\tTrue"
   ]
  },
  {
   "cell_type": "markdown",
   "id": "0067048e",
   "metadata": {},
   "source": [
    "**NOT operator (not):**\n",
    "    \n",
    "**A**----------------------**not A**\n",
    "\n",
    "False--------------\tTrue\n",
    "\n",
    "True---------------\tFalse"
   ]
  },
  {
   "cell_type": "markdown",
   "id": "b688384c",
   "metadata": {},
   "source": [
    "**Q4. What are the values of the following expressions?**\n",
    "\n",
    "(5 &gt; 4) and (3 == 5)\n",
    "\n",
    "not (5 &gt; 4)\n",
    "\n",
    "(5 &gt; 4) or (3 == 5)\n",
    "\n",
    "not ((5 &gt; 4) or (3 == 5))\n",
    "\n",
    "(True and True) and (True == False)\n",
    "\n",
    "(not False) or (not True)"
   ]
  },
  {
   "cell_type": "code",
   "execution_count": 8,
   "id": "778fc4ea",
   "metadata": {},
   "outputs": [
    {
     "data": {
      "text/plain": [
       "False"
      ]
     },
     "execution_count": 8,
     "metadata": {},
     "output_type": "execute_result"
    }
   ],
   "source": [
    "(5 > 4) and (3 == 5)"
   ]
  },
  {
   "cell_type": "code",
   "execution_count": 9,
   "id": "466937e3",
   "metadata": {},
   "outputs": [
    {
     "data": {
      "text/plain": [
       "False"
      ]
     },
     "execution_count": 9,
     "metadata": {},
     "output_type": "execute_result"
    }
   ],
   "source": [
    "not (5 > 4)"
   ]
  },
  {
   "cell_type": "code",
   "execution_count": 10,
   "id": "b5672542",
   "metadata": {},
   "outputs": [
    {
     "data": {
      "text/plain": [
       "True"
      ]
     },
     "execution_count": 10,
     "metadata": {},
     "output_type": "execute_result"
    }
   ],
   "source": [
    "(5 > 4) or (3 == 5)"
   ]
  },
  {
   "cell_type": "code",
   "execution_count": 11,
   "id": "fb72c538",
   "metadata": {},
   "outputs": [
    {
     "data": {
      "text/plain": [
       "False"
      ]
     },
     "execution_count": 11,
     "metadata": {},
     "output_type": "execute_result"
    }
   ],
   "source": [
    "not ((5 > 4) or (3 == 5))"
   ]
  },
  {
   "cell_type": "code",
   "execution_count": 12,
   "id": "65d6eeb5",
   "metadata": {},
   "outputs": [
    {
     "data": {
      "text/plain": [
       "False"
      ]
     },
     "execution_count": 12,
     "metadata": {},
     "output_type": "execute_result"
    }
   ],
   "source": [
    "(True and True) and (True == False)"
   ]
  },
  {
   "cell_type": "code",
   "execution_count": 13,
   "id": "d990d61c",
   "metadata": {},
   "outputs": [
    {
     "data": {
      "text/plain": [
       "True"
      ]
     },
     "execution_count": 13,
     "metadata": {},
     "output_type": "execute_result"
    }
   ],
   "source": [
    "(not False) or (not True)"
   ]
  },
  {
   "cell_type": "markdown",
   "id": "d2689d93",
   "metadata": {},
   "source": [
    "**Q5. What are the six comparison operators?**"
   ]
  },
  {
   "cell_type": "markdown",
   "id": "4a94b35d",
   "metadata": {},
   "source": [
    "The six comparison operators  are:\n",
    "\n",
    "1. Equal to (==) \n",
    "2. Not equal to (!=) \n",
    "3. Greater than (>) \n",
    "4. Less than (<) \n",
    "5. Greater than or equal to (>=) \n",
    "6. Less than or equal to (<=)\n",
    "    "
   ]
  },
  {
   "cell_type": "markdown",
   "id": "2666739c",
   "metadata": {},
   "source": [
    "**Q6. How do you tell the difference between the equal to and assignment operators?Describe a\n",
    "condition and when you would use one.**"
   ]
  },
  {
   "cell_type": "markdown",
   "id": "f07c9e64",
   "metadata": {},
   "source": [
    "**Equal to operator (==):** It is used for comparison. It checks if the values on both sides of the operator are equal.\n",
    "\n",
    "**Assignment operator (=):** It is used to assign a value to a variable. It assigns the value on the right side of the operator to the variable on the left side."
   ]
  },
  {
   "cell_type": "code",
   "execution_count": 14,
   "id": "1f1dc1bf",
   "metadata": {},
   "outputs": [
    {
     "name": "stdout",
     "output_type": "stream",
     "text": [
      "True\n"
     ]
    }
   ],
   "source": [
    "#Example usage1:\n",
    "\n",
    "x = 5*3\n",
    "y = 15\n",
    "if x ==y:\n",
    "    print(True)\n",
    "    \n",
    "else:\n",
    "    print(False)"
   ]
  },
  {
   "cell_type": "code",
   "execution_count": 15,
   "id": "8e2cd376",
   "metadata": {},
   "outputs": [
    {
     "name": "stdout",
     "output_type": "stream",
     "text": [
      "False\n"
     ]
    }
   ],
   "source": [
    "#Example usage2: \n",
    "\n",
    "x = 2+2\n",
    "y = 20\n",
    "if x ==y:\n",
    "    print(True)\n",
    "    \n",
    "else:\n",
    "    print(False)"
   ]
  },
  {
   "cell_type": "markdown",
   "id": "6726e5a4",
   "metadata": {},
   "source": [
    "**Q7. Identify the three blocks in this code:**"
   ]
  },
  {
   "cell_type": "markdown",
   "id": "4b1c0039",
   "metadata": {},
   "source": [
    "spam =0\n",
    "\n",
    "if spam == 10:\n",
    "\n",
    "    print('eggs')\n",
    "    \n",
    "if spam>5:\n",
    "\n",
    "    print('bacon')\n",
    "    \n",
    "else:\n",
    "\n",
    "    print('ham')\n",
    "    \n",
    "    print('spam')\n",
    "    \n",
    "    print('spam') "
   ]
  },
  {
   "cell_type": "markdown",
   "id": "262a187b",
   "metadata": {},
   "source": [
    "**Block 1:**"
   ]
  },
  {
   "cell_type": "markdown",
   "id": "9e7d3439",
   "metadata": {},
   "source": [
    "if spam == 10:\n",
    "\n",
    "    print('eggs')"
   ]
  },
  {
   "cell_type": "markdown",
   "id": "0682a4cd",
   "metadata": {},
   "source": [
    "This block is an if statement that checks if the value of spam is equal to 10. If it is, the statement print('eggs') will be executed"
   ]
  },
  {
   "cell_type": "markdown",
   "id": "bce3d790",
   "metadata": {},
   "source": [
    "**Block 2:**"
   ]
  },
  {
   "cell_type": "markdown",
   "id": "cbeaab18",
   "metadata": {},
   "source": [
    "if spam > 5:\n",
    "\n",
    "    print('bacon')"
   ]
  },
  {
   "cell_type": "markdown",
   "id": "f51261d8",
   "metadata": {},
   "source": [
    "This block is another if statement that checks if the value of spam is greater than 5. If it is, the statement print('bacon') will be executed."
   ]
  },
  {
   "cell_type": "markdown",
   "id": "59ea7eaa",
   "metadata": {},
   "source": [
    "**Block 3:**"
   ]
  },
  {
   "cell_type": "markdown",
   "id": "3b402916",
   "metadata": {},
   "source": [
    "else:\n",
    "    print('ham')\n",
    "    \n",
    "     print('spam')\n",
    "\n",
    "     print('spam')"
   ]
  },
  {
   "cell_type": "markdown",
   "id": "7691e241",
   "metadata": {},
   "source": [
    "This block consists of an else statement and three subsequent print statements. If the condition in Block 2 (spam > 5) is false, it will execute the print('ham') statement. Following that, it will execute the print('spam') and print('spam') statements, regardless of the condition in Block 2."
   ]
  },
  {
   "cell_type": "markdown",
   "id": "04b076ba",
   "metadata": {},
   "source": [
    "**Q8. Write code that prints Hello if 1 is stored in spam, prints Howdy if 2 is stored in spam, and prints\n",
    "Greetings! if anything else is stored in spam.**"
   ]
  },
  {
   "cell_type": "code",
   "execution_count": 16,
   "id": "facce060",
   "metadata": {},
   "outputs": [
    {
     "name": "stdout",
     "output_type": "stream",
     "text": [
      "Enter a number: 3\n",
      "Greetings!\n"
     ]
    }
   ],
   "source": [
    "spam = int(input('Enter a number: '))\n",
    "\n",
    "if spam == 1:\n",
    "    print('Hello')\n",
    "elif spam == 2:\n",
    "    print('Howdy')\n",
    "else:\n",
    "    print('Greetings!')"
   ]
  },
  {
   "cell_type": "markdown",
   "id": "e28ea174",
   "metadata": {},
   "source": [
    "**Q9. If your programme is stuck in an endless loop, what keys you’ll press?**"
   ]
  },
  {
   "cell_type": "markdown",
   "id": "89938445",
   "metadata": {},
   "source": [
    "Ctrl + C"
   ]
  },
  {
   "cell_type": "markdown",
   "id": "b2c884c2",
   "metadata": {},
   "source": [
    "**10. How can you tell the difference between break and continue?**"
   ]
  },
  {
   "cell_type": "markdown",
   "id": "1a1ccd28",
   "metadata": {},
   "source": [
    " The **break** statement is used to exit the loop entirely, while the **continue** statement is used to skip the remaining part of the current iteration and move to the next iteration."
   ]
  },
  {
   "cell_type": "code",
   "execution_count": 17,
   "id": "b3aa6af8",
   "metadata": {},
   "outputs": [
    {
     "name": "stdout",
     "output_type": "stream",
     "text": [
      "1\n",
      "2\n",
      "3\n",
      "4\n"
     ]
    }
   ],
   "source": [
    "#example break statement:\n",
    "\n",
    "for i in range(1, 11):\n",
    "    if i == 5:\n",
    "        break\n",
    "    print(i)"
   ]
  },
  {
   "cell_type": "code",
   "execution_count": 18,
   "id": "e42b6556",
   "metadata": {},
   "outputs": [
    {
     "name": "stdout",
     "output_type": "stream",
     "text": [
      "1\n",
      "2\n",
      "3\n",
      "4\n",
      "6\n",
      "7\n",
      "8\n",
      "9\n",
      "10\n"
     ]
    }
   ],
   "source": [
    "#example continue statement:\n",
    "\n",
    "for i in range(1, 11):\n",
    "    if i == 5:\n",
    "        continue\n",
    "    print(i)"
   ]
  },
  {
   "cell_type": "markdown",
   "id": "dbc88cf9",
   "metadata": {},
   "source": [
    "**Q11. In a for loop, what is the difference between range(10), range(0, 10), and range(0, 10, 1)?**"
   ]
  },
  {
   "cell_type": "markdown",
   "id": "91997a65",
   "metadata": {},
   "source": [
    " range(10) , range(0,10) and range(0,10,1)are same because all gives numbers from 0 to 9. but in range(0,10,1) it is just the stepsize we are declaring how to increase from 0 with an increment of 1."
   ]
  },
  {
   "cell_type": "markdown",
   "id": "9e25f7c2",
   "metadata": {},
   "source": [
    "**Q12. Write a short program that prints the numbers 1 to 10 using a for loop. Then write an equivalent\n",
    "program that prints the numbers 1 to 10 using a while loop.**"
   ]
  },
  {
   "cell_type": "code",
   "execution_count": 19,
   "id": "2c9dcdef",
   "metadata": {},
   "outputs": [
    {
     "name": "stdout",
     "output_type": "stream",
     "text": [
      "1\n",
      "2\n",
      "3\n",
      "4\n",
      "5\n",
      "6\n",
      "7\n",
      "8\n",
      "9\n",
      "10\n"
     ]
    }
   ],
   "source": [
    "# Example for loop :\n",
    "for i in range(1,11):\n",
    "    print(i)"
   ]
  },
  {
   "cell_type": "code",
   "execution_count": 20,
   "id": "08eb5fab",
   "metadata": {},
   "outputs": [
    {
     "name": "stdout",
     "output_type": "stream",
     "text": [
      "1\n",
      "2\n",
      "3\n",
      "4\n",
      "5\n",
      "6\n",
      "7\n",
      "8\n",
      "9\n",
      "10\n"
     ]
    }
   ],
   "source": [
    "# Example for loop :\n",
    "i = 1\n",
    "while i <= 10:\n",
    "    print(i)\n",
    "    i += 1"
   ]
  },
  {
   "cell_type": "markdown",
   "id": "9e2ba1f7",
   "metadata": {},
   "source": [
    "**Q13. If you had a function named bacon() inside a module named spam, how would you call it after\n",
    "importing spam?**"
   ]
  },
  {
   "cell_type": "markdown",
   "id": "7b6e5b01",
   "metadata": {},
   "source": [
    "spam.bacon()"
   ]
  }
 ],
 "metadata": {
  "kernelspec": {
   "display_name": "Python 3 (ipykernel)",
   "language": "python",
   "name": "python3"
  },
  "language_info": {
   "codemirror_mode": {
    "name": "ipython",
    "version": 3
   },
   "file_extension": ".py",
   "mimetype": "text/x-python",
   "name": "python",
   "nbconvert_exporter": "python",
   "pygments_lexer": "ipython3",
   "version": "3.10.9"
  }
 },
 "nbformat": 4,
 "nbformat_minor": 5
}
