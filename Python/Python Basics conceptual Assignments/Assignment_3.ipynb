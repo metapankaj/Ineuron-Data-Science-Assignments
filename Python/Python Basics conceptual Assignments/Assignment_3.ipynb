{
 "cells": [
  {
   "cell_type": "markdown",
   "id": "2388eca9",
   "metadata": {},
   "source": [
    "**1. Why are functions advantageous to have in your programs?**"
   ]
  },
  {
   "cell_type": "markdown",
   "id": "11db3ec3",
   "metadata": {},
   "source": [
    "Functions are advantageous because:\n",
    "\n",
    "* It reduces need for duplicate code\n",
    "* Enhances the readability of a program\n",
    "* Decomposing complex problems into simpler pieces"
   ]
  },
  {
   "cell_type": "markdown",
   "id": "17c329d5",
   "metadata": {},
   "source": [
    "**2. When does the code in a function run: when it's specified or when it's called?**"
   ]
  },
  {
   "cell_type": "markdown",
   "id": "8dba37d5",
   "metadata": {},
   "source": [
    "The code in a function runs when the function is called."
   ]
  },
  {
   "cell_type": "markdown",
   "id": "da7d4479",
   "metadata": {},
   "source": [
    "**3. What statement creates a function?**"
   ]
  },
  {
   "cell_type": "markdown",
   "id": "9d5b6c42",
   "metadata": {},
   "source": [
    "In Python, the statement used to create a function is the **def** statement. "
   ]
  },
  {
   "cell_type": "code",
   "execution_count": 1,
   "id": "08387fcf",
   "metadata": {},
   "outputs": [],
   "source": [
    "def add_numbers(a, b):\n",
    "    return a + b"
   ]
  },
  {
   "cell_type": "markdown",
   "id": "db996006",
   "metadata": {},
   "source": [
    "**4. What is the difference between a function and a function call?**"
   ]
  },
  {
   "cell_type": "markdown",
   "id": "2836cc89",
   "metadata": {},
   "source": [
    "* A function is a procedure to achieve a particular result.\n",
    "* A function call uses that function to achieve that task."
   ]
  },
  {
   "cell_type": "code",
   "execution_count": 2,
   "id": "dfd3c134",
   "metadata": {},
   "outputs": [
    {
     "data": {
      "text/plain": [
       "30"
      ]
     },
     "execution_count": 2,
     "metadata": {},
     "output_type": "execute_result"
    }
   ],
   "source": [
    "# function\n",
    "def add(): \n",
    "    return 10+20\n",
    "\n",
    "#function call\n",
    "add()"
   ]
  },
  {
   "cell_type": "markdown",
   "id": "247a98e4",
   "metadata": {},
   "source": [
    "**5. How many global scopes are there in a Python program? How many local scopes?**"
   ]
  },
  {
   "cell_type": "markdown",
   "id": "3cb683cb",
   "metadata": {},
   "source": [
    "* There is only one global scope per python program and remains there untill program is terminated.\n",
    "* There can be as many local scopes as can inside a program because variable created inside a function can only be used in that space."
   ]
  },
  {
   "cell_type": "markdown",
   "id": "70bb3ec4",
   "metadata": {},
   "source": [
    "**6. What happens to variables in a local scope when the function call returns?**"
   ]
  },
  {
   "cell_type": "markdown",
   "id": "c0af2d8a",
   "metadata": {},
   "source": [
    "* Variable in a local space is confined to that space of function can only be used in that function and therefore retains its value untill next time function is called.\n",
    "* When the execution of the function terminates (returns), the local variables are destroyed."
   ]
  },
  {
   "cell_type": "markdown",
   "id": "37df6c6e",
   "metadata": {},
   "source": [
    "**7. What is the concept of a return value? Is it possible to have a return value in an expression?**"
   ]
  },
  {
   "cell_type": "markdown",
   "id": "a4a24ca9",
   "metadata": {},
   "source": [
    "* A return statement is used to end the execution of the function call and “returns” the result (value of the expression following the return keyword) to the caller. If the return statement is without any expression, then the special value None is returned. Return statement can not be used outside the function.\n",
    "* Yes it is possible to have a return value in an expression."
   ]
  },
  {
   "cell_type": "markdown",
   "id": "95c9bd3c",
   "metadata": {},
   "source": [
    "**8. If a function does not have a return statement, what is the return value of a call to that function?**"
   ]
  },
  {
   "cell_type": "markdown",
   "id": "89999db7",
   "metadata": {},
   "source": [
    "If a function does not have a return statement, then the function not return any values. The return value of that function type will be NoneType."
   ]
  },
  {
   "cell_type": "code",
   "execution_count": 3,
   "id": "c35bf6a7",
   "metadata": {},
   "outputs": [],
   "source": [
    "def fun():\n",
    "    x = 9\n",
    "fun()"
   ]
  },
  {
   "cell_type": "code",
   "execution_count": 4,
   "id": "f403b01a",
   "metadata": {},
   "outputs": [
    {
     "data": {
      "text/plain": [
       "NoneType"
      ]
     },
     "execution_count": 4,
     "metadata": {},
     "output_type": "execute_result"
    }
   ],
   "source": [
    "type(fun())"
   ]
  },
  {
   "cell_type": "markdown",
   "id": "53ee44a0",
   "metadata": {},
   "source": [
    "**9. How do you make a function variable refer to the global variable?**"
   ]
  },
  {
   "cell_type": "markdown",
   "id": "693ee693",
   "metadata": {},
   "source": [
    "Global variable is a variable which is not connected to any particular function i.e it is free to be called in any function and it is also be reused. Therefore to refer a function variable to global variable we use global keyword to declare which variable are global"
   ]
  },
  {
   "cell_type": "code",
   "execution_count": 5,
   "id": "239ca46a",
   "metadata": {},
   "outputs": [],
   "source": [
    "def myfunc():\n",
    "    global x \n",
    "    x = 50\n",
    "    return x\n",
    "def another_func():\n",
    "    y = 50\n",
    "    return x+y"
   ]
  },
  {
   "cell_type": "code",
   "execution_count": 6,
   "id": "ad324cec",
   "metadata": {},
   "outputs": [
    {
     "data": {
      "text/plain": [
       "50"
      ]
     },
     "execution_count": 6,
     "metadata": {},
     "output_type": "execute_result"
    }
   ],
   "source": [
    "myfunc()"
   ]
  },
  {
   "cell_type": "code",
   "execution_count": 7,
   "id": "72606950",
   "metadata": {},
   "outputs": [
    {
     "data": {
      "text/plain": [
       "100"
      ]
     },
     "execution_count": 7,
     "metadata": {},
     "output_type": "execute_result"
    }
   ],
   "source": [
    "another_func()"
   ]
  },
  {
   "cell_type": "markdown",
   "id": "78853619",
   "metadata": {},
   "source": [
    "**10. What is the data type of None?**"
   ]
  },
  {
   "cell_type": "markdown",
   "id": "e43ced88",
   "metadata": {},
   "source": [
    "The data type of None is NoneType."
   ]
  },
  {
   "cell_type": "code",
   "execution_count": 8,
   "id": "982d5c39",
   "metadata": {},
   "outputs": [
    {
     "data": {
      "text/plain": [
       "NoneType"
      ]
     },
     "execution_count": 8,
     "metadata": {},
     "output_type": "execute_result"
    }
   ],
   "source": [
    "type(None)"
   ]
  },
  {
   "cell_type": "markdown",
   "id": "53a83f3a",
   "metadata": {},
   "source": [
    "**11. What does the sentence import areallyourpetsnamederic do?**"
   ]
  },
  {
   "cell_type": "markdown",
   "id": "dcabb636",
   "metadata": {},
   "source": [
    "Normally import will import areallyourpetnamederic module. But as it is not an python module it will throw u an error."
   ]
  },
  {
   "cell_type": "code",
   "execution_count": 9,
   "id": "7a898363",
   "metadata": {},
   "outputs": [
    {
     "ename": "ModuleNotFoundError",
     "evalue": "No module named 'areallyourpetnamederic'",
     "output_type": "error",
     "traceback": [
      "\u001b[1;31m---------------------------------------------------------------------------\u001b[0m",
      "\u001b[1;31mModuleNotFoundError\u001b[0m                       Traceback (most recent call last)",
      "Cell \u001b[1;32mIn[9], line 1\u001b[0m\n\u001b[1;32m----> 1\u001b[0m \u001b[38;5;28;01mimport\u001b[39;00m \u001b[38;5;21;01mareallyourpetnamederic\u001b[39;00m\n",
      "\u001b[1;31mModuleNotFoundError\u001b[0m: No module named 'areallyourpetnamederic'"
     ]
    }
   ],
   "source": [
    "import areallyourpetnamederic"
   ]
  },
  {
   "cell_type": "markdown",
   "id": "9a497be6",
   "metadata": {},
   "source": [
    "**12. If you had a bacon() feature in a spam module, what would you call it after importing spam?**"
   ]
  },
  {
   "cell_type": "markdown",
   "id": "07560b8d",
   "metadata": {},
   "source": [
    "spam.becon()"
   ]
  },
  {
   "cell_type": "markdown",
   "id": "0ae97917",
   "metadata": {},
   "source": [
    "**13. What can you do to save a programme from crashing if it encounters an error?**"
   ]
  },
  {
   "cell_type": "markdown",
   "id": "a18192f9",
   "metadata": {},
   "source": [
    "To save a programme from crashing if it encounters an error in runtime we can use try and except statement. It will save the programme only in runtime error."
   ]
  },
  {
   "cell_type": "markdown",
   "id": "0cd1262c",
   "metadata": {},
   "source": [
    "**14. What is the purpose of the try clause? What is the purpose of the except clause?**"
   ]
  },
  {
   "cell_type": "markdown",
   "id": "1a66e31f",
   "metadata": {},
   "source": [
    "* try :The code that could potentially cause an error,goes in the try clause.i.e., try clause is used when you think that program can crash so you try to run the program and it crashes it wont disturb other part of program\n",
    "\n",
    "* except: The code that executes if an error happens,goes in the except clause. i.e, except clause is used when you are trying a certain part of program but it fails so it used as a response to exception."
   ]
  }
 ],
 "metadata": {
  "kernelspec": {
   "display_name": "Python 3 (ipykernel)",
   "language": "python",
   "name": "python3"
  },
  "language_info": {
   "codemirror_mode": {
    "name": "ipython",
    "version": 3
   },
   "file_extension": ".py",
   "mimetype": "text/x-python",
   "name": "python",
   "nbconvert_exporter": "python",
   "pygments_lexer": "ipython3",
   "version": "3.10.9"
  }
 },
 "nbformat": 4,
 "nbformat_minor": 5
}
