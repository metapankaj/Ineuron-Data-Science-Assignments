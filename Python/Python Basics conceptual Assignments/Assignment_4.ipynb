{
 "cells": [
  {
   "cell_type": "markdown",
   "id": "1adf2fd7",
   "metadata": {},
   "source": [
    "**1. What exactly is []?**"
   ]
  },
  {
   "cell_type": "markdown",
   "id": "89737e24",
   "metadata": {},
   "source": [
    "[] represents an empty list values i.e., list values that contains no items."
   ]
  },
  {
   "cell_type": "markdown",
   "id": "ff377eaa",
   "metadata": {},
   "source": [
    "**2. In a list of values stored in a variable called spam, how would you assign the value &#39;hello&#39; as the\n",
    "third value? (Assume [2, 4, 6, 8, 10] are in spam.)\n",
    "Let&#39;s pretend the spam includes the list [&#39;a&#39;, &#39;b&#39;, &#39;c&#39;, &#39;d&#39;] for the next three queries.**"
   ]
  },
  {
   "cell_type": "code",
   "execution_count": 3,
   "id": "3182adcc",
   "metadata": {},
   "outputs": [
    {
     "data": {
      "text/plain": [
       "[2, 3, 'hello', 6, 8, 10]"
      ]
     },
     "execution_count": 3,
     "metadata": {},
     "output_type": "execute_result"
    }
   ],
   "source": [
    "spam = [2,3,4,6,8,10]\n",
    "spam[2]='hello'\n",
    "spam"
   ]
  },
  {
   "cell_type": "markdown",
   "id": "f01f7578",
   "metadata": {},
   "source": [
    "**Let's pretend the spam includes the list ['a', 'b', 'c', 'd'] for the next three queries.**"
   ]
  },
  {
   "cell_type": "markdown",
   "id": "4d311ff8",
   "metadata": {},
   "source": [
    "**3. What is the value of** spam[int(int(' 3 ' * 2) / 11)]?"
   ]
  },
  {
   "cell_type": "code",
   "execution_count": 4,
   "id": "1f233c00",
   "metadata": {},
   "outputs": [
    {
     "data": {
      "text/plain": [
       "'d'"
      ]
     },
     "execution_count": 4,
     "metadata": {},
     "output_type": "execute_result"
    }
   ],
   "source": [
    "spam = ['a', 'b', 'c', 'd']\n",
    "spam[int(int('3' * 2) / 11)]"
   ]
  },
  {
   "cell_type": "markdown",
   "id": "6d8e9772",
   "metadata": {},
   "source": [
    "**4. What is the value of spam[-1]?**"
   ]
  },
  {
   "cell_type": "code",
   "execution_count": 5,
   "id": "13e21aeb",
   "metadata": {},
   "outputs": [
    {
     "data": {
      "text/plain": [
       "'d'"
      ]
     },
     "execution_count": 5,
     "metadata": {},
     "output_type": "execute_result"
    }
   ],
   "source": [
    "spam[-1]"
   ]
  },
  {
   "cell_type": "markdown",
   "id": "07aeffa6",
   "metadata": {},
   "source": [
    "**5. What is the value of spam[:2]?**"
   ]
  },
  {
   "cell_type": "code",
   "execution_count": 6,
   "id": "12780b1c",
   "metadata": {},
   "outputs": [
    {
     "data": {
      "text/plain": [
       "['a', 'b']"
      ]
     },
     "execution_count": 6,
     "metadata": {},
     "output_type": "execute_result"
    }
   ],
   "source": [
    "spam[:2]"
   ]
  },
  {
   "cell_type": "markdown",
   "id": "2216d4b4",
   "metadata": {},
   "source": [
    "**Let's pretend bacon has the list [3.14, 'cat', 11, 'cat' , True] for the next three questions.**\n",
    "\n",
    "\n",
    "**6. What is the value of bacon.index('cat')?**"
   ]
  },
  {
   "cell_type": "code",
   "execution_count": 7,
   "id": "edc71d3c",
   "metadata": {},
   "outputs": [
    {
     "data": {
      "text/plain": [
       "1"
      ]
     },
     "execution_count": 7,
     "metadata": {},
     "output_type": "execute_result"
    }
   ],
   "source": [
    "bacon = [3.14, 'cat', 11, 'cat', True]\n",
    "bacon.index('cat')"
   ]
  },
  {
   "cell_type": "markdown",
   "id": "340b5435",
   "metadata": {},
   "source": [
    "**7. How does bacon.append(99) change the look of the list value in bacon?**"
   ]
  },
  {
   "cell_type": "code",
   "execution_count": 8,
   "id": "41855b83",
   "metadata": {},
   "outputs": [
    {
     "data": {
      "text/plain": [
       "[3.14, 'cat', 11, 'cat', True, 99]"
      ]
     },
     "execution_count": 8,
     "metadata": {},
     "output_type": "execute_result"
    }
   ],
   "source": [
    "bacon.append(99) # appends at the end\n",
    "bacon"
   ]
  },
  {
   "cell_type": "markdown",
   "id": "d04ef401",
   "metadata": {},
   "source": [
    "**8. How does bacon.remove('cat') change the look of the list in bacon?**"
   ]
  },
  {
   "cell_type": "code",
   "execution_count": 9,
   "id": "24cd0bb5",
   "metadata": {},
   "outputs": [
    {
     "data": {
      "text/plain": [
       "[3.14, 11, 'cat', True, 99]"
      ]
     },
     "execution_count": 9,
     "metadata": {},
     "output_type": "execute_result"
    }
   ],
   "source": [
    "bacon.remove('cat') # it parses through the list as soon as it sees cat it removes it from the list and exit\n",
    "bacon"
   ]
  },
  {
   "cell_type": "markdown",
   "id": "dd8e8a4f",
   "metadata": {},
   "source": [
    "**9. What are the list concatenation and list replication operators?**"
   ]
  },
  {
   "cell_type": "code",
   "execution_count": 10,
   "id": "c083f867",
   "metadata": {},
   "outputs": [
    {
     "data": {
      "text/plain": [
       "[1, 2, 3, 4, 5, 6, 7, 8]"
      ]
     },
     "execution_count": 10,
     "metadata": {},
     "output_type": "execute_result"
    }
   ],
   "source": [
    "# concatenation : +\n",
    "\n",
    "l1 = [1,2,3,4]\n",
    "l2 = [5,6,7,8]\n",
    "l1+l2"
   ]
  },
  {
   "cell_type": "code",
   "execution_count": 11,
   "id": "fafecaf9",
   "metadata": {},
   "outputs": [
    {
     "data": {
      "text/plain": [
       "[1, 2, 3, 4, 5]"
      ]
     },
     "execution_count": 11,
     "metadata": {},
     "output_type": "execute_result"
    }
   ],
   "source": [
    "# Replication : *\n",
    "l1 = [1,2,3,4,5]\n",
    "l2 = l1 * 1\n",
    "l2"
   ]
  },
  {
   "cell_type": "markdown",
   "id": "775f400d",
   "metadata": {},
   "source": [
    "**10. What is difference between the list methods append() and insert()?**"
   ]
  },
  {
   "cell_type": "markdown",
   "id": "9f99f736",
   "metadata": {},
   "source": [
    "* append() : It will add new values at the end of the list - will take on one argument\n",
    "* insert() : It will add as well as modify already occupied position - will take two element"
   ]
  },
  {
   "cell_type": "code",
   "execution_count": 12,
   "id": "9496f4bd",
   "metadata": {},
   "outputs": [
    {
     "data": {
      "text/plain": [
       "[1, 2, 3, 4, 5, 6]"
      ]
     },
     "execution_count": 12,
     "metadata": {},
     "output_type": "execute_result"
    }
   ],
   "source": [
    "# append\n",
    "list = [1,2,3,4,5]\n",
    "list.append(6)\n",
    "list"
   ]
  },
  {
   "cell_type": "code",
   "execution_count": 13,
   "id": "1f8b3d5e",
   "metadata": {},
   "outputs": [
    {
     "name": "stdout",
     "output_type": "stream",
     "text": [
      "[1, 2, 3, 4, 5, 10]\n",
      "[1, 2, 3, 4, 5, 10, 11]\n"
     ]
    }
   ],
   "source": [
    "# insert to add\n",
    "list = [1,2,3,4,5]\n",
    "list.insert(5,10)\n",
    "print(list)\n",
    "list.insert(6,11)\n",
    "print(list)"
   ]
  },
  {
   "cell_type": "code",
   "execution_count": 14,
   "id": "6a2e8267",
   "metadata": {},
   "outputs": [
    {
     "name": "stdout",
     "output_type": "stream",
     "text": [
      "[1, 11, 2, 3, 4, 5]\n"
     ]
    }
   ],
   "source": [
    "# insert to modify\n",
    "list1 = [1,2,3,4,5]\n",
    "list1.insert(1,11)\n",
    "print(list1)"
   ]
  },
  {
   "cell_type": "markdown",
   "id": "2af09f03",
   "metadata": {},
   "source": [
    "**11. What are the two methods for removing items from a list?**"
   ]
  },
  {
   "cell_type": "markdown",
   "id": "d8493c17",
   "metadata": {},
   "source": [
    "The two methods are : remove() and pop()\n",
    "\n",
    "* remove() : removes the very first given element matching from the list.\n",
    "* pop() : removes an element from the list based on the given index"
   ]
  },
  {
   "cell_type": "code",
   "execution_count": 15,
   "id": "683206ea",
   "metadata": {},
   "outputs": [
    {
     "name": "stdout",
     "output_type": "stream",
     "text": [
      "[1, 2, 3, 4, 5, 7, 7]\n"
     ]
    },
    {
     "data": {
      "text/plain": [
       "[1, 2, 3, 4, 5, 7]"
      ]
     },
     "execution_count": 15,
     "metadata": {},
     "output_type": "execute_result"
    }
   ],
   "source": [
    "# remove ()\n",
    "l_remove = [1,2,3,4,5,7,7]\n",
    "print(l_remove)\n",
    "l_remove.remove(7)\n",
    "l_remove"
   ]
  },
  {
   "cell_type": "code",
   "execution_count": 16,
   "id": "b397fb3a",
   "metadata": {},
   "outputs": [
    {
     "name": "stdout",
     "output_type": "stream",
     "text": [
      "[1, 2, 3, 4, 5, 7, 7]\n"
     ]
    },
    {
     "data": {
      "text/plain": [
       "[1, 2, 3, 4, 7, 7]"
      ]
     },
     "execution_count": 16,
     "metadata": {},
     "output_type": "execute_result"
    }
   ],
   "source": [
    "# pop ()\n",
    "l_pop = [1,2,3,4,5,7,7]\n",
    "print(l_pop)\n",
    "l_pop.pop(4)\n",
    "l_pop"
   ]
  },
  {
   "cell_type": "markdown",
   "id": "130e224b",
   "metadata": {},
   "source": [
    "**12. Describe how list values and string values are identical.**"
   ]
  },
  {
   "cell_type": "markdown",
   "id": "34ad3660",
   "metadata": {},
   "source": [
    "The similarity between Lists and Strings is that both are sequences.\n",
    "\n",
    "The differences between them are :\n",
    "1. Lists are mutable but Strings are immutable.\n",
    "2. lements of a list can be of different types whereas a String only contains characters that are all of String type."
   ]
  },
  {
   "cell_type": "markdown",
   "id": "cd876e4f",
   "metadata": {},
   "source": [
    "**13. What's the difference between tuples and lists?**"
   ]
  },
  {
   "cell_type": "markdown",
   "id": "a4dd386a",
   "metadata": {},
   "source": [
    "Lists:\n",
    "* Mutable they can have values added, removed, or changed.\n",
    "* It has a variable size\n",
    "* It uses square brackets []\n",
    "\n",
    "Tuples:\n",
    "* Immutable they cannot be changed at all.\n",
    "* It has fixed size\n",
    "* It uses parentheses ()"
   ]
  },
  {
   "cell_type": "markdown",
   "id": "e18bc019",
   "metadata": {},
   "source": [
    "**14. How do you type a tuple value that only contains the integer 42?**"
   ]
  },
  {
   "cell_type": "code",
   "execution_count": 17,
   "id": "6b0ed9df",
   "metadata": {},
   "outputs": [
    {
     "data": {
      "text/plain": [
       "(42,)"
      ]
     },
     "execution_count": 17,
     "metadata": {},
     "output_type": "execute_result"
    }
   ],
   "source": [
    "(42,)   # trailing comma is mandatory"
   ]
  },
  {
   "cell_type": "markdown",
   "id": "42ff7cf6",
   "metadata": {},
   "source": [
    "**15. How do you get a list value's tuple form? How do you get a tuple value's list form?**"
   ]
  },
  {
   "cell_type": "markdown",
   "id": "a800b503",
   "metadata": {},
   "source": [
    "By using tuple() and list() respectively"
   ]
  },
  {
   "cell_type": "code",
   "execution_count": 2,
   "id": "53a645ae",
   "metadata": {
    "scrolled": true
   },
   "outputs": [
    {
     "data": {
      "text/plain": [
       "(1, 2, 3, 4)"
      ]
     },
     "execution_count": 2,
     "metadata": {},
     "output_type": "execute_result"
    }
   ],
   "source": [
    "l = [1,2,3,4]\n",
    "tuple(l)"
   ]
  },
  {
   "cell_type": "code",
   "execution_count": 1,
   "id": "e8e3c2bb",
   "metadata": {},
   "outputs": [
    {
     "data": {
      "text/plain": [
       "[1, 2, 3, 4]"
      ]
     },
     "execution_count": 1,
     "metadata": {},
     "output_type": "execute_result"
    }
   ],
   "source": [
    "t = (1,2,3,4)\n",
    "list(t)"
   ]
  },
  {
   "cell_type": "markdown",
   "id": "2a795be6",
   "metadata": {},
   "source": [
    "**16. Variables that &quot;contain&quot; list values are not necessarily lists themselves. Instead, what do they\n",
    "contain?**"
   ]
  },
  {
   "cell_type": "markdown",
   "id": "518fa8aa",
   "metadata": {},
   "source": [
    "They contain referance to the list values."
   ]
  },
  {
   "cell_type": "code",
   "execution_count": 18,
   "id": "573960a2",
   "metadata": {},
   "outputs": [
    {
     "name": "stdout",
     "output_type": "stream",
     "text": [
      "[4, 3, 7]\n"
     ]
    },
    {
     "data": {
      "text/plain": [
       "1847023618624"
      ]
     },
     "execution_count": 18,
     "metadata": {},
     "output_type": "execute_result"
    }
   ],
   "source": [
    "variable = [4,3,7]\n",
    "print(variable)\n",
    "id(variable)"
   ]
  },
  {
   "cell_type": "markdown",
   "id": "9a0ed3de",
   "metadata": {},
   "source": [
    "**17. How do you distinguish between copy.copy() and copy.deepcopy()?**"
   ]
  },
  {
   "cell_type": "markdown",
   "id": "be211d1f",
   "metadata": {},
   "source": [
    "* copy.copy() : A shallow copy constructs a new compound object and then (to the extent possible) inserts references into it to the objects found in the original.i.e. The original object changes.  \n",
    "\n",
    "\n",
    "* copy.deepcopy() : A deep copy constructs a new compound object and then, recursively, inserts copies into it of the objects found in the original.i.e, it does not change original object if in future we change deepcopied object."
   ]
  },
  {
   "cell_type": "code",
   "execution_count": 19,
   "id": "a965df8c",
   "metadata": {},
   "outputs": [
    {
     "name": "stdout",
     "output_type": "stream",
     "text": [
      "[1, [99, 3], 4]\n",
      "[1, [99, 3], 4]\n"
     ]
    }
   ],
   "source": [
    "import copy\n",
    "\n",
    "# Create a list with nested objects\n",
    "original_list = [1, [2, 3], 4]\n",
    "\n",
    "# Perform shallow copy\n",
    "copied_list = copy.copy(original_list)\n",
    "\n",
    "# Modify the nested list in the copied object\n",
    "copied_list[1][0] = 99\n",
    "\n",
    "# Print both original and copied lists\n",
    "print(original_list)  \n",
    "print(copied_list)"
   ]
  },
  {
   "cell_type": "code",
   "execution_count": 20,
   "id": "4ce8e1f8",
   "metadata": {},
   "outputs": [
    {
     "name": "stdout",
     "output_type": "stream",
     "text": [
      "[1, [2, 3], 4]\n",
      "[1, [99, 3], 4]\n"
     ]
    }
   ],
   "source": [
    "import copy\n",
    "\n",
    "# Create a list with nested objects\n",
    "original_list = [1, [2, 3], 4]\n",
    "\n",
    "# Perform deep copy\n",
    "copied_list = copy.deepcopy(original_list)\n",
    "\n",
    "# Modify the nested list in the copied object\n",
    "copied_list[1][0] = 99\n",
    "\n",
    "# Print both original and copied lists\n",
    "print(original_list)  \n",
    "print(copied_list)    "
   ]
  }
 ],
 "metadata": {
  "kernelspec": {
   "display_name": "Python 3 (ipykernel)",
   "language": "python",
   "name": "python3"
  },
  "language_info": {
   "codemirror_mode": {
    "name": "ipython",
    "version": 3
   },
   "file_extension": ".py",
   "mimetype": "text/x-python",
   "name": "python",
   "nbconvert_exporter": "python",
   "pygments_lexer": "ipython3",
   "version": "3.10.9"
  }
 },
 "nbformat": 4,
 "nbformat_minor": 5
}
