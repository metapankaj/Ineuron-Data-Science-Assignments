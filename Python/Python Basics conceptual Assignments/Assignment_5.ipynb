{
 "cells": [
  {
   "cell_type": "markdown",
   "id": "9e0584e4",
   "metadata": {},
   "source": [
    "**1. What does an empty dictionary's code look like?**\n"
   ]
  },
  {
   "cell_type": "code",
   "execution_count": 1,
   "id": "0e6301d9",
   "metadata": {},
   "outputs": [],
   "source": [
    "d = {}"
   ]
  },
  {
   "cell_type": "markdown",
   "id": "e0a0cd17",
   "metadata": {},
   "source": [
    "**2. What is the value of a dictionary value with the key 'foo' and the value 42?**\n"
   ]
  },
  {
   "cell_type": "code",
   "execution_count": 2,
   "id": "fccd78eb",
   "metadata": {},
   "outputs": [
    {
     "data": {
      "text/plain": [
       "{'foo': 42}"
      ]
     },
     "execution_count": 2,
     "metadata": {},
     "output_type": "execute_result"
    }
   ],
   "source": [
    "d = {'foo' : 42}\n",
    "d"
   ]
  },
  {
   "cell_type": "code",
   "execution_count": 3,
   "id": "955cfcd5",
   "metadata": {},
   "outputs": [
    {
     "data": {
      "text/plain": [
       "dict_values([42])"
      ]
     },
     "execution_count": 3,
     "metadata": {},
     "output_type": "execute_result"
    }
   ],
   "source": [
    "d.values()"
   ]
  },
  {
   "cell_type": "markdown",
   "id": "4c8097da",
   "metadata": {},
   "source": [
    "**3. What is the most significant distinction between a dictionary and a list?**\n"
   ]
  },
  {
   "cell_type": "markdown",
   "id": "1fdaa225",
   "metadata": {},
   "source": [
    "List:\n",
    "\n",
    "* List is created by placing elements in [ ] separated by commas “, “\n",
    "* The elements are accessed via indices.\n",
    "* The order of the elements entered are maintained.\n",
    "\n",
    "Dictionary:\n",
    "\n",
    "* Dictionary is created by placing elements in { } as “key”:”value”, each key value pair is separated by commas “, “\n",
    "* The elements are accessed via key-values.\n",
    "* There is no guarantee for maintaining order."
   ]
  },
  {
   "cell_type": "markdown",
   "id": "d2b17ad6",
   "metadata": {},
   "source": [
    "4. **What happens if you try to access spam['foo'] if spam is {'bar': 100}?**\n"
   ]
  },
  {
   "cell_type": "markdown",
   "id": "667bae6a",
   "metadata": {},
   "source": [
    "It throws an key error"
   ]
  },
  {
   "cell_type": "code",
   "execution_count": 4,
   "id": "ceeb96c3",
   "metadata": {},
   "outputs": [
    {
     "ename": "KeyError",
     "evalue": "'foo'",
     "output_type": "error",
     "traceback": [
      "\u001b[1;31m---------------------------------------------------------------------------\u001b[0m",
      "\u001b[1;31mKeyError\u001b[0m                                  Traceback (most recent call last)",
      "Cell \u001b[1;32mIn[4], line 2\u001b[0m\n\u001b[0;32m      1\u001b[0m spam \u001b[38;5;241m=\u001b[39m {\u001b[38;5;124m'\u001b[39m\u001b[38;5;124mbar\u001b[39m\u001b[38;5;124m'\u001b[39m : \u001b[38;5;241m100\u001b[39m}\n\u001b[1;32m----> 2\u001b[0m \u001b[43mspam\u001b[49m\u001b[43m[\u001b[49m\u001b[38;5;124;43m'\u001b[39;49m\u001b[38;5;124;43mfoo\u001b[39;49m\u001b[38;5;124;43m'\u001b[39;49m\u001b[43m]\u001b[49m\n",
      "\u001b[1;31mKeyError\u001b[0m: 'foo'"
     ]
    }
   ],
   "source": [
    "spam = {'bar' : 100}\n",
    "spam['foo']"
   ]
  },
  {
   "cell_type": "markdown",
   "id": "8d0ae60c",
   "metadata": {},
   "source": [
    "**5. If a dictionary is stored in spam, what is the difference between the expressions 'cat' in spam and\n",
    "'cat' in spam.keys()?**"
   ]
  },
  {
   "cell_type": "markdown",
   "id": "927ddfc2",
   "metadata": {},
   "source": [
    "**There is no difference.**\n",
    "\n",
    "The in operator checks whether a value exists as a key in the dictionary. 'cat' in spam checks whether there is a 'cat' key in the dictionary and 'cat' in spam.keys() checks whether that key is present , if it is present it returns True."
   ]
  },
  {
   "cell_type": "code",
   "execution_count": 5,
   "id": "c0f109f5",
   "metadata": {},
   "outputs": [
    {
     "name": "stdout",
     "output_type": "stream",
     "text": [
      "True\n"
     ]
    }
   ],
   "source": [
    "spam = {'k1': 2, 'cat': 4}\n",
    "x = 'cat' in spam\n",
    "print(x)"
   ]
  },
  {
   "cell_type": "code",
   "execution_count": 6,
   "id": "7a06fa48",
   "metadata": {},
   "outputs": [
    {
     "name": "stdout",
     "output_type": "stream",
     "text": [
      "True\n"
     ]
    }
   ],
   "source": [
    "y = 'cat' in spam.keys()\n",
    "print(y)"
   ]
  },
  {
   "cell_type": "markdown",
   "id": "e8831f4f",
   "metadata": {},
   "source": [
    "**6. If a dictionary is stored in spam, what is the difference between the expressions 'cat' in spam and\n",
    "'cat' in spam.values()?**\n"
   ]
  },
  {
   "cell_type": "markdown",
   "id": "d10f44bc",
   "metadata": {},
   "source": [
    "* The expressions 'cat' in spam checks whether there is a key \"cat\" in dictionary spam or not.\n",
    "* The expressions 'cat' in spam.values() checks whether there value \"cat\" in spam or not."
   ]
  },
  {
   "cell_type": "code",
   "execution_count": 7,
   "id": "299f9336",
   "metadata": {},
   "outputs": [
    {
     "name": "stdout",
     "output_type": "stream",
     "text": [
      "False\n"
     ]
    }
   ],
   "source": [
    "spam = {'k1': 2, 4: 'cat'}\n",
    "x = 'cat' in spam\n",
    "print(x)"
   ]
  },
  {
   "cell_type": "code",
   "execution_count": 8,
   "id": "fad0fde2",
   "metadata": {},
   "outputs": [
    {
     "name": "stdout",
     "output_type": "stream",
     "text": [
      "True\n"
     ]
    }
   ],
   "source": [
    "y = 'cat' in spam.values()\n",
    "print(y)"
   ]
  },
  {
   "cell_type": "markdown",
   "id": "1672f3bd",
   "metadata": {},
   "source": [
    "**7. What is a shortcut for the following code?**\n",
    "\n",
    "if 'color' not in spam:\n",
    "\n",
    "spam['color'] = black'"
   ]
  },
  {
   "cell_type": "code",
   "execution_count": 9,
   "id": "99f477c5",
   "metadata": {},
   "outputs": [
    {
     "data": {
      "text/plain": [
       "'black'"
      ]
     },
     "execution_count": 9,
     "metadata": {},
     "output_type": "execute_result"
    }
   ],
   "source": [
    "spam.setdefault('color', 'black')"
   ]
  },
  {
   "cell_type": "markdown",
   "id": "3f189e7c",
   "metadata": {},
   "source": [
    "**8. How do you &quot;pretty print&quot; dictionary values using which module and function?**"
   ]
  },
  {
   "cell_type": "code",
   "execution_count": 10,
   "id": "a1ade53b",
   "metadata": {},
   "outputs": [
    {
     "name": "stdout",
     "output_type": "stream",
     "text": [
      "{'k1': 2, 4: 'cat', 'color': 'black'}\n",
      "{4: 'cat', 'color': 'black', 'k1': 2}\n"
     ]
    }
   ],
   "source": [
    "import pprint\n",
    "print(spam)\n",
    "pprint.pprint(spam)"
   ]
  }
 ],
 "metadata": {
  "kernelspec": {
   "display_name": "Python 3 (ipykernel)",
   "language": "python",
   "name": "python3"
  },
  "language_info": {
   "codemirror_mode": {
    "name": "ipython",
    "version": 3
   },
   "file_extension": ".py",
   "mimetype": "text/x-python",
   "name": "python",
   "nbconvert_exporter": "python",
   "pygments_lexer": "ipython3",
   "version": "3.10.9"
  }
 },
 "nbformat": 4,
 "nbformat_minor": 5
}
