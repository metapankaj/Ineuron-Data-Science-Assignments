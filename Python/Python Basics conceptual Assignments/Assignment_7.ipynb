{
 "cells": [
  {
   "cell_type": "markdown",
   "id": "cf5fc8ca",
   "metadata": {},
   "source": [
    "**1. What is the name of the feature responsible for generating Regex objects?**"
   ]
  },
  {
   "cell_type": "markdown",
   "id": "3e85fe08",
   "metadata": {},
   "source": [
    "re.compile() is the feature responsible for generation of Regex objects. In simple terms, We can compile a regular expression into a regex object to look for occurrences of the same pattern inside various target strings without rewriting it."
   ]
  },
  {
   "cell_type": "code",
   "execution_count": 1,
   "id": "f541e447",
   "metadata": {},
   "outputs": [
    {
     "name": "stdout",
     "output_type": "stream",
     "text": [
      "re.compile('some_random_pattern')\n"
     ]
    }
   ],
   "source": [
    "import re\n",
    "x = re.compile(\"some_random_pattern\")\n",
    "type(x)\n",
    "print(x)"
   ]
  },
  {
   "cell_type": "markdown",
   "id": "7cc44518",
   "metadata": {},
   "source": [
    "**2. Why do raw strings often appear in Regex objects?**"
   ]
  },
  {
   "cell_type": "markdown",
   "id": "6ba1285e",
   "metadata": {},
   "source": [
    "Regular expressions use the backslash character ('') to indicate special forms (Metacharacters) or to allow special characters (speical sequences) to be used without invoking their special meaning. This collides with Python’s usage of the same character for the same purpose in string literals. Hence, Raw strings are used (e.g. r\"\\n\") so that backslashes do not have to be escaped."
   ]
  },
  {
   "cell_type": "markdown",
   "id": "33fc77bf",
   "metadata": {},
   "source": [
    "**3. What is the return value of the search() method?**"
   ]
  },
  {
   "cell_type": "markdown",
   "id": "63fddbe5",
   "metadata": {},
   "source": [
    "`The return value of re.search(pattern,string) method is a match object if the pattern is observed in the string else it returns a None`"
   ]
  },
  {
   "cell_type": "code",
   "execution_count": 2,
   "id": "75df3f01",
   "metadata": {},
   "outputs": [
    {
     "name": "stdout",
     "output_type": "stream",
     "text": [
      "None\n"
     ]
    }
   ],
   "source": [
    "import re\n",
    "string = \"Full stack DataScience.\"\n",
    "match = re.search(r'd', string)\n",
    "print(match)"
   ]
  },
  {
   "cell_type": "code",
   "execution_count": 3,
   "id": "ff692178",
   "metadata": {},
   "outputs": [
    {
     "name": "stdout",
     "output_type": "stream",
     "text": [
      "<re.Match object; span=(5, 6), match='s'>\n"
     ]
    }
   ],
   "source": [
    "import re\n",
    "string = \"Full stack DataScience.\"\n",
    "match = re.search(r's', string)\n",
    "print(match)"
   ]
  },
  {
   "cell_type": "markdown",
   "id": "f84a3e1a",
   "metadata": {},
   "source": [
    "**4. From a Match item, how do you get the actual strings that match the pattern?**"
   ]
  },
  {
   "cell_type": "markdown",
   "id": "9ff560ba",
   "metadata": {},
   "source": [
    "`For Matched items group() methods returns actual strings that match the pattern`"
   ]
  },
  {
   "cell_type": "code",
   "execution_count": 4,
   "id": "7298e352",
   "metadata": {},
   "outputs": [
    {
     "name": "stdout",
     "output_type": "stream",
     "text": [
      "Full stack\n"
     ]
    }
   ],
   "source": [
    "import re\n",
    "string = \"Full stack DataScience.\"\n",
    "match = re.search('Full stack', string)\n",
    "print(match.group())"
   ]
  },
  {
   "cell_type": "markdown",
   "id": "0d613ba7",
   "metadata": {},
   "source": [
    "**5. In the regex which created from the r&#39;(\\d\\d\\d)-(\\d\\d\\d-\\d\\d\\d\\d)&#39;, what does group zero cover?\n",
    "Group 2? Group 1?**"
   ]
  },
  {
   "cell_type": "markdown",
   "id": "bcf61c96",
   "metadata": {},
   "source": [
    " `In the Regex r'(\\d\\d\\d)-(\\d\\d\\d-\\d\\d\\d\\d)' the zero group covers the entire pattern match where as the first group cover (\\d\\d\\d) and the second group cover (\\d\\d\\d-\\d\\d\\d\\d)`"
   ]
  },
  {
   "cell_type": "code",
   "execution_count": 5,
   "id": "d31bd823",
   "metadata": {},
   "outputs": [
    {
     "name": "stdout",
     "output_type": "stream",
     "text": [
      "('342', '568-7292')\n",
      "342-568-7292\n",
      "342\n",
      "568-7292\n"
     ]
    }
   ],
   "source": [
    "import re\n",
    "NumRegex = re.compile(r'(\\d\\d\\d)-(\\d\\d\\d-\\d\\d\\d\\d)')\n",
    "m = NumRegex.search('My number is 342-568-7292.')\n",
    "print(m.groups()) # Prints all groups in a tuple format\n",
    "print(m.group()) # Always returns the fully matched string \n",
    "print(m.group(1)) # Returns the first group\n",
    "print(m.group(2)) # Returns the second group"
   ]
  },
  {
   "cell_type": "markdown",
   "id": "8ac6a522",
   "metadata": {},
   "source": [
    "**6. In standard expression syntax, parentheses and intervals have distinct meanings. How can you tell\n",
    "a regex that you want it to fit real parentheses and periods?**"
   ]
  },
  {
   "cell_type": "markdown",
   "id": "d85ee02b",
   "metadata": {},
   "source": [
    "`The \\. \\( and \\ ) escape characters in the raw string passed to re.compile() will match actual parenthesis characters.`"
   ]
  },
  {
   "cell_type": "code",
   "execution_count": 6,
   "id": "eafad0f0",
   "metadata": {},
   "outputs": [
    {
     "name": "stdout",
     "output_type": "stream",
     "text": [
      "(000) 000-0000\n"
     ]
    }
   ],
   "source": [
    "import re\n",
    "Regex = re.compile(r'(\\(\\d\\d\\d\\)) (\\d\\d\\d-\\d\\d\\d\\d)')\n",
    "m = Regex.search('My phone number is (000) 000-0000.')\n",
    "print(m.group())"
   ]
  },
  {
   "cell_type": "markdown",
   "id": "2ccd1f37",
   "metadata": {},
   "source": [
    "**7. The findall() method returns a string list or a list of string tuples. What causes it to return one of\n",
    "the two options?**"
   ]
  },
  {
   "cell_type": "markdown",
   "id": "8bb3b783",
   "metadata": {},
   "source": [
    "`If the regex pattern has no groups, a list of strings matched is returned. if the regex pattern has groups, a list of tuple of strings is returned.`"
   ]
  },
  {
   "cell_type": "code",
   "execution_count": 7,
   "id": "c24c07d4",
   "metadata": {},
   "outputs": [
    {
     "name": "stdout",
     "output_type": "stream",
     "text": [
      "['123-456-7890', '987-654-3210']\n"
     ]
    }
   ],
   "source": [
    "import re\n",
    " \n",
    "# A sample text string where regular expression\n",
    "# is searched.\n",
    "string = \"\"\"Hello my Number is 123-456-7890 and\n",
    "            my friend's number is 987-654-3210\"\"\"\n",
    " \n",
    "# A sample regular expression to find digits.\n",
    "regex = '\\d{3}-\\d{3}-\\d{4}'\n",
    " \n",
    "match = re.findall(regex, string)\n",
    "print(match)"
   ]
  },
  {
   "cell_type": "markdown",
   "id": "318c0153",
   "metadata": {},
   "source": [
    "**8. In standard expressions, what does the | character mean?**"
   ]
  },
  {
   "cell_type": "markdown",
   "id": "94670bb1",
   "metadata": {},
   "source": [
    "In Standard Expressions | means OR operator."
   ]
  },
  {
   "cell_type": "markdown",
   "id": "71a45df8",
   "metadata": {},
   "source": [
    "**9. In regular expressions, what does the character stand for?**"
   ]
  },
  {
   "cell_type": "markdown",
   "id": "3b354b6e",
   "metadata": {},
   "source": [
    " In regular Expressions, ? characters represents zero or one match of the preceeding group."
   ]
  },
  {
   "cell_type": "code",
   "execution_count": 8,
   "id": "762a353c",
   "metadata": {},
   "outputs": [
    {
     "name": "stdout",
     "output_type": "stream",
     "text": [
      "<re.Match object; span=(0, 7), match='Ineuron'>\n",
      "<re.Match object; span=(0, 7), match='Ineuron'>\n"
     ]
    }
   ],
   "source": [
    "import re\n",
    "match_1 = re.search(\"I(ne)?uron\", \"Ineuron Datascience\")\n",
    "print(match_1)\n",
    "match_2 = re.search(\"I(ne)?uron\", \"Ineuron Datascience\")\n",
    "print(match_2)"
   ]
  },
  {
   "cell_type": "markdown",
   "id": "584f1e37",
   "metadata": {},
   "source": [
    "**10.In regular expressions, what is the difference between the + and * characters?**"
   ]
  },
  {
   "cell_type": "markdown",
   "id": "a7b245eb",
   "metadata": {},
   "source": [
    " In Regular Expressions, * Represents Zero ore more occurances of the preceeding group, whereas + represents one or more occurances of the preceeding group."
   ]
  },
  {
   "cell_type": "code",
   "execution_count": 9,
   "id": "a3a01b5f",
   "metadata": {},
   "outputs": [
    {
     "name": "stdout",
     "output_type": "stream",
     "text": [
      "<re.Match object; span=(0, 7), match='Ineuron'>\n",
      "None\n"
     ]
    }
   ],
   "source": [
    "import re\n",
    "match_1 = re.search(\"I(ne)*uron\", \"Ineuron Datascience\")\n",
    "print(match_1)\n",
    "match_2 = re.search(\"I(ne)+uron\", \"Datascience\")\n",
    "print(match_2)"
   ]
  },
  {
   "cell_type": "markdown",
   "id": "46548825",
   "metadata": {},
   "source": [
    "**11. What is the difference between {4} and {4,5} in regular expression?**"
   ]
  },
  {
   "cell_type": "markdown",
   "id": "4020caba",
   "metadata": {},
   "source": [
    " {4} means that its preceeding group should repeat 4 times. where as {4,5} means that its preceeding group should repeat mininum 4 times and maximum 5 times inclusively"
   ]
  },
  {
   "cell_type": "code",
   "execution_count": 10,
   "id": "7f0fef95",
   "metadata": {},
   "outputs": [
    {
     "name": "stdout",
     "output_type": "stream",
     "text": [
      "None\n",
      "<re.Match object; span=(0, 4), match='1111'>\n",
      "<re.Match object; span=(0, 5), match='11111'>\n"
     ]
    }
   ],
   "source": [
    "import re\n",
    "regop = re.compile(r\"(1){4,5}\")\n",
    "t = regop.search('1')\n",
    "print(t)\n",
    "t1 = regop.search('1111')\n",
    "print(t1)\n",
    "t2 = regop.search('111111')\n",
    "print(t2)"
   ]
  },
  {
   "cell_type": "markdown",
   "id": "8fa8f76b",
   "metadata": {},
   "source": [
    "**12. What do you mean by the \\d, \\w, and \\s shorthand character classes signify in regular\n",
    "expressions?**"
   ]
  },
  {
   "cell_type": "markdown",
   "id": "a5c37678",
   "metadata": {},
   "source": [
    "\\d, \\w and \\s are special sequences in regular expresssions in python:\n",
    "\n",
    "<br>1. **\\d** : Matches a digit character equivalent to [0-9]\n",
    "<br>2. **\\w** : Matches a word character equivalent to [a-zA-Z0-9]\n",
    "<br>3. **\\s** : Matches whitespace character (space, tab, newline, etc.)\n"
   ]
  },
  {
   "cell_type": "markdown",
   "id": "a4674055",
   "metadata": {},
   "source": [
    "**13. What do means by \\D, \\W, and \\S shorthand character classes signify in regular expressions?**"
   ]
  },
  {
   "cell_type": "markdown",
   "id": "50b36b2f",
   "metadata": {},
   "source": [
    "\\D, \\W and \\S are special sequences in regular expresssions in python:\n",
    "\n",
    "<br>1. **\\D** : Matches any non-digit character, this is equivalent to the set class [^0-9]\n",
    "<br>2.**\\W** : Matches any non-alphanumeric character equivalent to [^a-zA-Z0-9_]\n",
    "<br>3. **\\S** : Matches any non-whitespace character"
   ]
  },
  {
   "cell_type": "markdown",
   "id": "f454076a",
   "metadata": {},
   "source": [
    "**14. What is the difference between `.*? `and `.*`?**"
   ]
  },
  {
   "cell_type": "markdown",
   "id": "ee45edae",
   "metadata": {},
   "source": [
    "`.*` is a Greedy mode, which returns the longest string that meets the condition.\n",
    "Whereas `.*? `is a non greedy mode which returns the shortest string that meets the condition."
   ]
  },
  {
   "cell_type": "markdown",
   "id": "5143d65f",
   "metadata": {},
   "source": [
    "**15. What is the syntax for matching both numbers and lowercase letters with a character class?**"
   ]
  },
  {
   "cell_type": "markdown",
   "id": "5d30047e",
   "metadata": {},
   "source": [
    "The Synatax is Either [a-z0-9] or [0-9a-z]"
   ]
  },
  {
   "cell_type": "markdown",
   "id": "a35f45e1",
   "metadata": {},
   "source": [
    "**16. What is the procedure for making a normal expression in regax case insensitive?**"
   ]
  },
  {
   "cell_type": "markdown",
   "id": "7e0a5b38",
   "metadata": {},
   "source": [
    "We can pass re.IGNORECASE as a flag to make a normal expression case insensitive."
   ]
  },
  {
   "cell_type": "markdown",
   "id": "9aaa13e0",
   "metadata": {},
   "source": [
    "**17. What does the . character normally match? What does it match if re.DOTALL is passed as 2nd\n",
    "argument in re.compile()?**"
   ]
  },
  {
   "cell_type": "markdown",
   "id": "791ce3a2",
   "metadata": {},
   "source": [
    "**Dot** . character matches everything in input except newline character .. By passing **re.DOTALL** as a flag to re.compile(), you can make the dot character match all characters, including the newline character."
   ]
  },
  {
   "cell_type": "markdown",
   "id": "f8b25381",
   "metadata": {},
   "source": [
    "**18. If numReg = re.compile(r'\\d+'), what will numRegex.sub(X', '11 drummers, 10 pipers, five rings, 4\n",
    "hen') return?**"
   ]
  },
  {
   "cell_type": "markdown",
   "id": "6f52946a",
   "metadata": {},
   "source": [
    "The Ouput will be `'X drummers, X pipers, five rings, X hen'`"
   ]
  },
  {
   "cell_type": "code",
   "execution_count": 11,
   "id": "dfc3be23",
   "metadata": {},
   "outputs": [
    {
     "data": {
      "text/plain": [
       "'X drummers, X pipers, five rings, X hen'"
      ]
     },
     "execution_count": 11,
     "metadata": {},
     "output_type": "execute_result"
    }
   ],
   "source": [
    "import re\n",
    "numReg = re.compile(r'\\d+')\n",
    "numReg.sub('X', '11 drummers, 10 pipers, five rings, 4 hen')"
   ]
  },
  {
   "cell_type": "markdown",
   "id": "d6bef0ba",
   "metadata": {},
   "source": [
    "**19. What does passing re.VERBOSE as the 2nd argument to re.compile() allow to do?**"
   ]
  },
  {
   "cell_type": "markdown",
   "id": "0b55af0a",
   "metadata": {},
   "source": [
    " **re.VERBOSE** will allow to add whitespace and comments to string passed to re.compile()."
   ]
  },
  {
   "cell_type": "code",
   "execution_count": 12,
   "id": "1006c596",
   "metadata": {},
   "outputs": [],
   "source": [
    "import re\n",
    "a = re.compile(r\"\"\"\\d +  # the integral part\n",
    "                   \\.    # the decimal point\n",
    "                   \\d *  # some fractional digits\"\"\", re.X)\n",
    "b = re.compile(r\"\\d+\\.\\d*\")"
   ]
  },
  {
   "cell_type": "markdown",
   "id": "6d073175",
   "metadata": {},
   "source": [
    "**20. How would you write a regex that match a number with comma for every three digits? It must\n",
    "match the given following:**\n",
    "\n",
    "<br>'42'\n",
    "<br>'1,234'\n",
    "<br>'6,368,745'\n",
    "<br>but not the following:\n",
    "<br>'12,34,567' (which has only two digits between the commas)\n",
    "<br>'1234' (which lacks commas)"
   ]
  },
  {
   "cell_type": "code",
   "execution_count": 13,
   "id": "0ef9940f",
   "metadata": {},
   "outputs": [
    {
     "name": "stdout",
     "output_type": "stream",
     "text": [
      "42 -> <re.Match object; span=(0, 2), match='42'>\n",
      "1,234 -> <re.Match object; span=(0, 5), match='1,234'>\n",
      "6,368,745 -> <re.Match object; span=(0, 9), match='6,368,745'>\n",
      "12,34,567 -> None\n",
      "1234 -> None\n"
     ]
    }
   ],
   "source": [
    "import re\n",
    "pattern = r'^\\d{1,3}(,\\d{3})*$'\n",
    "regexp = re.compile(pattern)\n",
    "for ele in ['42','1,234', '6,368,745','12,34,567','1234']:\n",
    "    print(ele, '->', regexp.search(ele))"
   ]
  },
  {
   "cell_type": "markdown",
   "id": "f01f079f",
   "metadata": {},
   "source": [
    "**21. How would you write a regex that matches the full name of someone whose last name is\n",
    "Watanabe? You can assume that the first name that comes before it will always be one word that\n",
    "begins with a capital letter.**\n",
    "\n",
    "<br>The regex must match the following:\n",
    "<br>'Haruto Watanabe'\n",
    "<br>'Alice Watanabe'\n",
    "<br>'RoboCop Watanabe'\n",
    "\n",
    "<br>but not the following:\n",
    "\n",
    "<br>'haruto Watanabe' (where the first name is not capitalized)\n",
    "<br>'Mr. Watanabe' (where the preceding word has a nonletter character)\n",
    "<br>'Watanabe' (which has no first name)\n",
    "<br>'Haruto watanabe' (where Watanabe is not capitalized)"
   ]
  },
  {
   "cell_type": "code",
   "execution_count": 14,
   "id": "b021fc74",
   "metadata": {},
   "outputs": [
    {
     "name": "stdout",
     "output_type": "stream",
     "text": [
      "Haruto Watanabe -> <re.Match object; span=(0, 15), match='Haruto Watanabe'>\n",
      "Alice Watanabe -> <re.Match object; span=(0, 14), match='Alice Watanabe'>\n",
      "RoboCop Watanabe -> <re.Match object; span=(4, 16), match='Cop Watanabe'>\n",
      "haruto Watanabe -> None\n",
      "Mr. Watanabe -> None\n",
      "Watanabe -> None\n",
      "Haruto watanabe -> None\n"
     ]
    }
   ],
   "source": [
    "import re\n",
    "pattern = r'[A-Z]{1}[a-z]*\\sWatanabe'\n",
    "namexp = re.compile(pattern)\n",
    "for name in ['Haruto Watanabe','Alice Watanabe','RoboCop Watanabe','haruto Watanabe','Mr. Watanabe','Watanabe','Haruto watanabe']:\n",
    "    print(name,'->',namexp.search(name))"
   ]
  },
  {
   "cell_type": "markdown",
   "id": "c4b98efd",
   "metadata": {},
   "source": [
    "**22. How would you write a regex that matches a sentence where the first word is either Alice, Bob,\n",
    "or Carol; the second word is either eats, pets, or throws; the third word is apples, cats, or baseballs;\n",
    "and the sentence ends with a period? This regex should be case-insensitive.**\n",
    "\n",
    "<br>It must match the following:\n",
    "    \n",
    "<br>'Alice eats apples.'\n",
    "<br>'Bob pets cats.'\n",
    "<br>'Carol throws baseballs.'\n",
    "<br>'Alice throws Apples.'\n",
    "<br>'BOB EATS CATS.'\n",
    "\n",
    "<br>but not the following:\n",
    "\n",
    "<br>'RoboCop eats apples.'\n",
    "<br>'ALICE THROWS FOOTBALLS.'\n",
    "<br>'Carol eats 7 cats.'"
   ]
  },
  {
   "cell_type": "code",
   "execution_count": 15,
   "id": "37e45afb",
   "metadata": {},
   "outputs": [
    {
     "name": "stdout",
     "output_type": "stream",
     "text": [
      "Alice eats apples. -> <re.Match object; span=(0, 18), match='Alice eats apples.'>\n",
      "Bob pets cats. -> <re.Match object; span=(0, 14), match='Bob pets cats.'>\n",
      "Carol throws baseballs. -> <re.Match object; span=(0, 23), match='Carol throws baseballs.'>\n",
      "Alice throws Apples. -> <re.Match object; span=(0, 20), match='Alice throws Apples.'>\n",
      "BOB EATS CATS. -> <re.Match object; span=(0, 14), match='BOB EATS CATS.'>\n",
      "RoboCop eats apples. -> None\n",
      "ALICE THROWS FOOTBALLS. -> None\n",
      "Carol eats 7 cats. -> None\n"
     ]
    }
   ],
   "source": [
    "import re\n",
    "pattern = r'(Alice|Bob|Carol)\\s(eats|pets|throws)\\s(apples|cats|baseballs)\\.'\n",
    "namexp = re.compile(pattern,re.IGNORECASE)\n",
    "for name in ['Alice eats apples.','Bob pets cats.','Carol throws baseballs.','Alice throws Apples.','BOB EATS CATS.','RoboCop eats apples.'\n",
    ",'ALICE THROWS FOOTBALLS.','Carol eats 7 cats.']:\n",
    "    print(name,'->',namexp.search(name))"
   ]
  }
 ],
 "metadata": {
  "kernelspec": {
   "display_name": "Python 3 (ipykernel)",
   "language": "python",
   "name": "python3"
  },
  "language_info": {
   "codemirror_mode": {
    "name": "ipython",
    "version": 3
   },
   "file_extension": ".py",
   "mimetype": "text/x-python",
   "name": "python",
   "nbconvert_exporter": "python",
   "pygments_lexer": "ipython3",
   "version": "3.10.9"
  }
 },
 "nbformat": 4,
 "nbformat_minor": 5
}
