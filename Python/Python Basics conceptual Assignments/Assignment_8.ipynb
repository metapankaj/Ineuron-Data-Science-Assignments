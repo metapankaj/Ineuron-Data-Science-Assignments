{
 "cells": [
  {
   "cell_type": "markdown",
   "id": "9ed8592f",
   "metadata": {},
   "source": [
    "**1. Is the Python Standard Library included with PyInputPlus?**\n"
   ]
  },
  {
   "cell_type": "markdown",
   "id": "33561f37",
   "metadata": {},
   "source": [
    "No, PyInputPlus is not a part of Python Standard Library, it needs to be installed explicitly using the command !pip install PyInputPlus"
   ]
  },
  {
   "cell_type": "markdown",
   "id": "f27beb1c",
   "metadata": {},
   "source": [
    "**2. Why is PyInputPlus commonly imported with import pyinputplus as pypi?**\n"
   ]
  },
  {
   "cell_type": "markdown",
   "id": "1155f510",
   "metadata": {},
   "source": [
    "We can import the module with import pyinputplus as pyip so that we can enter a shorter name when we are calling the module's functions."
   ]
  },
  {
   "cell_type": "markdown",
   "id": "6fca5712",
   "metadata": {},
   "source": [
    "**3. How do you distinguish between inputInt() and inputFloat()?**\n"
   ]
  },
  {
   "cell_type": "markdown",
   "id": "2484c490",
   "metadata": {},
   "source": [
    "* **inputInt()** function Accepts an **integer value.** This also takes additional parameters **min, max, greaterThan and lessThan** for bounds. It always returns an int.\n",
    "\n",
    "* Whereas **inputFloat()** function Accepts a **floating-point numeric value.** This also takes additional **min, max, greaterThan and lessThan** parameters. It always returns a float."
   ]
  },
  {
   "cell_type": "markdown",
   "id": "521a401e",
   "metadata": {},
   "source": [
    "**4. Using PyInputPlus, how do you ensure that the user enters a whole number between 0 and 99?**"
   ]
  },
  {
   "cell_type": "markdown",
   "id": "d832c9d3",
   "metadata": {},
   "source": [
    "PyInputPlus module provides a function called as inputInt() which only returns only integer values. Inorder to restrict the input between 0 and 99, it will use parameters like min & max to ensure that user enters the values between the defined range only."
   ]
  },
  {
   "cell_type": "code",
   "execution_count": 1,
   "id": "d380648a",
   "metadata": {},
   "outputs": [
    {
     "name": "stdout",
     "output_type": "stream",
     "text": [
      "Enter a number: 5\n",
      "5 is a whole number \n"
     ]
    }
   ],
   "source": [
    "import pyinputplus as pyip\n",
    "number = pyip.inputInt(prompt='Enter a number: ', min=0, max=100)\n",
    "print(f\"{number} is a whole number \")"
   ]
  },
  {
   "cell_type": "markdown",
   "id": "4db5e00e",
   "metadata": {},
   "source": [
    "**5. What is transferred to the keyword arguments allowRegexes and blockRegexes?**"
   ]
  },
  {
   "cell_type": "markdown",
   "id": "69f3883f",
   "metadata": {},
   "source": [
    "we can use **allowRegexes** and **blockRegexes** keyword arguments to take list of regular expression strings to determine what the pyinputplus function will reject or accept valid input."
   ]
  },
  {
   "cell_type": "markdown",
   "id": "7ed276b0",
   "metadata": {},
   "source": [
    "**6. If a blank input is entered three times, what does inputStr(limit=3) do?**"
   ]
  },
  {
   "cell_type": "markdown",
   "id": "876909cc",
   "metadata": {},
   "source": [
    "The statement **inputStr(limit=3)** will throw two exceptions **ValidationException and RetryLimitException.** The first exception is thrown because blank values are not allowed by **inputStr()** function by default. If we want to consider blank values as valid input, we have to set **blank=True.**\n",
    "\n",
    "The second exception is occured because we have reached the max limit we have specified by using limit parameter. Inorder to avoid this exception we can use default parameter to return a default value when max limit is reached."
   ]
  },
  {
   "cell_type": "markdown",
   "id": "6df26083",
   "metadata": {},
   "source": [
    "**7. If blank input is entered three times, what does inputStr(limit=3, default='hello') do?**"
   ]
  },
  {
   "cell_type": "markdown",
   "id": "71141b36",
   "metadata": {},
   "source": [
    "Since the default parameter is set to hello. After blank input is entered three times instead of raising **RetryLimitException** exception. the function will return hello as response to the calling function"
   ]
  }
 ],
 "metadata": {
  "kernelspec": {
   "display_name": "Python 3 (ipykernel)",
   "language": "python",
   "name": "python3"
  },
  "language_info": {
   "codemirror_mode": {
    "name": "ipython",
    "version": 3
   },
   "file_extension": ".py",
   "mimetype": "text/x-python",
   "name": "python",
   "nbconvert_exporter": "python",
   "pygments_lexer": "ipython3",
   "version": "3.10.9"
  }
 },
 "nbformat": 4,
 "nbformat_minor": 5
}
