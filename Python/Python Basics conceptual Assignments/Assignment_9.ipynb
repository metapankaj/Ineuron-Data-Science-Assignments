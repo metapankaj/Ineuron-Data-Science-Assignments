{
 "cells": [
  {
   "cell_type": "markdown",
   "id": "6a70bf43",
   "metadata": {},
   "source": [
    "**1. To what does a relative path refer?**"
   ]
  },
  {
   "cell_type": "markdown",
   "id": "96e81aca",
   "metadata": {},
   "source": [
    "`A relative path refers to a file or directory location that is specified relative to the current working directory or the location of another file or directory.`"
   ]
  },
  {
   "cell_type": "markdown",
   "id": "7ce09f88",
   "metadata": {},
   "source": [
    "**2. What does an absolute path start with your operating system?**"
   ]
  },
  {
   "cell_type": "markdown",
   "id": "1f706760",
   "metadata": {},
   "source": [
    "The absolute path in an operating system typically `starts with the root directory`"
   ]
  },
  {
   "cell_type": "markdown",
   "id": "91ee1613",
   "metadata": {},
   "source": [
    "**3. What do the functions os.getcwd() and os.chdir() do?**"
   ]
  },
  {
   "cell_type": "markdown",
   "id": "78ff5ce8",
   "metadata": {},
   "source": [
    "**os.getcwd()**: This function `returns the current working directory (CWD)` as a string. The current working directory is the directory in which the Python script is currently executing."
   ]
  },
  {
   "cell_type": "markdown",
   "id": "fbe5af82",
   "metadata": {},
   "source": [
    "**os.chdir(path)**: This function `changes the current working directory to the specified path.`"
   ]
  },
  {
   "cell_type": "markdown",
   "id": "bbc374c1",
   "metadata": {},
   "source": [
    "**4. What are the . and .. folders?**"
   ]
  },
  {
   "cell_type": "markdown",
   "id": "2bb50008",
   "metadata": {},
   "source": [
    "**`.` (dot)**:\n",
    "<br>The `.` directory represents the current directory. It is used to refer to the current location or directory in file system operations. "
   ]
  },
  {
   "cell_type": "markdown",
   "id": "344dd0e8",
   "metadata": {},
   "source": [
    "**`..` (dot-dot)**:\n",
    "<br>The `..` directory represents the parent directory. It is used to refer to the directory that contains the current directory"
   ]
  },
  {
   "cell_type": "markdown",
   "id": "ba7e0527",
   "metadata": {},
   "source": [
    "**5. In C:\\bacon\\eggs\\spam.txt, which part is the dir name, and which part is the base name?**"
   ]
  },
  {
   "cell_type": "markdown",
   "id": "e298fed8",
   "metadata": {},
   "source": [
    "* The `directory name (dir name)` is \"C:\\bacon\\eggs\".\n",
    "* The `base name `is \"spam.txt\". "
   ]
  },
  {
   "cell_type": "markdown",
   "id": "30c9ce1f",
   "metadata": {},
   "source": [
    "**6. What are the three “mode” arguments that can be passed to the open() function?**"
   ]
  },
  {
   "cell_type": "markdown",
   "id": "f951939c",
   "metadata": {},
   "source": [
    "The open() function in Python can take the following three \"mode\" arguments:\n",
    "* Read mode ('r')\n",
    "* Write mode ('w')\n",
    "* Append mode ('a')"
   ]
  },
  {
   "cell_type": "markdown",
   "id": "0c32737d",
   "metadata": {},
   "source": [
    "**7. What happens if an existing file is opened in write mode?**"
   ]
  },
  {
   "cell_type": "markdown",
   "id": "a3187282",
   "metadata": {},
   "source": [
    "This will overwrite any existing content in a file. If the given file does not exist, a new one will be created"
   ]
  },
  {
   "cell_type": "markdown",
   "id": "45f154d1",
   "metadata": {},
   "source": [
    "**8. How do you tell the difference between read() and readlines()?**"
   ]
  },
  {
   "cell_type": "markdown",
   "id": "c4a1dc37",
   "metadata": {},
   "source": [
    "**read():**\n",
    "\n",
    "* The read() method is used to read the entire contents of a file as a single string.\n",
    "* It reads from the current file position until the end of the file or until a specified number of characters (if an argument is provided).\n",
    "* If no argument is given, it reads the entire file.\n",
    "* The returned value is a string containing the entire contents of the file."
   ]
  },
  {
   "cell_type": "markdown",
   "id": "024c39d3",
   "metadata": {},
   "source": [
    "**readlines():**\n",
    "\n",
    "* The readlines() method is used to read the contents of a file line by line and returns a list of strings.\n",
    "* It reads from the current file position until the end of the file.\n",
    "* Each line in the file becomes an element in the returned list.\n",
    "* The newline characters (\\n) at the end of each line are preserved in the strings."
   ]
  },
  {
   "cell_type": "markdown",
   "id": "10cef16d",
   "metadata": {},
   "source": [
    "**9. What data structure does a shelf value resemble?**"
   ]
  },
  {
   "cell_type": "markdown",
   "id": "23a227a8",
   "metadata": {},
   "source": [
    "A shelf value in Python resembles `a dictionary-like structure `but with the additional ability to store and retrieve data persistently."
   ]
  }
 ],
 "metadata": {
  "kernelspec": {
   "display_name": "Python 3 (ipykernel)",
   "language": "python",
   "name": "python3"
  },
  "language_info": {
   "codemirror_mode": {
    "name": "ipython",
    "version": 3
   },
   "file_extension": ".py",
   "mimetype": "text/x-python",
   "name": "python",
   "nbconvert_exporter": "python",
   "pygments_lexer": "ipython3",
   "version": "3.10.9"
  }
 },
 "nbformat": 4,
 "nbformat_minor": 5
}
